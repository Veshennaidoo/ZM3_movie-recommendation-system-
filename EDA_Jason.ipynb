{
  "nbformat": 4,
  "nbformat_minor": 0,
  "metadata": {
    "colab": {
      "name": "EDA_Jason.ipynb",
      "provenance": [],
      "collapsed_sections": [
        "hvto748Sp0tD",
        "KG14KyLepZz_",
        "ciHWrmZTuJes",
        "BUkQF_bwxWxZ",
        "jjR4QzggBZlz",
        "d9i7MYPYgFtU"
      ]
    },
    "kernelspec": {
      "name": "python3",
      "display_name": "Python 3"
    },
    "language_info": {
      "name": "python"
    }
  },
  "cells": [
    {
      "cell_type": "markdown",
      "metadata": {
        "id": "f--jRgV-ojBs"
      },
      "source": [
        "THIS GOOGLE COLAB NOTEBOOK IS PRIMARILY FOR DATA CLEANING AND EDA IN THE UNSUPERVISED EDSA PREDICT"
      ]
    },
    {
      "cell_type": "markdown",
      "metadata": {
        "id": "DXnV9OPhowvo"
      },
      "source": [
        "# MOUNTING GOOGLE DRIVE TO COLAB NOTEBOOK"
      ]
    },
    {
      "cell_type": "code",
      "metadata": {
        "colab": {
          "base_uri": "https://localhost:8080/"
        },
        "id": "KJBrIybV04kI",
        "outputId": "50a774ac-6d4b-41d5-b271-d434dff26f6f"
      },
      "source": [
        "from google.colab import drive\n",
        "drive.mount('/content/drive/')"
      ],
      "execution_count": 1,
      "outputs": [
        {
          "output_type": "stream",
          "text": [
            "Mounted at /content/drive/\n"
          ],
          "name": "stdout"
        }
      ]
    },
    {
      "cell_type": "markdown",
      "metadata": {
        "id": "hvto748Sp0tD"
      },
      "source": [
        "# IMPORTING PACKAGES"
      ]
    },
    {
      "cell_type": "code",
      "metadata": {
        "id": "tKmlwO_n1tQn"
      },
      "source": [
        "import numpy as np\n",
        "import pandas as pd\n",
        "import matplotlib.pyplot as plt\n",
        "import seaborn as sns\n",
        "%matplotlib inline\n",
        "\n",
        "import re"
      ],
      "execution_count": 103,
      "outputs": []
    },
    {
      "cell_type": "markdown",
      "metadata": {
        "id": "KG14KyLepZz_"
      },
      "source": [
        "# READING IN CSV FILES AND INITIAL FILE INSPECTION:"
      ]
    },
    {
      "cell_type": "code",
      "metadata": {
        "execution": {
          "iopub.execute_input": "2021-07-02T10:34:09.605597Z",
          "iopub.status.busy": "2021-07-02T10:34:09.604988Z",
          "iopub.status.idle": "2021-07-02T10:34:28.829106Z",
          "shell.execute_reply": "2021-07-02T10:34:28.828318Z",
          "shell.execute_reply.started": "2021-07-02T10:34:09.605545Z"
        },
        "id": "Liu1U0iWQAuJ",
        "trusted": true
      },
      "source": [
        "df_sample_submission = pd.read_csv('/content/drive/My Drive/ColabNotebooks/sample_submission.csv')\n",
        "df_movies = pd.read_csv('/content/drive/My Drive/ColabNotebooks/movies.csv')\n",
        "df_imdb = pd.read_csv('/content/drive/My Drive/ColabNotebooks/imdb_data.csv')\n",
        "df_genome_scores = pd.read_csv('/content/drive/My Drive/ColabNotebooks/genome_scores.csv')\n",
        "df_genome_tags = pd.read_csv('/content/drive/My Drive/ColabNotebooks/genome_tags.csv')\n",
        "df_train = pd.read_csv('/content/drive/My Drive/ColabNotebooks/train.csv')\n",
        "df_test = pd.read_csv('/content/drive/My Drive/ColabNotebooks/test.csv')\n",
        "df_tags = pd.read_csv('/content/drive/My Drive/ColabNotebooks/tags.csv')\n",
        "df_links = pd.read_csv('/content/drive/My Drive/ColabNotebooks/links.csv')"
      ],
      "execution_count": 104,
      "outputs": []
    },
    {
      "cell_type": "markdown",
      "metadata": {
        "id": "WrqXa3FarX0n"
      },
      "source": [
        "MOVIES DATAFRAME:"
      ]
    },
    {
      "cell_type": "code",
      "metadata": {
        "colab": {
          "base_uri": "https://localhost:8080/",
          "height": 0
        },
        "id": "i4CKdVN767TY",
        "outputId": "ca3753b7-4b84-4fff-9392-74404a16fbe2"
      },
      "source": [
        "df_movies.head()"
      ],
      "execution_count": 105,
      "outputs": [
        {
          "output_type": "execute_result",
          "data": {
            "text/html": [
              "<div>\n",
              "<style scoped>\n",
              "    .dataframe tbody tr th:only-of-type {\n",
              "        vertical-align: middle;\n",
              "    }\n",
              "\n",
              "    .dataframe tbody tr th {\n",
              "        vertical-align: top;\n",
              "    }\n",
              "\n",
              "    .dataframe thead th {\n",
              "        text-align: right;\n",
              "    }\n",
              "</style>\n",
              "<table border=\"1\" class=\"dataframe\">\n",
              "  <thead>\n",
              "    <tr style=\"text-align: right;\">\n",
              "      <th></th>\n",
              "      <th>movieId</th>\n",
              "      <th>title</th>\n",
              "      <th>genres</th>\n",
              "    </tr>\n",
              "  </thead>\n",
              "  <tbody>\n",
              "    <tr>\n",
              "      <th>0</th>\n",
              "      <td>1</td>\n",
              "      <td>Toy Story (1995)</td>\n",
              "      <td>Adventure|Animation|Children|Comedy|Fantasy</td>\n",
              "    </tr>\n",
              "    <tr>\n",
              "      <th>1</th>\n",
              "      <td>2</td>\n",
              "      <td>Jumanji (1995)</td>\n",
              "      <td>Adventure|Children|Fantasy</td>\n",
              "    </tr>\n",
              "    <tr>\n",
              "      <th>2</th>\n",
              "      <td>3</td>\n",
              "      <td>Grumpier Old Men (1995)</td>\n",
              "      <td>Comedy|Romance</td>\n",
              "    </tr>\n",
              "    <tr>\n",
              "      <th>3</th>\n",
              "      <td>4</td>\n",
              "      <td>Waiting to Exhale (1995)</td>\n",
              "      <td>Comedy|Drama|Romance</td>\n",
              "    </tr>\n",
              "    <tr>\n",
              "      <th>4</th>\n",
              "      <td>5</td>\n",
              "      <td>Father of the Bride Part II (1995)</td>\n",
              "      <td>Comedy</td>\n",
              "    </tr>\n",
              "  </tbody>\n",
              "</table>\n",
              "</div>"
            ],
            "text/plain": [
              "   movieId  ...                                       genres\n",
              "0        1  ...  Adventure|Animation|Children|Comedy|Fantasy\n",
              "1        2  ...                   Adventure|Children|Fantasy\n",
              "2        3  ...                               Comedy|Romance\n",
              "3        4  ...                         Comedy|Drama|Romance\n",
              "4        5  ...                                       Comedy\n",
              "\n",
              "[5 rows x 3 columns]"
            ]
          },
          "metadata": {
            "tags": []
          },
          "execution_count": 105
        }
      ]
    },
    {
      "cell_type": "code",
      "metadata": {
        "colab": {
          "base_uri": "https://localhost:8080/"
        },
        "id": "cLdNmZsssTKg",
        "outputId": "563b2964-988f-4a41-eb8b-2029a5e38e67"
      },
      "source": [
        "df_movies.info()"
      ],
      "execution_count": 106,
      "outputs": [
        {
          "output_type": "stream",
          "text": [
            "<class 'pandas.core.frame.DataFrame'>\n",
            "RangeIndex: 62423 entries, 0 to 62422\n",
            "Data columns (total 3 columns):\n",
            " #   Column   Non-Null Count  Dtype \n",
            "---  ------   --------------  ----- \n",
            " 0   movieId  62423 non-null  int64 \n",
            " 1   title    62423 non-null  object\n",
            " 2   genres   62423 non-null  object\n",
            "dtypes: int64(1), object(2)\n",
            "memory usage: 1.4+ MB\n"
          ],
          "name": "stdout"
        }
      ]
    },
    {
      "cell_type": "code",
      "metadata": {
        "colab": {
          "base_uri": "https://localhost:8080/"
        },
        "id": "5FHrpiLUyGY0",
        "outputId": "24cebd26-fe90-4fb7-ad2c-7119d042bb7f"
      },
      "source": [
        "df_movies.isnull().sum()"
      ],
      "execution_count": 107,
      "outputs": [
        {
          "output_type": "execute_result",
          "data": {
            "text/plain": [
              "movieId    0\n",
              "title      0\n",
              "genres     0\n",
              "dtype: int64"
            ]
          },
          "metadata": {
            "tags": []
          },
          "execution_count": 107
        }
      ]
    },
    {
      "cell_type": "markdown",
      "metadata": {
        "id": "EIwl02zLrbjP"
      },
      "source": [
        "IMDB DATAFRAME:"
      ]
    },
    {
      "cell_type": "code",
      "metadata": {
        "colab": {
          "base_uri": "https://localhost:8080/",
          "height": 0
        },
        "id": "RhECTL4x7JEk",
        "outputId": "1f039988-ceeb-423e-d440-77d608b17ce8"
      },
      "source": [
        "df_imdb.head()"
      ],
      "execution_count": 108,
      "outputs": [
        {
          "output_type": "execute_result",
          "data": {
            "text/html": [
              "<div>\n",
              "<style scoped>\n",
              "    .dataframe tbody tr th:only-of-type {\n",
              "        vertical-align: middle;\n",
              "    }\n",
              "\n",
              "    .dataframe tbody tr th {\n",
              "        vertical-align: top;\n",
              "    }\n",
              "\n",
              "    .dataframe thead th {\n",
              "        text-align: right;\n",
              "    }\n",
              "</style>\n",
              "<table border=\"1\" class=\"dataframe\">\n",
              "  <thead>\n",
              "    <tr style=\"text-align: right;\">\n",
              "      <th></th>\n",
              "      <th>movieId</th>\n",
              "      <th>title_cast</th>\n",
              "      <th>director</th>\n",
              "      <th>runtime</th>\n",
              "      <th>budget</th>\n",
              "      <th>plot_keywords</th>\n",
              "    </tr>\n",
              "  </thead>\n",
              "  <tbody>\n",
              "    <tr>\n",
              "      <th>0</th>\n",
              "      <td>1</td>\n",
              "      <td>Tom Hanks|Tim Allen|Don Rickles|Jim Varney|Wal...</td>\n",
              "      <td>John Lasseter</td>\n",
              "      <td>81.0</td>\n",
              "      <td>$30,000,000</td>\n",
              "      <td>toy|rivalry|cowboy|cgi animation</td>\n",
              "    </tr>\n",
              "    <tr>\n",
              "      <th>1</th>\n",
              "      <td>2</td>\n",
              "      <td>Robin Williams|Jonathan Hyde|Kirsten Dunst|Bra...</td>\n",
              "      <td>Jonathan Hensleigh</td>\n",
              "      <td>104.0</td>\n",
              "      <td>$65,000,000</td>\n",
              "      <td>board game|adventurer|fight|game</td>\n",
              "    </tr>\n",
              "    <tr>\n",
              "      <th>2</th>\n",
              "      <td>3</td>\n",
              "      <td>Walter Matthau|Jack Lemmon|Sophia Loren|Ann-Ma...</td>\n",
              "      <td>Mark Steven Johnson</td>\n",
              "      <td>101.0</td>\n",
              "      <td>$25,000,000</td>\n",
              "      <td>boat|lake|neighbor|rivalry</td>\n",
              "    </tr>\n",
              "    <tr>\n",
              "      <th>3</th>\n",
              "      <td>4</td>\n",
              "      <td>Whitney Houston|Angela Bassett|Loretta Devine|...</td>\n",
              "      <td>Terry McMillan</td>\n",
              "      <td>124.0</td>\n",
              "      <td>$16,000,000</td>\n",
              "      <td>black american|husband wife relationship|betra...</td>\n",
              "    </tr>\n",
              "    <tr>\n",
              "      <th>4</th>\n",
              "      <td>5</td>\n",
              "      <td>Steve Martin|Diane Keaton|Martin Short|Kimberl...</td>\n",
              "      <td>Albert Hackett</td>\n",
              "      <td>106.0</td>\n",
              "      <td>$30,000,000</td>\n",
              "      <td>fatherhood|doberman|dog|mansion</td>\n",
              "    </tr>\n",
              "  </tbody>\n",
              "</table>\n",
              "</div>"
            ],
            "text/plain": [
              "   movieId  ...                                      plot_keywords\n",
              "0        1  ...                   toy|rivalry|cowboy|cgi animation\n",
              "1        2  ...                   board game|adventurer|fight|game\n",
              "2        3  ...                         boat|lake|neighbor|rivalry\n",
              "3        4  ...  black american|husband wife relationship|betra...\n",
              "4        5  ...                    fatherhood|doberman|dog|mansion\n",
              "\n",
              "[5 rows x 6 columns]"
            ]
          },
          "metadata": {
            "tags": []
          },
          "execution_count": 108
        }
      ]
    },
    {
      "cell_type": "code",
      "metadata": {
        "colab": {
          "base_uri": "https://localhost:8080/"
        },
        "id": "aU0ZVmPArz-e",
        "outputId": "b610071b-ce65-4e3d-d218-816c0d5df70b"
      },
      "source": [
        "df_imdb.info()"
      ],
      "execution_count": 109,
      "outputs": [
        {
          "output_type": "stream",
          "text": [
            "<class 'pandas.core.frame.DataFrame'>\n",
            "RangeIndex: 27278 entries, 0 to 27277\n",
            "Data columns (total 6 columns):\n",
            " #   Column         Non-Null Count  Dtype  \n",
            "---  ------         --------------  -----  \n",
            " 0   movieId        27278 non-null  int64  \n",
            " 1   title_cast     17210 non-null  object \n",
            " 2   director       17404 non-null  object \n",
            " 3   runtime        15189 non-null  float64\n",
            " 4   budget         7906 non-null   object \n",
            " 5   plot_keywords  16200 non-null  object \n",
            "dtypes: float64(1), int64(1), object(4)\n",
            "memory usage: 1.2+ MB\n"
          ],
          "name": "stdout"
        }
      ]
    },
    {
      "cell_type": "code",
      "metadata": {
        "colab": {
          "base_uri": "https://localhost:8080/"
        },
        "id": "dBFgoowrsZpC",
        "outputId": "a44f2ba2-6cba-4e9b-c1f5-4cbe88e1914f"
      },
      "source": [
        "df_imdb.isnull().sum()"
      ],
      "execution_count": 110,
      "outputs": [
        {
          "output_type": "execute_result",
          "data": {
            "text/plain": [
              "movieId              0\n",
              "title_cast       10068\n",
              "director          9874\n",
              "runtime          12089\n",
              "budget           19372\n",
              "plot_keywords    11078\n",
              "dtype: int64"
            ]
          },
          "metadata": {
            "tags": []
          },
          "execution_count": 110
        }
      ]
    },
    {
      "cell_type": "markdown",
      "metadata": {
        "id": "D6P1Yu95sg0G"
      },
      "source": [
        "GENOME_SCORES DATAFRAME:"
      ]
    },
    {
      "cell_type": "code",
      "metadata": {
        "colab": {
          "base_uri": "https://localhost:8080/",
          "height": 0
        },
        "id": "Ph2jG06fsjAA",
        "outputId": "24655899-e31e-4d82-8d37-08c6b3de93e5"
      },
      "source": [
        "df_genome_scores.head()"
      ],
      "execution_count": 111,
      "outputs": [
        {
          "output_type": "execute_result",
          "data": {
            "text/html": [
              "<div>\n",
              "<style scoped>\n",
              "    .dataframe tbody tr th:only-of-type {\n",
              "        vertical-align: middle;\n",
              "    }\n",
              "\n",
              "    .dataframe tbody tr th {\n",
              "        vertical-align: top;\n",
              "    }\n",
              "\n",
              "    .dataframe thead th {\n",
              "        text-align: right;\n",
              "    }\n",
              "</style>\n",
              "<table border=\"1\" class=\"dataframe\">\n",
              "  <thead>\n",
              "    <tr style=\"text-align: right;\">\n",
              "      <th></th>\n",
              "      <th>movieId</th>\n",
              "      <th>tagId</th>\n",
              "      <th>relevance</th>\n",
              "    </tr>\n",
              "  </thead>\n",
              "  <tbody>\n",
              "    <tr>\n",
              "      <th>0</th>\n",
              "      <td>1</td>\n",
              "      <td>1</td>\n",
              "      <td>0.02875</td>\n",
              "    </tr>\n",
              "    <tr>\n",
              "      <th>1</th>\n",
              "      <td>1</td>\n",
              "      <td>2</td>\n",
              "      <td>0.02375</td>\n",
              "    </tr>\n",
              "    <tr>\n",
              "      <th>2</th>\n",
              "      <td>1</td>\n",
              "      <td>3</td>\n",
              "      <td>0.06250</td>\n",
              "    </tr>\n",
              "    <tr>\n",
              "      <th>3</th>\n",
              "      <td>1</td>\n",
              "      <td>4</td>\n",
              "      <td>0.07575</td>\n",
              "    </tr>\n",
              "    <tr>\n",
              "      <th>4</th>\n",
              "      <td>1</td>\n",
              "      <td>5</td>\n",
              "      <td>0.14075</td>\n",
              "    </tr>\n",
              "  </tbody>\n",
              "</table>\n",
              "</div>"
            ],
            "text/plain": [
              "   movieId  tagId  relevance\n",
              "0        1      1    0.02875\n",
              "1        1      2    0.02375\n",
              "2        1      3    0.06250\n",
              "3        1      4    0.07575\n",
              "4        1      5    0.14075"
            ]
          },
          "metadata": {
            "tags": []
          },
          "execution_count": 111
        }
      ]
    },
    {
      "cell_type": "code",
      "metadata": {
        "colab": {
          "base_uri": "https://localhost:8080/"
        },
        "id": "tJmHYsBislpG",
        "outputId": "47f3bdad-8c7f-496c-c225-67a8cc7af0ba"
      },
      "source": [
        "\n",
        "df_genome_scores.info()"
      ],
      "execution_count": 112,
      "outputs": [
        {
          "output_type": "stream",
          "text": [
            "<class 'pandas.core.frame.DataFrame'>\n",
            "RangeIndex: 15584448 entries, 0 to 15584447\n",
            "Data columns (total 3 columns):\n",
            " #   Column     Dtype  \n",
            "---  ------     -----  \n",
            " 0   movieId    int64  \n",
            " 1   tagId      int64  \n",
            " 2   relevance  float64\n",
            "dtypes: float64(1), int64(2)\n",
            "memory usage: 356.7 MB\n"
          ],
          "name": "stdout"
        }
      ]
    },
    {
      "cell_type": "code",
      "metadata": {
        "colab": {
          "base_uri": "https://localhost:8080/"
        },
        "id": "zSlRMXdlsou4",
        "outputId": "5e55d114-195e-407f-8247-f99282acea33"
      },
      "source": [
        "df_genome_scores.isnull().sum()"
      ],
      "execution_count": 113,
      "outputs": [
        {
          "output_type": "execute_result",
          "data": {
            "text/plain": [
              "movieId      0\n",
              "tagId        0\n",
              "relevance    0\n",
              "dtype: int64"
            ]
          },
          "metadata": {
            "tags": []
          },
          "execution_count": 113
        }
      ]
    },
    {
      "cell_type": "markdown",
      "metadata": {
        "id": "dc7eFQIXs_pi"
      },
      "source": [
        "GENOME_TAGS DATAFRAME:"
      ]
    },
    {
      "cell_type": "code",
      "metadata": {
        "colab": {
          "base_uri": "https://localhost:8080/",
          "height": 0
        },
        "id": "g1M2Y1A8tBlw",
        "outputId": "be3aa87d-4455-4823-bb24-f314955e1a93"
      },
      "source": [
        "df_genome_tags.head()"
      ],
      "execution_count": 114,
      "outputs": [
        {
          "output_type": "execute_result",
          "data": {
            "text/html": [
              "<div>\n",
              "<style scoped>\n",
              "    .dataframe tbody tr th:only-of-type {\n",
              "        vertical-align: middle;\n",
              "    }\n",
              "\n",
              "    .dataframe tbody tr th {\n",
              "        vertical-align: top;\n",
              "    }\n",
              "\n",
              "    .dataframe thead th {\n",
              "        text-align: right;\n",
              "    }\n",
              "</style>\n",
              "<table border=\"1\" class=\"dataframe\">\n",
              "  <thead>\n",
              "    <tr style=\"text-align: right;\">\n",
              "      <th></th>\n",
              "      <th>tagId</th>\n",
              "      <th>tag</th>\n",
              "    </tr>\n",
              "  </thead>\n",
              "  <tbody>\n",
              "    <tr>\n",
              "      <th>0</th>\n",
              "      <td>1</td>\n",
              "      <td>007</td>\n",
              "    </tr>\n",
              "    <tr>\n",
              "      <th>1</th>\n",
              "      <td>2</td>\n",
              "      <td>007 (series)</td>\n",
              "    </tr>\n",
              "    <tr>\n",
              "      <th>2</th>\n",
              "      <td>3</td>\n",
              "      <td>18th century</td>\n",
              "    </tr>\n",
              "    <tr>\n",
              "      <th>3</th>\n",
              "      <td>4</td>\n",
              "      <td>1920s</td>\n",
              "    </tr>\n",
              "    <tr>\n",
              "      <th>4</th>\n",
              "      <td>5</td>\n",
              "      <td>1930s</td>\n",
              "    </tr>\n",
              "  </tbody>\n",
              "</table>\n",
              "</div>"
            ],
            "text/plain": [
              "   tagId           tag\n",
              "0      1           007\n",
              "1      2  007 (series)\n",
              "2      3  18th century\n",
              "3      4         1920s\n",
              "4      5         1930s"
            ]
          },
          "metadata": {
            "tags": []
          },
          "execution_count": 114
        }
      ]
    },
    {
      "cell_type": "code",
      "metadata": {
        "colab": {
          "base_uri": "https://localhost:8080/"
        },
        "id": "kfco8uQHs-mO",
        "outputId": "8c6d6c1c-dd56-4ca3-e288-1cb738da1a9f"
      },
      "source": [
        "df_genome_tags.info()"
      ],
      "execution_count": 115,
      "outputs": [
        {
          "output_type": "stream",
          "text": [
            "<class 'pandas.core.frame.DataFrame'>\n",
            "RangeIndex: 1128 entries, 0 to 1127\n",
            "Data columns (total 2 columns):\n",
            " #   Column  Non-Null Count  Dtype \n",
            "---  ------  --------------  ----- \n",
            " 0   tagId   1128 non-null   int64 \n",
            " 1   tag     1128 non-null   object\n",
            "dtypes: int64(1), object(1)\n",
            "memory usage: 17.8+ KB\n"
          ],
          "name": "stdout"
        }
      ]
    },
    {
      "cell_type": "code",
      "metadata": {
        "colab": {
          "base_uri": "https://localhost:8080/"
        },
        "id": "JUwNjN57tP-n",
        "outputId": "e009a7ee-aae6-4293-8a52-b8737dd371e5"
      },
      "source": [
        "df_genome_tags.isnull().sum()"
      ],
      "execution_count": 116,
      "outputs": [
        {
          "output_type": "execute_result",
          "data": {
            "text/plain": [
              "tagId    0\n",
              "tag      0\n",
              "dtype: int64"
            ]
          },
          "metadata": {
            "tags": []
          },
          "execution_count": 116
        }
      ]
    },
    {
      "cell_type": "markdown",
      "metadata": {
        "id": "MjkswZMztXeI"
      },
      "source": [
        "TRAIN DATAFRAME:"
      ]
    },
    {
      "cell_type": "code",
      "metadata": {
        "colab": {
          "base_uri": "https://localhost:8080/",
          "height": 0
        },
        "id": "kAmx9R0ktZiB",
        "outputId": "5567ee57-a044-4844-f715-9ebf1ece7e30"
      },
      "source": [
        "df_train.head()"
      ],
      "execution_count": 117,
      "outputs": [
        {
          "output_type": "execute_result",
          "data": {
            "text/html": [
              "<div>\n",
              "<style scoped>\n",
              "    .dataframe tbody tr th:only-of-type {\n",
              "        vertical-align: middle;\n",
              "    }\n",
              "\n",
              "    .dataframe tbody tr th {\n",
              "        vertical-align: top;\n",
              "    }\n",
              "\n",
              "    .dataframe thead th {\n",
              "        text-align: right;\n",
              "    }\n",
              "</style>\n",
              "<table border=\"1\" class=\"dataframe\">\n",
              "  <thead>\n",
              "    <tr style=\"text-align: right;\">\n",
              "      <th></th>\n",
              "      <th>userId</th>\n",
              "      <th>movieId</th>\n",
              "      <th>rating</th>\n",
              "      <th>timestamp</th>\n",
              "    </tr>\n",
              "  </thead>\n",
              "  <tbody>\n",
              "    <tr>\n",
              "      <th>0</th>\n",
              "      <td>5163</td>\n",
              "      <td>57669</td>\n",
              "      <td>4.0</td>\n",
              "      <td>1518349992</td>\n",
              "    </tr>\n",
              "    <tr>\n",
              "      <th>1</th>\n",
              "      <td>106343</td>\n",
              "      <td>5</td>\n",
              "      <td>4.5</td>\n",
              "      <td>1206238739</td>\n",
              "    </tr>\n",
              "    <tr>\n",
              "      <th>2</th>\n",
              "      <td>146790</td>\n",
              "      <td>5459</td>\n",
              "      <td>5.0</td>\n",
              "      <td>1076215539</td>\n",
              "    </tr>\n",
              "    <tr>\n",
              "      <th>3</th>\n",
              "      <td>106362</td>\n",
              "      <td>32296</td>\n",
              "      <td>2.0</td>\n",
              "      <td>1423042565</td>\n",
              "    </tr>\n",
              "    <tr>\n",
              "      <th>4</th>\n",
              "      <td>9041</td>\n",
              "      <td>366</td>\n",
              "      <td>3.0</td>\n",
              "      <td>833375837</td>\n",
              "    </tr>\n",
              "  </tbody>\n",
              "</table>\n",
              "</div>"
            ],
            "text/plain": [
              "   userId  movieId  rating   timestamp\n",
              "0    5163    57669     4.0  1518349992\n",
              "1  106343        5     4.5  1206238739\n",
              "2  146790     5459     5.0  1076215539\n",
              "3  106362    32296     2.0  1423042565\n",
              "4    9041      366     3.0   833375837"
            ]
          },
          "metadata": {
            "tags": []
          },
          "execution_count": 117
        }
      ]
    },
    {
      "cell_type": "code",
      "metadata": {
        "colab": {
          "base_uri": "https://localhost:8080/"
        },
        "id": "_tXR86vHtbnd",
        "outputId": "870f348c-5fa7-4c97-87f2-206108196a1e"
      },
      "source": [
        "df_train.info()"
      ],
      "execution_count": 118,
      "outputs": [
        {
          "output_type": "stream",
          "text": [
            "<class 'pandas.core.frame.DataFrame'>\n",
            "RangeIndex: 10000038 entries, 0 to 10000037\n",
            "Data columns (total 4 columns):\n",
            " #   Column     Dtype  \n",
            "---  ------     -----  \n",
            " 0   userId     int64  \n",
            " 1   movieId    int64  \n",
            " 2   rating     float64\n",
            " 3   timestamp  int64  \n",
            "dtypes: float64(1), int64(3)\n",
            "memory usage: 305.2 MB\n"
          ],
          "name": "stdout"
        }
      ]
    },
    {
      "cell_type": "code",
      "metadata": {
        "colab": {
          "base_uri": "https://localhost:8080/"
        },
        "id": "uErUN0uQtezG",
        "outputId": "c6706c12-977b-4664-a4aa-50f51068abbe"
      },
      "source": [
        "df_train.isnull().sum()"
      ],
      "execution_count": 119,
      "outputs": [
        {
          "output_type": "execute_result",
          "data": {
            "text/plain": [
              "userId       0\n",
              "movieId      0\n",
              "rating       0\n",
              "timestamp    0\n",
              "dtype: int64"
            ]
          },
          "metadata": {
            "tags": []
          },
          "execution_count": 119
        }
      ]
    },
    {
      "cell_type": "markdown",
      "metadata": {
        "id": "5CbIxqS_tiXy"
      },
      "source": [
        "TEST DATAFRAME:"
      ]
    },
    {
      "cell_type": "code",
      "metadata": {
        "colab": {
          "base_uri": "https://localhost:8080/",
          "height": 0
        },
        "id": "2sGzHZRTtj0v",
        "outputId": "215f3eec-d0f7-4e55-92c3-e5adaa469726"
      },
      "source": [
        "df_test.head()"
      ],
      "execution_count": 120,
      "outputs": [
        {
          "output_type": "execute_result",
          "data": {
            "text/html": [
              "<div>\n",
              "<style scoped>\n",
              "    .dataframe tbody tr th:only-of-type {\n",
              "        vertical-align: middle;\n",
              "    }\n",
              "\n",
              "    .dataframe tbody tr th {\n",
              "        vertical-align: top;\n",
              "    }\n",
              "\n",
              "    .dataframe thead th {\n",
              "        text-align: right;\n",
              "    }\n",
              "</style>\n",
              "<table border=\"1\" class=\"dataframe\">\n",
              "  <thead>\n",
              "    <tr style=\"text-align: right;\">\n",
              "      <th></th>\n",
              "      <th>userId</th>\n",
              "      <th>movieId</th>\n",
              "    </tr>\n",
              "  </thead>\n",
              "  <tbody>\n",
              "    <tr>\n",
              "      <th>0</th>\n",
              "      <td>1</td>\n",
              "      <td>2011</td>\n",
              "    </tr>\n",
              "    <tr>\n",
              "      <th>1</th>\n",
              "      <td>1</td>\n",
              "      <td>4144</td>\n",
              "    </tr>\n",
              "    <tr>\n",
              "      <th>2</th>\n",
              "      <td>1</td>\n",
              "      <td>5767</td>\n",
              "    </tr>\n",
              "    <tr>\n",
              "      <th>3</th>\n",
              "      <td>1</td>\n",
              "      <td>6711</td>\n",
              "    </tr>\n",
              "    <tr>\n",
              "      <th>4</th>\n",
              "      <td>1</td>\n",
              "      <td>7318</td>\n",
              "    </tr>\n",
              "  </tbody>\n",
              "</table>\n",
              "</div>"
            ],
            "text/plain": [
              "   userId  movieId\n",
              "0       1     2011\n",
              "1       1     4144\n",
              "2       1     5767\n",
              "3       1     6711\n",
              "4       1     7318"
            ]
          },
          "metadata": {
            "tags": []
          },
          "execution_count": 120
        }
      ]
    },
    {
      "cell_type": "code",
      "metadata": {
        "colab": {
          "base_uri": "https://localhost:8080/"
        },
        "id": "GTv4GD0Ttl-f",
        "outputId": "7a1f8340-83eb-4283-8199-04e0cd5cbae1"
      },
      "source": [
        "df_test.info()"
      ],
      "execution_count": 121,
      "outputs": [
        {
          "output_type": "stream",
          "text": [
            "<class 'pandas.core.frame.DataFrame'>\n",
            "RangeIndex: 5000019 entries, 0 to 5000018\n",
            "Data columns (total 2 columns):\n",
            " #   Column   Dtype\n",
            "---  ------   -----\n",
            " 0   userId   int64\n",
            " 1   movieId  int64\n",
            "dtypes: int64(2)\n",
            "memory usage: 76.3 MB\n"
          ],
          "name": "stdout"
        }
      ]
    },
    {
      "cell_type": "code",
      "metadata": {
        "colab": {
          "base_uri": "https://localhost:8080/"
        },
        "id": "8BA3Kedqtoee",
        "outputId": "927d5e88-d6eb-44cb-f457-91245eaf77ab"
      },
      "source": [
        "df_test.isnull().sum()"
      ],
      "execution_count": 122,
      "outputs": [
        {
          "output_type": "execute_result",
          "data": {
            "text/plain": [
              "userId     0\n",
              "movieId    0\n",
              "dtype: int64"
            ]
          },
          "metadata": {
            "tags": []
          },
          "execution_count": 122
        }
      ]
    },
    {
      "cell_type": "markdown",
      "metadata": {
        "id": "dYWK4EnQtsHX"
      },
      "source": [
        "TAGS DATAFRAME:"
      ]
    },
    {
      "cell_type": "code",
      "metadata": {
        "colab": {
          "base_uri": "https://localhost:8080/",
          "height": 0
        },
        "id": "Rdq4aESPtthl",
        "outputId": "b195f2f7-90c5-411f-ae74-f49957852a01"
      },
      "source": [
        "df_tags.head()"
      ],
      "execution_count": 123,
      "outputs": [
        {
          "output_type": "execute_result",
          "data": {
            "text/html": [
              "<div>\n",
              "<style scoped>\n",
              "    .dataframe tbody tr th:only-of-type {\n",
              "        vertical-align: middle;\n",
              "    }\n",
              "\n",
              "    .dataframe tbody tr th {\n",
              "        vertical-align: top;\n",
              "    }\n",
              "\n",
              "    .dataframe thead th {\n",
              "        text-align: right;\n",
              "    }\n",
              "</style>\n",
              "<table border=\"1\" class=\"dataframe\">\n",
              "  <thead>\n",
              "    <tr style=\"text-align: right;\">\n",
              "      <th></th>\n",
              "      <th>userId</th>\n",
              "      <th>movieId</th>\n",
              "      <th>tag</th>\n",
              "      <th>timestamp</th>\n",
              "    </tr>\n",
              "  </thead>\n",
              "  <tbody>\n",
              "    <tr>\n",
              "      <th>0</th>\n",
              "      <td>3</td>\n",
              "      <td>260</td>\n",
              "      <td>classic</td>\n",
              "      <td>1439472355</td>\n",
              "    </tr>\n",
              "    <tr>\n",
              "      <th>1</th>\n",
              "      <td>3</td>\n",
              "      <td>260</td>\n",
              "      <td>sci-fi</td>\n",
              "      <td>1439472256</td>\n",
              "    </tr>\n",
              "    <tr>\n",
              "      <th>2</th>\n",
              "      <td>4</td>\n",
              "      <td>1732</td>\n",
              "      <td>dark comedy</td>\n",
              "      <td>1573943598</td>\n",
              "    </tr>\n",
              "    <tr>\n",
              "      <th>3</th>\n",
              "      <td>4</td>\n",
              "      <td>1732</td>\n",
              "      <td>great dialogue</td>\n",
              "      <td>1573943604</td>\n",
              "    </tr>\n",
              "    <tr>\n",
              "      <th>4</th>\n",
              "      <td>4</td>\n",
              "      <td>7569</td>\n",
              "      <td>so bad it's good</td>\n",
              "      <td>1573943455</td>\n",
              "    </tr>\n",
              "  </tbody>\n",
              "</table>\n",
              "</div>"
            ],
            "text/plain": [
              "   userId  movieId               tag   timestamp\n",
              "0       3      260           classic  1439472355\n",
              "1       3      260            sci-fi  1439472256\n",
              "2       4     1732       dark comedy  1573943598\n",
              "3       4     1732    great dialogue  1573943604\n",
              "4       4     7569  so bad it's good  1573943455"
            ]
          },
          "metadata": {
            "tags": []
          },
          "execution_count": 123
        }
      ]
    },
    {
      "cell_type": "code",
      "metadata": {
        "colab": {
          "base_uri": "https://localhost:8080/"
        },
        "id": "sb1zqIFwtviY",
        "outputId": "5faad3d0-a726-4707-e613-22435bdc5a8b"
      },
      "source": [
        "df_tags.info()"
      ],
      "execution_count": 124,
      "outputs": [
        {
          "output_type": "stream",
          "text": [
            "<class 'pandas.core.frame.DataFrame'>\n",
            "RangeIndex: 1093360 entries, 0 to 1093359\n",
            "Data columns (total 4 columns):\n",
            " #   Column     Non-Null Count    Dtype \n",
            "---  ------     --------------    ----- \n",
            " 0   userId     1093360 non-null  int64 \n",
            " 1   movieId    1093360 non-null  int64 \n",
            " 2   tag        1093344 non-null  object\n",
            " 3   timestamp  1093360 non-null  int64 \n",
            "dtypes: int64(3), object(1)\n",
            "memory usage: 33.4+ MB\n"
          ],
          "name": "stdout"
        }
      ]
    },
    {
      "cell_type": "code",
      "metadata": {
        "colab": {
          "base_uri": "https://localhost:8080/"
        },
        "id": "3vzqIwGetx8K",
        "outputId": "873e8de4-0c6a-4a51-a4d3-b06edef3fe57"
      },
      "source": [
        "df_tags.isnull().sum()"
      ],
      "execution_count": 125,
      "outputs": [
        {
          "output_type": "execute_result",
          "data": {
            "text/plain": [
              "userId        0\n",
              "movieId       0\n",
              "tag          16\n",
              "timestamp     0\n",
              "dtype: int64"
            ]
          },
          "metadata": {
            "tags": []
          },
          "execution_count": 125
        }
      ]
    },
    {
      "cell_type": "markdown",
      "metadata": {
        "id": "BKska26St-GR"
      },
      "source": [
        "LINKS DATAFRAME:"
      ]
    },
    {
      "cell_type": "code",
      "metadata": {
        "colab": {
          "base_uri": "https://localhost:8080/",
          "height": 0
        },
        "id": "PgQDLKfYuAL-",
        "outputId": "6ac5fdf4-9bac-46a7-a311-b45f1bddb890"
      },
      "source": [
        "df_links.head()"
      ],
      "execution_count": 126,
      "outputs": [
        {
          "output_type": "execute_result",
          "data": {
            "text/html": [
              "<div>\n",
              "<style scoped>\n",
              "    .dataframe tbody tr th:only-of-type {\n",
              "        vertical-align: middle;\n",
              "    }\n",
              "\n",
              "    .dataframe tbody tr th {\n",
              "        vertical-align: top;\n",
              "    }\n",
              "\n",
              "    .dataframe thead th {\n",
              "        text-align: right;\n",
              "    }\n",
              "</style>\n",
              "<table border=\"1\" class=\"dataframe\">\n",
              "  <thead>\n",
              "    <tr style=\"text-align: right;\">\n",
              "      <th></th>\n",
              "      <th>movieId</th>\n",
              "      <th>imdbId</th>\n",
              "      <th>tmdbId</th>\n",
              "    </tr>\n",
              "  </thead>\n",
              "  <tbody>\n",
              "    <tr>\n",
              "      <th>0</th>\n",
              "      <td>1</td>\n",
              "      <td>114709</td>\n",
              "      <td>862.0</td>\n",
              "    </tr>\n",
              "    <tr>\n",
              "      <th>1</th>\n",
              "      <td>2</td>\n",
              "      <td>113497</td>\n",
              "      <td>8844.0</td>\n",
              "    </tr>\n",
              "    <tr>\n",
              "      <th>2</th>\n",
              "      <td>3</td>\n",
              "      <td>113228</td>\n",
              "      <td>15602.0</td>\n",
              "    </tr>\n",
              "    <tr>\n",
              "      <th>3</th>\n",
              "      <td>4</td>\n",
              "      <td>114885</td>\n",
              "      <td>31357.0</td>\n",
              "    </tr>\n",
              "    <tr>\n",
              "      <th>4</th>\n",
              "      <td>5</td>\n",
              "      <td>113041</td>\n",
              "      <td>11862.0</td>\n",
              "    </tr>\n",
              "  </tbody>\n",
              "</table>\n",
              "</div>"
            ],
            "text/plain": [
              "   movieId  imdbId   tmdbId\n",
              "0        1  114709    862.0\n",
              "1        2  113497   8844.0\n",
              "2        3  113228  15602.0\n",
              "3        4  114885  31357.0\n",
              "4        5  113041  11862.0"
            ]
          },
          "metadata": {
            "tags": []
          },
          "execution_count": 126
        }
      ]
    },
    {
      "cell_type": "code",
      "metadata": {
        "colab": {
          "base_uri": "https://localhost:8080/"
        },
        "id": "-ouKv9LJuCfi",
        "outputId": "accb3a0a-db70-46be-e223-18dd4a3f67b1"
      },
      "source": [
        "df_links.info()"
      ],
      "execution_count": 127,
      "outputs": [
        {
          "output_type": "stream",
          "text": [
            "<class 'pandas.core.frame.DataFrame'>\n",
            "RangeIndex: 62423 entries, 0 to 62422\n",
            "Data columns (total 3 columns):\n",
            " #   Column   Non-Null Count  Dtype  \n",
            "---  ------   --------------  -----  \n",
            " 0   movieId  62423 non-null  int64  \n",
            " 1   imdbId   62423 non-null  int64  \n",
            " 2   tmdbId   62316 non-null  float64\n",
            "dtypes: float64(1), int64(2)\n",
            "memory usage: 1.4 MB\n"
          ],
          "name": "stdout"
        }
      ]
    },
    {
      "cell_type": "code",
      "metadata": {
        "colab": {
          "base_uri": "https://localhost:8080/"
        },
        "id": "nwsBWITiuEys",
        "outputId": "8d7d6afc-4696-4c23-9464-91e1789ce374"
      },
      "source": [
        "df_links.isnull().sum()"
      ],
      "execution_count": 128,
      "outputs": [
        {
          "output_type": "execute_result",
          "data": {
            "text/plain": [
              "movieId      0\n",
              "imdbId       0\n",
              "tmdbId     107\n",
              "dtype: int64"
            ]
          },
          "metadata": {
            "tags": []
          },
          "execution_count": 128
        }
      ]
    },
    {
      "cell_type": "markdown",
      "metadata": {
        "id": "ciHWrmZTuJes"
      },
      "source": [
        "# DATA CLEANING: PRIMARILY FOCUSED ON THE IMDB AND MOVIES DATAFRAME:"
      ]
    },
    {
      "cell_type": "code",
      "metadata": {
        "colab": {
          "base_uri": "https://localhost:8080/",
          "height": 0
        },
        "id": "65zWDr07wJjO",
        "outputId": "b3adf6cb-4ef9-4966-8fc2-67ada8010078"
      },
      "source": [
        "df_movies.head()"
      ],
      "execution_count": 129,
      "outputs": [
        {
          "output_type": "execute_result",
          "data": {
            "text/html": [
              "<div>\n",
              "<style scoped>\n",
              "    .dataframe tbody tr th:only-of-type {\n",
              "        vertical-align: middle;\n",
              "    }\n",
              "\n",
              "    .dataframe tbody tr th {\n",
              "        vertical-align: top;\n",
              "    }\n",
              "\n",
              "    .dataframe thead th {\n",
              "        text-align: right;\n",
              "    }\n",
              "</style>\n",
              "<table border=\"1\" class=\"dataframe\">\n",
              "  <thead>\n",
              "    <tr style=\"text-align: right;\">\n",
              "      <th></th>\n",
              "      <th>movieId</th>\n",
              "      <th>title</th>\n",
              "      <th>genres</th>\n",
              "    </tr>\n",
              "  </thead>\n",
              "  <tbody>\n",
              "    <tr>\n",
              "      <th>0</th>\n",
              "      <td>1</td>\n",
              "      <td>Toy Story (1995)</td>\n",
              "      <td>Adventure|Animation|Children|Comedy|Fantasy</td>\n",
              "    </tr>\n",
              "    <tr>\n",
              "      <th>1</th>\n",
              "      <td>2</td>\n",
              "      <td>Jumanji (1995)</td>\n",
              "      <td>Adventure|Children|Fantasy</td>\n",
              "    </tr>\n",
              "    <tr>\n",
              "      <th>2</th>\n",
              "      <td>3</td>\n",
              "      <td>Grumpier Old Men (1995)</td>\n",
              "      <td>Comedy|Romance</td>\n",
              "    </tr>\n",
              "    <tr>\n",
              "      <th>3</th>\n",
              "      <td>4</td>\n",
              "      <td>Waiting to Exhale (1995)</td>\n",
              "      <td>Comedy|Drama|Romance</td>\n",
              "    </tr>\n",
              "    <tr>\n",
              "      <th>4</th>\n",
              "      <td>5</td>\n",
              "      <td>Father of the Bride Part II (1995)</td>\n",
              "      <td>Comedy</td>\n",
              "    </tr>\n",
              "  </tbody>\n",
              "</table>\n",
              "</div>"
            ],
            "text/plain": [
              "   movieId  ...                                       genres\n",
              "0        1  ...  Adventure|Animation|Children|Comedy|Fantasy\n",
              "1        2  ...                   Adventure|Children|Fantasy\n",
              "2        3  ...                               Comedy|Romance\n",
              "3        4  ...                         Comedy|Drama|Romance\n",
              "4        5  ...                                       Comedy\n",
              "\n",
              "[5 rows x 3 columns]"
            ]
          },
          "metadata": {
            "tags": []
          },
          "execution_count": 129
        }
      ]
    },
    {
      "cell_type": "markdown",
      "metadata": {
        "id": "0mriBe3hwOT4"
      },
      "source": [
        "THE TITLE COLUMN WILL NOW TO SPLIT INTO A COLUMN CONTAINING THE TITLE AND A SEPERATE, NEW COLUMN CONTAINING THE YEAR THAT THE MOVIES WAS RELEASED."
      ]
    },
    {
      "cell_type": "code",
      "metadata": {
        "colab": {
          "base_uri": "https://localhost:8080/",
          "height": 0
        },
        "id": "Lj6cAbT64rXb",
        "outputId": "91f466b0-bac7-4270-dd51-57f24833dcae"
      },
      "source": [
        "titles = []\n",
        "years = []\n",
        "\n",
        "for t in df_movies.title:\n",
        "  split = t.split(\"(\")\n",
        "  titles.append(split[0])\n",
        "  years.append(split[-1])\n",
        "\n",
        "df_movies['title'] = titles\n",
        "df_movies['year'] = years\n",
        "\n",
        "df_movies.head()\n",
        "\n"
      ],
      "execution_count": 130,
      "outputs": [
        {
          "output_type": "execute_result",
          "data": {
            "text/html": [
              "<div>\n",
              "<style scoped>\n",
              "    .dataframe tbody tr th:only-of-type {\n",
              "        vertical-align: middle;\n",
              "    }\n",
              "\n",
              "    .dataframe tbody tr th {\n",
              "        vertical-align: top;\n",
              "    }\n",
              "\n",
              "    .dataframe thead th {\n",
              "        text-align: right;\n",
              "    }\n",
              "</style>\n",
              "<table border=\"1\" class=\"dataframe\">\n",
              "  <thead>\n",
              "    <tr style=\"text-align: right;\">\n",
              "      <th></th>\n",
              "      <th>movieId</th>\n",
              "      <th>title</th>\n",
              "      <th>genres</th>\n",
              "      <th>year</th>\n",
              "    </tr>\n",
              "  </thead>\n",
              "  <tbody>\n",
              "    <tr>\n",
              "      <th>0</th>\n",
              "      <td>1</td>\n",
              "      <td>Toy Story</td>\n",
              "      <td>Adventure|Animation|Children|Comedy|Fantasy</td>\n",
              "      <td>1995)</td>\n",
              "    </tr>\n",
              "    <tr>\n",
              "      <th>1</th>\n",
              "      <td>2</td>\n",
              "      <td>Jumanji</td>\n",
              "      <td>Adventure|Children|Fantasy</td>\n",
              "      <td>1995)</td>\n",
              "    </tr>\n",
              "    <tr>\n",
              "      <th>2</th>\n",
              "      <td>3</td>\n",
              "      <td>Grumpier Old Men</td>\n",
              "      <td>Comedy|Romance</td>\n",
              "      <td>1995)</td>\n",
              "    </tr>\n",
              "    <tr>\n",
              "      <th>3</th>\n",
              "      <td>4</td>\n",
              "      <td>Waiting to Exhale</td>\n",
              "      <td>Comedy|Drama|Romance</td>\n",
              "      <td>1995)</td>\n",
              "    </tr>\n",
              "    <tr>\n",
              "      <th>4</th>\n",
              "      <td>5</td>\n",
              "      <td>Father of the Bride Part II</td>\n",
              "      <td>Comedy</td>\n",
              "      <td>1995)</td>\n",
              "    </tr>\n",
              "  </tbody>\n",
              "</table>\n",
              "</div>"
            ],
            "text/plain": [
              "   movieId  ...   year\n",
              "0        1  ...  1995)\n",
              "1        2  ...  1995)\n",
              "2        3  ...  1995)\n",
              "3        4  ...  1995)\n",
              "4        5  ...  1995)\n",
              "\n",
              "[5 rows x 4 columns]"
            ]
          },
          "metadata": {
            "tags": []
          },
          "execution_count": 130
        }
      ]
    },
    {
      "cell_type": "code",
      "metadata": {
        "id": "MWrEm3qjvUHM",
        "colab": {
          "base_uri": "https://localhost:8080/",
          "height": 0
        },
        "outputId": "fbe1b7ab-106b-4e06-b004-a60688362d1c"
      },
      "source": [
        "df_movies['year'] = df_movies.year.str.extract(\"(\\d+)\")\n",
        "df_movies.head()"
      ],
      "execution_count": 131,
      "outputs": [
        {
          "output_type": "execute_result",
          "data": {
            "text/html": [
              "<div>\n",
              "<style scoped>\n",
              "    .dataframe tbody tr th:only-of-type {\n",
              "        vertical-align: middle;\n",
              "    }\n",
              "\n",
              "    .dataframe tbody tr th {\n",
              "        vertical-align: top;\n",
              "    }\n",
              "\n",
              "    .dataframe thead th {\n",
              "        text-align: right;\n",
              "    }\n",
              "</style>\n",
              "<table border=\"1\" class=\"dataframe\">\n",
              "  <thead>\n",
              "    <tr style=\"text-align: right;\">\n",
              "      <th></th>\n",
              "      <th>movieId</th>\n",
              "      <th>title</th>\n",
              "      <th>genres</th>\n",
              "      <th>year</th>\n",
              "    </tr>\n",
              "  </thead>\n",
              "  <tbody>\n",
              "    <tr>\n",
              "      <th>0</th>\n",
              "      <td>1</td>\n",
              "      <td>Toy Story</td>\n",
              "      <td>Adventure|Animation|Children|Comedy|Fantasy</td>\n",
              "      <td>1995</td>\n",
              "    </tr>\n",
              "    <tr>\n",
              "      <th>1</th>\n",
              "      <td>2</td>\n",
              "      <td>Jumanji</td>\n",
              "      <td>Adventure|Children|Fantasy</td>\n",
              "      <td>1995</td>\n",
              "    </tr>\n",
              "    <tr>\n",
              "      <th>2</th>\n",
              "      <td>3</td>\n",
              "      <td>Grumpier Old Men</td>\n",
              "      <td>Comedy|Romance</td>\n",
              "      <td>1995</td>\n",
              "    </tr>\n",
              "    <tr>\n",
              "      <th>3</th>\n",
              "      <td>4</td>\n",
              "      <td>Waiting to Exhale</td>\n",
              "      <td>Comedy|Drama|Romance</td>\n",
              "      <td>1995</td>\n",
              "    </tr>\n",
              "    <tr>\n",
              "      <th>4</th>\n",
              "      <td>5</td>\n",
              "      <td>Father of the Bride Part II</td>\n",
              "      <td>Comedy</td>\n",
              "      <td>1995</td>\n",
              "    </tr>\n",
              "  </tbody>\n",
              "</table>\n",
              "</div>"
            ],
            "text/plain": [
              "   movieId  ...  year\n",
              "0        1  ...  1995\n",
              "1        2  ...  1995\n",
              "2        3  ...  1995\n",
              "3        4  ...  1995\n",
              "4        5  ...  1995\n",
              "\n",
              "[5 rows x 4 columns]"
            ]
          },
          "metadata": {
            "tags": []
          },
          "execution_count": 131
        }
      ]
    },
    {
      "cell_type": "code",
      "metadata": {
        "colab": {
          "base_uri": "https://localhost:8080/"
        },
        "id": "VM4PU5Hue0El",
        "outputId": "32772c4a-8e7a-4f01-a12c-86386becb554"
      },
      "source": [
        "df_movies.year.value_counts()"
      ],
      "execution_count": 132,
      "outputs": [
        {
          "output_type": "execute_result",
          "data": {
            "text/plain": [
              "2015    2513\n",
              "2016    2488\n",
              "2014    2406\n",
              "2017    2375\n",
              "2013    2174\n",
              "        ... \n",
              "1874       1\n",
              "3          1\n",
              "101        1\n",
              "1878       1\n",
              "1883       1\n",
              "Name: year, Length: 149, dtype: int64"
            ]
          },
          "metadata": {
            "tags": []
          },
          "execution_count": 132
        }
      ]
    },
    {
      "cell_type": "markdown",
      "metadata": {
        "id": "gxYCmmCrwqqX"
      },
      "source": [
        "FROM HERE, WE WISH TO CREATE A SEPERATE ROW FOR EACH SPECIFIC GENRE GROUP."
      ]
    },
    {
      "cell_type": "code",
      "metadata": {
        "execution": {
          "iopub.execute_input": "2021-07-02T10:34:44.689962Z",
          "iopub.status.busy": "2021-07-02T10:34:44.689595Z",
          "iopub.status.idle": "2021-07-02T10:34:45.057302Z",
          "shell.execute_reply": "2021-07-02T10:34:45.056105Z",
          "shell.execute_reply.started": "2021-07-02T10:34:44.689930Z"
        },
        "id": "oDF1GVXZQAuZ",
        "trusted": true,
        "colab": {
          "base_uri": "https://localhost:8080/",
          "height": 0
        },
        "outputId": "61b7f283-5318-414e-ec16-9a3cd1008ecf"
      },
      "source": [
        "# Create dataframe containing only the movieId and genres\n",
        "movies_genres = pd.DataFrame(df_movies[['movieId', 'genres']],\n",
        "                             columns=['movieId', 'genres',])\n",
        "\n",
        "# Split genres seperated by \"|\" and create a list containing the genres allocated to each movie\n",
        "movies_genres.genres = movies_genres.genres.apply(lambda x: x.split('|'))\n",
        "\n",
        "# Create expanded dataframe where each movie-genre combination is in a seperate row\n",
        "movies_genres = pd.DataFrame([(tup.movieId, d) for tup in movies_genres.itertuples() for d in tup.genres],\n",
        "                             columns=['movieId', 'genres'])\n",
        "\n",
        "movies_genres.head()"
      ],
      "execution_count": 133,
      "outputs": [
        {
          "output_type": "execute_result",
          "data": {
            "text/html": [
              "<div>\n",
              "<style scoped>\n",
              "    .dataframe tbody tr th:only-of-type {\n",
              "        vertical-align: middle;\n",
              "    }\n",
              "\n",
              "    .dataframe tbody tr th {\n",
              "        vertical-align: top;\n",
              "    }\n",
              "\n",
              "    .dataframe thead th {\n",
              "        text-align: right;\n",
              "    }\n",
              "</style>\n",
              "<table border=\"1\" class=\"dataframe\">\n",
              "  <thead>\n",
              "    <tr style=\"text-align: right;\">\n",
              "      <th></th>\n",
              "      <th>movieId</th>\n",
              "      <th>genres</th>\n",
              "    </tr>\n",
              "  </thead>\n",
              "  <tbody>\n",
              "    <tr>\n",
              "      <th>0</th>\n",
              "      <td>1</td>\n",
              "      <td>Adventure</td>\n",
              "    </tr>\n",
              "    <tr>\n",
              "      <th>1</th>\n",
              "      <td>1</td>\n",
              "      <td>Animation</td>\n",
              "    </tr>\n",
              "    <tr>\n",
              "      <th>2</th>\n",
              "      <td>1</td>\n",
              "      <td>Children</td>\n",
              "    </tr>\n",
              "    <tr>\n",
              "      <th>3</th>\n",
              "      <td>1</td>\n",
              "      <td>Comedy</td>\n",
              "    </tr>\n",
              "    <tr>\n",
              "      <th>4</th>\n",
              "      <td>1</td>\n",
              "      <td>Fantasy</td>\n",
              "    </tr>\n",
              "  </tbody>\n",
              "</table>\n",
              "</div>"
            ],
            "text/plain": [
              "   movieId     genres\n",
              "0        1  Adventure\n",
              "1        1  Animation\n",
              "2        1   Children\n",
              "3        1     Comedy\n",
              "4        1    Fantasy"
            ]
          },
          "metadata": {
            "tags": []
          },
          "execution_count": 133
        }
      ]
    },
    {
      "cell_type": "markdown",
      "metadata": {
        "id": "wfDqf2SRw5_F"
      },
      "source": [
        "FOLLOWED BY MERGING THE YEAR COLUMN INTO THIS NEW DATAFRAME:"
      ]
    },
    {
      "cell_type": "code",
      "metadata": {
        "colab": {
          "base_uri": "https://localhost:8080/",
          "height": 0
        },
        "id": "rn_zUkr17kBt",
        "outputId": "b8c03a17-8723-43e7-882c-707e0f1f4794"
      },
      "source": [
        "movies_genres = pd.merge(movies_genres, df_movies[['movieId','title', 'year']], on='movieId', how='left')\n",
        "movies_genres.head()"
      ],
      "execution_count": 134,
      "outputs": [
        {
          "output_type": "execute_result",
          "data": {
            "text/html": [
              "<div>\n",
              "<style scoped>\n",
              "    .dataframe tbody tr th:only-of-type {\n",
              "        vertical-align: middle;\n",
              "    }\n",
              "\n",
              "    .dataframe tbody tr th {\n",
              "        vertical-align: top;\n",
              "    }\n",
              "\n",
              "    .dataframe thead th {\n",
              "        text-align: right;\n",
              "    }\n",
              "</style>\n",
              "<table border=\"1\" class=\"dataframe\">\n",
              "  <thead>\n",
              "    <tr style=\"text-align: right;\">\n",
              "      <th></th>\n",
              "      <th>movieId</th>\n",
              "      <th>genres</th>\n",
              "      <th>title</th>\n",
              "      <th>year</th>\n",
              "    </tr>\n",
              "  </thead>\n",
              "  <tbody>\n",
              "    <tr>\n",
              "      <th>0</th>\n",
              "      <td>1</td>\n",
              "      <td>Adventure</td>\n",
              "      <td>Toy Story</td>\n",
              "      <td>1995</td>\n",
              "    </tr>\n",
              "    <tr>\n",
              "      <th>1</th>\n",
              "      <td>1</td>\n",
              "      <td>Animation</td>\n",
              "      <td>Toy Story</td>\n",
              "      <td>1995</td>\n",
              "    </tr>\n",
              "    <tr>\n",
              "      <th>2</th>\n",
              "      <td>1</td>\n",
              "      <td>Children</td>\n",
              "      <td>Toy Story</td>\n",
              "      <td>1995</td>\n",
              "    </tr>\n",
              "    <tr>\n",
              "      <th>3</th>\n",
              "      <td>1</td>\n",
              "      <td>Comedy</td>\n",
              "      <td>Toy Story</td>\n",
              "      <td>1995</td>\n",
              "    </tr>\n",
              "    <tr>\n",
              "      <th>4</th>\n",
              "      <td>1</td>\n",
              "      <td>Fantasy</td>\n",
              "      <td>Toy Story</td>\n",
              "      <td>1995</td>\n",
              "    </tr>\n",
              "  </tbody>\n",
              "</table>\n",
              "</div>"
            ],
            "text/plain": [
              "   movieId     genres       title  year\n",
              "0        1  Adventure  Toy Story   1995\n",
              "1        1  Animation  Toy Story   1995\n",
              "2        1   Children  Toy Story   1995\n",
              "3        1     Comedy  Toy Story   1995\n",
              "4        1    Fantasy  Toy Story   1995"
            ]
          },
          "metadata": {
            "tags": []
          },
          "execution_count": 134
        }
      ]
    },
    {
      "cell_type": "code",
      "metadata": {
        "id": "EyRJ4qEyxIFq"
      },
      "source": [
        "movies = movies_genres.copy()"
      ],
      "execution_count": 135,
      "outputs": []
    },
    {
      "cell_type": "code",
      "metadata": {
        "colab": {
          "base_uri": "https://localhost:8080/"
        },
        "id": "B_p6EP0UxTHB",
        "outputId": "35ab77c6-1e52-4aad-80b0-66be5cf59969"
      },
      "source": [
        "movies.isnull().sum()"
      ],
      "execution_count": 136,
      "outputs": [
        {
          "output_type": "execute_result",
          "data": {
            "text/plain": [
              "movieId      0\n",
              "genres       0\n",
              "title        0\n",
              "year       465\n",
              "dtype: int64"
            ]
          },
          "metadata": {
            "tags": []
          },
          "execution_count": 136
        }
      ]
    },
    {
      "cell_type": "code",
      "metadata": {
        "colab": {
          "base_uri": "https://localhost:8080/"
        },
        "id": "XPUdJfyM81bv",
        "outputId": "13149270-5851-43c0-8415-0892e68a7452"
      },
      "source": [
        "movies.shape"
      ],
      "execution_count": 137,
      "outputs": [
        {
          "output_type": "execute_result",
          "data": {
            "text/plain": [
              "(112307, 4)"
            ]
          },
          "metadata": {
            "tags": []
          },
          "execution_count": 137
        }
      ]
    },
    {
      "cell_type": "markdown",
      "metadata": {
        "id": "BUkQF_bwxWxZ"
      },
      "source": [
        "## CLEANING THE IMDB DATAFRAME:"
      ]
    },
    {
      "cell_type": "code",
      "metadata": {
        "colab": {
          "base_uri": "https://localhost:8080/"
        },
        "id": "EPK4jZ1-x9Z3",
        "outputId": "74abbe3a-0c41-49a9-c826-f786d4098dd9"
      },
      "source": [
        "np.array(df_imdb['budget'].unique())"
      ],
      "execution_count": 138,
      "outputs": [
        {
          "output_type": "execute_result",
          "data": {
            "text/plain": [
              "array(['$30,000,000', '$65,000,000', '$25,000,000', ..., 'DKK35,000,000',\n",
              "       'EUR90,000', 'DEM5,800,000'], dtype=object)"
            ]
          },
          "metadata": {
            "tags": []
          },
          "execution_count": 138
        }
      ]
    },
    {
      "cell_type": "markdown",
      "metadata": {
        "id": "0DPhDONDyQdn"
      },
      "source": [
        "WE WISH TO REMOVE CURRENCY SYMBOLS/CODES BEFORE FROM THE BUDGET COLUMN. PLACING THESE BUDGET SYMBOLS INTO A NEW COLUMN WILL ENABLE US TO CONVERT ALL BUDGETS INTO DOLLARS LATER ON:"
      ]
    },
    {
      "cell_type": "code",
      "metadata": {
        "id": "gpvou1S9Dzzz"
      },
      "source": [
        "df_imdb['budget'] = df_imdb['budget'].str.replace(r'$', 'USD')"
      ],
      "execution_count": 139,
      "outputs": []
    },
    {
      "cell_type": "code",
      "metadata": {
        "id": "E32yS2NBx0Bj"
      },
      "source": [
        "df_imdb['currency'] = df_imdb['budget'].str.extract(r'([a-zA-Z]*)')"
      ],
      "execution_count": 140,
      "outputs": []
    },
    {
      "cell_type": "code",
      "metadata": {
        "id": "Rti87uKGK7qg"
      },
      "source": [
        "df_imdb['budget'] = df_imdb['budget'].str.replace(r'[a-zA-Z]', '')"
      ],
      "execution_count": 141,
      "outputs": []
    },
    {
      "cell_type": "code",
      "metadata": {
        "colab": {
          "base_uri": "https://localhost:8080/",
          "height": 0
        },
        "id": "von4j0hyzVSM",
        "outputId": "2dea4525-2358-421d-e229-1406e7033559"
      },
      "source": [
        "df_imdb.head()"
      ],
      "execution_count": 142,
      "outputs": [
        {
          "output_type": "execute_result",
          "data": {
            "text/html": [
              "<div>\n",
              "<style scoped>\n",
              "    .dataframe tbody tr th:only-of-type {\n",
              "        vertical-align: middle;\n",
              "    }\n",
              "\n",
              "    .dataframe tbody tr th {\n",
              "        vertical-align: top;\n",
              "    }\n",
              "\n",
              "    .dataframe thead th {\n",
              "        text-align: right;\n",
              "    }\n",
              "</style>\n",
              "<table border=\"1\" class=\"dataframe\">\n",
              "  <thead>\n",
              "    <tr style=\"text-align: right;\">\n",
              "      <th></th>\n",
              "      <th>movieId</th>\n",
              "      <th>title_cast</th>\n",
              "      <th>director</th>\n",
              "      <th>runtime</th>\n",
              "      <th>budget</th>\n",
              "      <th>plot_keywords</th>\n",
              "      <th>currency</th>\n",
              "    </tr>\n",
              "  </thead>\n",
              "  <tbody>\n",
              "    <tr>\n",
              "      <th>0</th>\n",
              "      <td>1</td>\n",
              "      <td>Tom Hanks|Tim Allen|Don Rickles|Jim Varney|Wal...</td>\n",
              "      <td>John Lasseter</td>\n",
              "      <td>81.0</td>\n",
              "      <td>30,000,000</td>\n",
              "      <td>toy|rivalry|cowboy|cgi animation</td>\n",
              "      <td>USD</td>\n",
              "    </tr>\n",
              "    <tr>\n",
              "      <th>1</th>\n",
              "      <td>2</td>\n",
              "      <td>Robin Williams|Jonathan Hyde|Kirsten Dunst|Bra...</td>\n",
              "      <td>Jonathan Hensleigh</td>\n",
              "      <td>104.0</td>\n",
              "      <td>65,000,000</td>\n",
              "      <td>board game|adventurer|fight|game</td>\n",
              "      <td>USD</td>\n",
              "    </tr>\n",
              "    <tr>\n",
              "      <th>2</th>\n",
              "      <td>3</td>\n",
              "      <td>Walter Matthau|Jack Lemmon|Sophia Loren|Ann-Ma...</td>\n",
              "      <td>Mark Steven Johnson</td>\n",
              "      <td>101.0</td>\n",
              "      <td>25,000,000</td>\n",
              "      <td>boat|lake|neighbor|rivalry</td>\n",
              "      <td>USD</td>\n",
              "    </tr>\n",
              "    <tr>\n",
              "      <th>3</th>\n",
              "      <td>4</td>\n",
              "      <td>Whitney Houston|Angela Bassett|Loretta Devine|...</td>\n",
              "      <td>Terry McMillan</td>\n",
              "      <td>124.0</td>\n",
              "      <td>16,000,000</td>\n",
              "      <td>black american|husband wife relationship|betra...</td>\n",
              "      <td>USD</td>\n",
              "    </tr>\n",
              "    <tr>\n",
              "      <th>4</th>\n",
              "      <td>5</td>\n",
              "      <td>Steve Martin|Diane Keaton|Martin Short|Kimberl...</td>\n",
              "      <td>Albert Hackett</td>\n",
              "      <td>106.0</td>\n",
              "      <td>30,000,000</td>\n",
              "      <td>fatherhood|doberman|dog|mansion</td>\n",
              "      <td>USD</td>\n",
              "    </tr>\n",
              "  </tbody>\n",
              "</table>\n",
              "</div>"
            ],
            "text/plain": [
              "   movieId  ... currency\n",
              "0        1  ...      USD\n",
              "1        2  ...      USD\n",
              "2        3  ...      USD\n",
              "3        4  ...      USD\n",
              "4        5  ...      USD\n",
              "\n",
              "[5 rows x 7 columns]"
            ]
          },
          "metadata": {
            "tags": []
          },
          "execution_count": 142
        }
      ]
    },
    {
      "cell_type": "code",
      "metadata": {
        "colab": {
          "base_uri": "https://localhost:8080/"
        },
        "id": "5xvHAEKGzulU",
        "outputId": "51e2492d-f67b-4c8a-ae04-59ede01b73c4"
      },
      "source": [
        "np.array(df_imdb['budget'].unique())"
      ],
      "execution_count": 143,
      "outputs": [
        {
          "output_type": "execute_result",
          "data": {
            "text/plain": [
              "array(['30,000,000', '65,000,000', '25,000,000', '16,000,000',\n",
              "       '60,000,000', '58,000,000', nan, '35,000,000', '62,000,000',\n",
              "       '44,000,000', '98,000,000', '52,000,000', '4,000,000',\n",
              "       '68,000,000', '30,250,000', '20,000,000', '50,000,000',\n",
              "       '9,500,000', '3,600,000', '11,000,000', '18,000,000', '23,000,000',\n",
              "       '29,000,001', '12,000,000', '6,000,000', '10,000,000',\n",
              "       '19,000,000', '33,000,000', '55,000,000', '15,000,000',\n",
              "       '3,000,000', '45,000,000', '3,800,000', '3,500,000', '9,000,000',\n",
              "       '150,000', '7,000,000', '1,500,000', '4,997,987', '38,000,000',\n",
              "       '47,000,000', '2,590,000', '40,000,000', '24,000,000',\n",
              "       '72,000,000', '7,500,000', '5,000,000', '42,000,000', '17,000,000',\n",
              "       '31,000,000', '238,000', '2,000,000', '2,300,000', '28,000,000',\n",
              "       '100,000,000', '53,000,000', '27,000,000', '90,000,000',\n",
              "       '26,000,000', '500,000', '1,000,000', '22,000,000', '8,000,000',\n",
              "       '46,000,000', '13,000,000', '175,000,000', '2,800,000',\n",
              "       '1,900,000', '2,500,000', '21,000,000', '27,000', '700,000',\n",
              "       '10,500,000', '14,000,000', '38,976,598', '65,897,768',\n",
              "       '5,500,000', '34,000,000', '115,000,000', '400,000', '32,000,000',\n",
              "       '3,465,000', '6,500,000', '4,400,000', '75,000,000', '11,500,000',\n",
              "       '70,000,000', '63,000,000', '80,000', '17,080,000', '3,200,000',\n",
              "       '6,900,000', '57,000,000', '3,400,000', '999,999', '15,000',\n",
              "       '40,997,769', '85,000,000', '13,500,000', '120,000', '800,000',\n",
              "       '48,000,000', '7,400,000', '164,000,000', '200,000', '102,000,000',\n",
              "       '6,340,000', '33,500,000', '39,000,000', '80,000,000',\n",
              "       '130,000,000', '130,000', '29,000,000', '25,530,000', '4,800,000',\n",
              "       '92,000,000', '10,290,000', '600,000,000', '8,500,000', '950,000',\n",
              "       '54,000,000', '36,000,000', '3,300,000', '900,000', '4,500,000',\n",
              "       '4,100,000', '67,000,000', '1,300,000', '2,400,000', '14,500,000',\n",
              "       '1,200,000', '49,000,000', '12,500,000', '6,788,000', '3,330,000',\n",
              "       '14,600,000', '14,400,000', '21,500,000', '116,000,000',\n",
              "       '31,190,000', '250,000', '16,500,000', '93,000,000', '73,000,000',\n",
              "       '160,000,000', '450,000', '125,000,000', '300,000', '25,000',\n",
              "       '740,000', '2,700,000', '37,000,000', '105,000,000', '200,000,000',\n",
              "       '110,000,000', '30,000', '67,000', '2,100,000', '18,500,000',\n",
              "       '180,000', '650,000', '66,000,000', '71,500,000', '140,000,000',\n",
              "       '60,000', '230,000', '95,000,000', '19,200,000', '365,000',\n",
              "       '11,350,000', '43,000,000', '41,000,000', '1,100,000', '2,200,000',\n",
              "       '139,064', '120,000,000', '2,900,000', '600,000', '7,300',\n",
              "       '960,000', '700,000,000', '6,000', '370,000,000', '375,000',\n",
              "       '34,200,000', '82,000,000', '170,000,000', '6,400,000',\n",
              "       '2,600,000', '64,000,000', '400,000,000', '5,250,000',\n",
              "       '2,400,000,000', '51,000,000', '135,000,000', '312,000',\n",
              "       '29,750,000', '133,000,000', '1,091,250', '11,700,000', '7,000',\n",
              "       '150,000,000', '41,300,000', '1,400,000', '83,000,000', '40,000',\n",
              "       '850,000', '103,000,000', '127,500,000', '780,000', '76,000,000',\n",
              "       '16,400,000', '84,000,000', '8,400,000', '225,000', '12,800,000',\n",
              "       '350,000', '63,600,000', '123,000,000', '1,727,000', '1,800,000',\n",
              "       '87,000,000', '11,900,000', '75,000', '17,700,000', '10,000',\n",
              "       '21,150,000', '94,000,000', '95,130,000', '137,000,000',\n",
              "       '1,365,000', '480,000', '1,600,000', '100,000', '1,700,000',\n",
              "       '107,000,000', '19,800,000', '21,800,000', '11,800,000',\n",
              "       '7,300,000', '59,000,000', '42,000', '139,000,000', '1,960,000',\n",
              "       '15,600,000', '5,600,000', '425,000', '721,214', '15,300,000',\n",
              "       '78,000,000', '825,000', '15,500,000', '750,000', '142,000,000',\n",
              "       '125,000', '56,000,000', '3,500,159', '250,050', '35,200,000',\n",
              "       '17,500,000', '5,300,000', '81,000,000', '12,600,000', '24,000',\n",
              "       '1,950,000', '20,000', '7,032,000', '128,000,000', '109,000,000',\n",
              "       '23,000', '17,010,000', '79,000,000', '5,740,000', '46,000',\n",
              "       '10,700,000', '8,600,000', '19,250,000', '70,000', '4,200,000',\n",
              "       '880,000', '12,614,904', '6,428,966', '900', '9,750,000',\n",
              "       '6,200,000', '65,000', '6,600,000', '59,660,000', '141,000,000',\n",
              "       '220', '4,300,000', '86,000,000', '165,000,000', '155,000,000',\n",
              "       '26,000', '33,000', '3,700,000', '5,562,154', '4,467,213',\n",
              "       '2,095,000', '891,000', '4,773,394', '152,000,000', '7,436,800',\n",
              "       '5,234,794', '3,900,000', '35,000', '2,850,000', '170,000',\n",
              "       '500,000,000', '4,158,370', '327,000,000', '7,100,000',\n",
              "       '10,600,000', '36,100,000', '9,400,000', '22,100,000', '1,087,000',\n",
              "       '1,525,000', '15,450,000', '56,600,000', '2,000,000,000',\n",
              "       '8,700,000', '5,400,000', '27,440,000', '160,000', '550,052',\n",
              "       '7,850,000', '5,250,784', '7,800,000', '377,000', '90,000',\n",
              "       '6,800,000', '4,500', '944,149', '4,700,000', '113,000,000',\n",
              "       '88,000,000', '19,500,000', '4,750,000', '6,750,000', '8,800,000',\n",
              "       '132,000,000', '33,100,000', '1,750,211', '126,000,000', '1,100',\n",
              "       '180,000,000', '274,620,000', '1,588,000', '5,055,000',\n",
              "       '4,600,000', '560,400', '1,300,000,000', '14,200,000', '695,393',\n",
              "       '1,280,000', '207,000,000', '13,800,000', '169,000',\n",
              "       '4,200,000,000', '1,790,000', '7,900,000', '50,000', '14,000',\n",
              "       '37,665,000', '20,500,000', '1,234,567', '1,380,000', '7,450,000',\n",
              "       '475,000', '1,650,000', '849,302', '1,601,792', '2,000',\n",
              "       '210,000,000', '9,600,000', '82,500,000', '225,000,000',\n",
              "       '2,625,000', '270,000,000', '10,200,000', '72,500,000', '537,000',\n",
              "       '19,300,000', '9,800,000', '13,580,000', '5,800,000',\n",
              "       '2,500,000,000', '2,500', '2,750,000', '149,000,000', '16,800,000',\n",
              "       '19,400,000', '5,000', '12,215,500,000', '61,000,000', '1,850,000',\n",
              "       '15,250,000', '60,795,000', '258,000,000', '300,000,000',\n",
              "       '25,320,000', '2,224,000', '185,000', '1,350,000', '5,340,000',\n",
              "       '760,000', '590,000', '27,500,000', '84,450,000', '7,600,000',\n",
              "       '8,300,000', '5,900,000', '3,000', '68,000', '2,349,352',\n",
              "       '185,000,000', '12,447,638', '3,750,000', '127,000', '1,420,571',\n",
              "       '26,900,000', '15,155,100', '105,000', '145,000,000',\n",
              "       '553,632,000', '980,000', '119,000,000', '3,390,000', '25,100,000',\n",
              "       '6,100,000', '930,679', '10,800,000', '220,000,000', '1,479,000',\n",
              "       '11,715,578', '3,950,000', '4,140,000', '390,240', '14,278,968',\n",
              "       '1,500', '5,700,000', '4,773,906', '260,000', '612,650', '137,000',\n",
              "       '8,900,000', '6,300,000', '2,150,000', '37,500,000', '29,500,000',\n",
              "       '250,000,000', '9,200,000', '890,000', '6', '23,600,000',\n",
              "       '2,091,778', '14,700,000', '8,240,000', '655,500', '29,000',\n",
              "       '5,100,000', '586,662', '237,000,000', '13,300,000', '8,823,603',\n",
              "       '1,583,017', '2,650,000', '151,436', '550,000,000', '21,277,000',\n",
              "       '430,000', '530,000,000', '525,000', '554,828', '327,000',\n",
              "       '2,270,000', '2,800', '5', '149,979', '175,000', '566,823',\n",
              "       '3,120,375', '1,550,000', '69,000,000', '3,100,000', '117,000,000',\n",
              "       '1,250,000', '13,720,000', '244,579', '31,340,000', '240,000',\n",
              "       '4,831,427', '1,448,260', '625,000', '983,081', '3,600',\n",
              "       '4,755,000', '15,400,000', '211,002', '7,788,176', '260,000,000',\n",
              "       '300', '1,948,000', '522,600', '112,000,000', '85,000',\n",
              "       '7,200,000', '5,320,000', '163,000,000', '3,418,808', '1,283,000',\n",
              "       '1,526,000', '7,930,000', '190,000', '2,460,000', '730,090',\n",
              "       '4,830,000', '5,310,000', '671,000', '50,200,000', '13,000',\n",
              "       '23,500,000', '21,166,000', '19,900,000', '3,167,000', '8,140,500',\n",
              "       '24,500,000', '1,050,000', '668,952', '411,555', '633,600',\n",
              "       '32,500,000', '9,780,000', '275,000', '134,216', '3,238,460',\n",
              "       '1,259,000', '135,000', '9,500', '3,675,000', '195,000,000',\n",
              "       '49,900,000', '3,345,000', '2,880,002', '38,000', '350,000,000',\n",
              "       '8,170,000', '1,180,000', '3,875,000', '3,850,000', '17,000',\n",
              "       '1,900,000,000', '5,874,828', '560,000', '30,300,000', '1,730,000',\n",
              "       '19,100,000', '1,189,000', '3,853,097', '7,740,000', '1,450,000',\n",
              "       '3,660,000', '382,241', '9,000', '2', '1,552,000', '790,000',\n",
              "       '748,000', '244,000', '55,000', '717,000', '6,275,088',\n",
              "       '5,650,000', '1,152,065', '1,670,000', '550,000', '325,000',\n",
              "       '301,500', '208,742', '245,000', '450,000,000', '930,000',\n",
              "       '1,881,976', '209,000,000', '9,150,000', '1,030,000', '14,373,000',\n",
              "       '230,000,000', '1,690,000', '48,000', '3,790,000', '650',\n",
              "       '5,210,000', '1,552,334', '9,980,000', '270,000', '289,900',\n",
              "       '6,700,000', '2,053,763', '1,000', '848,000', '16,600,000',\n",
              "       '480,800', '330,000', '390,000', '44,500,000', '184,000,000',\n",
              "       '3,650,000', '8,000', '110,000', '24,400,000', '4,275,000', '500',\n",
              "       '15,700,000', '26,350,000', '1,860,000', '18,070,000',\n",
              "       '10,400,000', '5,350,000', '4,770,000', '320,000',\n",
              "       '10,000,000,000', '30,000,000,000', '140,000', '13,400,000',\n",
              "       '5,668,688', '295,000', '8,000,000,000', '215,000,000', '200',\n",
              "       '3,250,000', '195,000', '153,000,000', '102,000', '420,000,000',\n",
              "       '3,411,266', '1,750,000', '38,600,000', '286,000', '5,750,000',\n",
              "       '190,000,000', '2,390,000', '162,400', '316,000', '7,700,000',\n",
              "       '220,000', '725,000', '17,100,000', '27,220,000', '3,999,829',\n",
              "       '4,900,000', '210,000', '953,000,000', '257,428', '7,395,080',\n",
              "       '358,180', '18,400,000', '34,148,170', '1,000,000,000',\n",
              "       '10,300,000', '830,000', '385,000', '103,000', '1,009,653',\n",
              "       '1,360,000', '3,520,000', '62,000', '1,150,000,000', '1,555,960',\n",
              "       '7,124,618', '3,500', '112,000', '8,200,000', '1,620,000',\n",
              "       '280,000', '860,000', '205,000', '39,200,000', '338,663', '999',\n",
              "       '810,000', '4,000,000,000', '1,150,000', '4,000', '2,729,542',\n",
              "       '1,370,398', '440,000', '143,000', '9,700,000', '16,700,000',\n",
              "       '7,350,000', '5,200,000', '4,574,488', '65,815', '313,411',\n",
              "       '5,555,559', '1,660,000', '9,450,000', '25,500,000', '7,466,244',\n",
              "       '18', '360,000', '4,651,916', '10,900,000', '12,000', '420,000',\n",
              "       '0', '1,710,000', '178,000,000', '6,950,000', '12,700,000',\n",
              "       '19,700,000', '4,273,248', '1,490,000', '153,875', '305,000',\n",
              "       '1,575', '1,880,000', '14,340,000', '4,576,591', '176,000,000',\n",
              "       '675,000', '2,350,000', '325,927', '13,200,000', '5,000,000,000',\n",
              "       '58,800,000', '33,746,302', '176,199', '1,245,000', '5,950,000',\n",
              "       '2,700,000,000', '7,750,000', '38,500,000', '4,480,000',\n",
              "       '900,000,000', '22,500,000', '530,000', '17,900,000', '1,440,000',\n",
              "       '930,000,000', '475,345', '937,000', '4,625,000', '4,460,000',\n",
              "       '127,000,000', '172,000', '5,284,200', '1,531,168', '5,328,737',\n",
              "       '1,320,000', '495,000', '4', '380,000', '1,312,000', '1,260,000',\n",
              "       '798,000', '400', '1,070,000', '1,647,579', '223,391',\n",
              "       '1,270,000,000', '69,000', '315,000', '240,000,000', '1,175,000',\n",
              "       '37,700,000', '453,000', '3,500,000,000', '57,050', '2,197,496',\n",
              "       '526,000', '21,000', '1,062,000', '6,350,000', '10,990,000',\n",
              "       '104,000', '1', '50,100,000', '74,000,000', '1,475,000',\n",
              "       '7,000,000,000', '2,850,180'], dtype=object)"
            ]
          },
          "metadata": {
            "tags": []
          },
          "execution_count": 143
        }
      ]
    },
    {
      "cell_type": "code",
      "metadata": {
        "colab": {
          "base_uri": "https://localhost:8080/"
        },
        "id": "Reg8amkYz_iB",
        "outputId": "21f510af-5b6b-4b6b-85b8-c29dde62bfb0"
      },
      "source": [
        "np.array(df_imdb['currency'].unique())"
      ],
      "execution_count": 144,
      "outputs": [
        {
          "output_type": "execute_result",
          "data": {
            "text/plain": [
              "array(['USD', nan, 'GBP', 'EUR', 'CAD', 'FRF', 'DEM', 'AUD', 'ISK', 'JPY',\n",
              "       'HKD', 'CHF', 'ESP', 'INR', 'BEF', 'SEK', 'ATS', 'NOK', 'FIM',\n",
              "       'SGD', 'DKK', 'THB', 'BRL', 'NLG', 'BND', 'CNY', 'NZD', 'HUF',\n",
              "       'CZK', 'PLN', 'KRW', 'TRL', 'ZAR', 'EGP', 'BGL', 'TWD', 'IDR',\n",
              "       'SIT', 'MYR', 'ILS', 'CLP', 'MXN', 'COP', 'LTL', 'ARS', 'IRR',\n",
              "       'PTE', 'VEB', 'UAH', 'NGN', 'ITL', 'LVL', 'RUR', 'PHP'],\n",
              "      dtype=object)"
            ]
          },
          "metadata": {
            "tags": []
          },
          "execution_count": 144
        }
      ]
    },
    {
      "cell_type": "markdown",
      "metadata": {
        "id": "J5m5eDZW0-4p"
      },
      "source": [
        "ALSO, IT IS IMPORTANT TO REMOVE THE COMMAS SEPEARTING EVERY THOUSANDTH VALUE IN THE BUDGET COLUMN IN ORDER FOR LATER ANALYSIS:"
      ]
    },
    {
      "cell_type": "code",
      "metadata": {
        "id": "qX33gouQfbWe"
      },
      "source": [
        "df_imdb['budget'] = df_imdb['budget'].str.replace(',', '')"
      ],
      "execution_count": 145,
      "outputs": []
    },
    {
      "cell_type": "code",
      "metadata": {
        "colab": {
          "base_uri": "https://localhost:8080/",
          "height": 0
        },
        "id": "pQaX13eH1JT-",
        "outputId": "ee221e67-f6c3-49eb-f670-6f49f136992f"
      },
      "source": [
        "df_imdb.head()"
      ],
      "execution_count": 146,
      "outputs": [
        {
          "output_type": "execute_result",
          "data": {
            "text/html": [
              "<div>\n",
              "<style scoped>\n",
              "    .dataframe tbody tr th:only-of-type {\n",
              "        vertical-align: middle;\n",
              "    }\n",
              "\n",
              "    .dataframe tbody tr th {\n",
              "        vertical-align: top;\n",
              "    }\n",
              "\n",
              "    .dataframe thead th {\n",
              "        text-align: right;\n",
              "    }\n",
              "</style>\n",
              "<table border=\"1\" class=\"dataframe\">\n",
              "  <thead>\n",
              "    <tr style=\"text-align: right;\">\n",
              "      <th></th>\n",
              "      <th>movieId</th>\n",
              "      <th>title_cast</th>\n",
              "      <th>director</th>\n",
              "      <th>runtime</th>\n",
              "      <th>budget</th>\n",
              "      <th>plot_keywords</th>\n",
              "      <th>currency</th>\n",
              "    </tr>\n",
              "  </thead>\n",
              "  <tbody>\n",
              "    <tr>\n",
              "      <th>0</th>\n",
              "      <td>1</td>\n",
              "      <td>Tom Hanks|Tim Allen|Don Rickles|Jim Varney|Wal...</td>\n",
              "      <td>John Lasseter</td>\n",
              "      <td>81.0</td>\n",
              "      <td>30000000</td>\n",
              "      <td>toy|rivalry|cowboy|cgi animation</td>\n",
              "      <td>USD</td>\n",
              "    </tr>\n",
              "    <tr>\n",
              "      <th>1</th>\n",
              "      <td>2</td>\n",
              "      <td>Robin Williams|Jonathan Hyde|Kirsten Dunst|Bra...</td>\n",
              "      <td>Jonathan Hensleigh</td>\n",
              "      <td>104.0</td>\n",
              "      <td>65000000</td>\n",
              "      <td>board game|adventurer|fight|game</td>\n",
              "      <td>USD</td>\n",
              "    </tr>\n",
              "    <tr>\n",
              "      <th>2</th>\n",
              "      <td>3</td>\n",
              "      <td>Walter Matthau|Jack Lemmon|Sophia Loren|Ann-Ma...</td>\n",
              "      <td>Mark Steven Johnson</td>\n",
              "      <td>101.0</td>\n",
              "      <td>25000000</td>\n",
              "      <td>boat|lake|neighbor|rivalry</td>\n",
              "      <td>USD</td>\n",
              "    </tr>\n",
              "    <tr>\n",
              "      <th>3</th>\n",
              "      <td>4</td>\n",
              "      <td>Whitney Houston|Angela Bassett|Loretta Devine|...</td>\n",
              "      <td>Terry McMillan</td>\n",
              "      <td>124.0</td>\n",
              "      <td>16000000</td>\n",
              "      <td>black american|husband wife relationship|betra...</td>\n",
              "      <td>USD</td>\n",
              "    </tr>\n",
              "    <tr>\n",
              "      <th>4</th>\n",
              "      <td>5</td>\n",
              "      <td>Steve Martin|Diane Keaton|Martin Short|Kimberl...</td>\n",
              "      <td>Albert Hackett</td>\n",
              "      <td>106.0</td>\n",
              "      <td>30000000</td>\n",
              "      <td>fatherhood|doberman|dog|mansion</td>\n",
              "      <td>USD</td>\n",
              "    </tr>\n",
              "  </tbody>\n",
              "</table>\n",
              "</div>"
            ],
            "text/plain": [
              "   movieId  ... currency\n",
              "0        1  ...      USD\n",
              "1        2  ...      USD\n",
              "2        3  ...      USD\n",
              "3        4  ...      USD\n",
              "4        5  ...      USD\n",
              "\n",
              "[5 rows x 7 columns]"
            ]
          },
          "metadata": {
            "tags": []
          },
          "execution_count": 146
        }
      ]
    },
    {
      "cell_type": "code",
      "metadata": {
        "colab": {
          "base_uri": "https://localhost:8080/",
          "height": 0
        },
        "id": "V1Uhzl2M_iEs",
        "outputId": "13878997-ced7-42b3-f294-5c2347624fd9"
      },
      "source": [
        "df_imdb['title_cast'] = df_imdb['title_cast'].str.replace(\"|\", \",\")\n",
        "df_imdb.head()"
      ],
      "execution_count": 147,
      "outputs": [
        {
          "output_type": "execute_result",
          "data": {
            "text/html": [
              "<div>\n",
              "<style scoped>\n",
              "    .dataframe tbody tr th:only-of-type {\n",
              "        vertical-align: middle;\n",
              "    }\n",
              "\n",
              "    .dataframe tbody tr th {\n",
              "        vertical-align: top;\n",
              "    }\n",
              "\n",
              "    .dataframe thead th {\n",
              "        text-align: right;\n",
              "    }\n",
              "</style>\n",
              "<table border=\"1\" class=\"dataframe\">\n",
              "  <thead>\n",
              "    <tr style=\"text-align: right;\">\n",
              "      <th></th>\n",
              "      <th>movieId</th>\n",
              "      <th>title_cast</th>\n",
              "      <th>director</th>\n",
              "      <th>runtime</th>\n",
              "      <th>budget</th>\n",
              "      <th>plot_keywords</th>\n",
              "      <th>currency</th>\n",
              "    </tr>\n",
              "  </thead>\n",
              "  <tbody>\n",
              "    <tr>\n",
              "      <th>0</th>\n",
              "      <td>1</td>\n",
              "      <td>Tom Hanks,Tim Allen,Don Rickles,Jim Varney,Wal...</td>\n",
              "      <td>John Lasseter</td>\n",
              "      <td>81.0</td>\n",
              "      <td>30000000</td>\n",
              "      <td>toy|rivalry|cowboy|cgi animation</td>\n",
              "      <td>USD</td>\n",
              "    </tr>\n",
              "    <tr>\n",
              "      <th>1</th>\n",
              "      <td>2</td>\n",
              "      <td>Robin Williams,Jonathan Hyde,Kirsten Dunst,Bra...</td>\n",
              "      <td>Jonathan Hensleigh</td>\n",
              "      <td>104.0</td>\n",
              "      <td>65000000</td>\n",
              "      <td>board game|adventurer|fight|game</td>\n",
              "      <td>USD</td>\n",
              "    </tr>\n",
              "    <tr>\n",
              "      <th>2</th>\n",
              "      <td>3</td>\n",
              "      <td>Walter Matthau,Jack Lemmon,Sophia Loren,Ann-Ma...</td>\n",
              "      <td>Mark Steven Johnson</td>\n",
              "      <td>101.0</td>\n",
              "      <td>25000000</td>\n",
              "      <td>boat|lake|neighbor|rivalry</td>\n",
              "      <td>USD</td>\n",
              "    </tr>\n",
              "    <tr>\n",
              "      <th>3</th>\n",
              "      <td>4</td>\n",
              "      <td>Whitney Houston,Angela Bassett,Loretta Devine,...</td>\n",
              "      <td>Terry McMillan</td>\n",
              "      <td>124.0</td>\n",
              "      <td>16000000</td>\n",
              "      <td>black american|husband wife relationship|betra...</td>\n",
              "      <td>USD</td>\n",
              "    </tr>\n",
              "    <tr>\n",
              "      <th>4</th>\n",
              "      <td>5</td>\n",
              "      <td>Steve Martin,Diane Keaton,Martin Short,Kimberl...</td>\n",
              "      <td>Albert Hackett</td>\n",
              "      <td>106.0</td>\n",
              "      <td>30000000</td>\n",
              "      <td>fatherhood|doberman|dog|mansion</td>\n",
              "      <td>USD</td>\n",
              "    </tr>\n",
              "  </tbody>\n",
              "</table>\n",
              "</div>"
            ],
            "text/plain": [
              "   movieId  ... currency\n",
              "0        1  ...      USD\n",
              "1        2  ...      USD\n",
              "2        3  ...      USD\n",
              "3        4  ...      USD\n",
              "4        5  ...      USD\n",
              "\n",
              "[5 rows x 7 columns]"
            ]
          },
          "metadata": {
            "tags": []
          },
          "execution_count": 147
        }
      ]
    },
    {
      "cell_type": "code",
      "metadata": {
        "id": "7GW8WhHKGd61"
      },
      "source": [
        "cast = []\n",
        "\n",
        "for size in df_imdb['title_cast'].str.split(\",\"):\n",
        "  cast.append(size)\n",
        "\n",
        "df_imdb['cast'] = cast"
      ],
      "execution_count": 148,
      "outputs": []
    },
    {
      "cell_type": "code",
      "metadata": {
        "colab": {
          "base_uri": "https://localhost:8080/"
        },
        "id": "btasX04TA3Sm",
        "outputId": "fbf70e18-fed6-4988-cbfd-7c61908ea6d9"
      },
      "source": [
        "df_imdb.info()"
      ],
      "execution_count": 149,
      "outputs": [
        {
          "output_type": "stream",
          "text": [
            "<class 'pandas.core.frame.DataFrame'>\n",
            "RangeIndex: 27278 entries, 0 to 27277\n",
            "Data columns (total 8 columns):\n",
            " #   Column         Non-Null Count  Dtype  \n",
            "---  ------         --------------  -----  \n",
            " 0   movieId        27278 non-null  int64  \n",
            " 1   title_cast     17210 non-null  object \n",
            " 2   director       17404 non-null  object \n",
            " 3   runtime        15189 non-null  float64\n",
            " 4   budget         7906 non-null   object \n",
            " 5   plot_keywords  16200 non-null  object \n",
            " 6   currency       7906 non-null   object \n",
            " 7   cast           17210 non-null  object \n",
            "dtypes: float64(1), int64(1), object(6)\n",
            "memory usage: 1.7+ MB\n"
          ],
          "name": "stdout"
        }
      ]
    },
    {
      "cell_type": "code",
      "metadata": {
        "id": "RNCMM5oJJprf"
      },
      "source": [
        "cast_size = []\n",
        "\n",
        "for size in df_imdb['title_cast'].str.count(\",\"):\n",
        "  cast_size.append(size + 1)\n",
        "\n",
        "df_imdb['cast_size'] = cast_size"
      ],
      "execution_count": 150,
      "outputs": []
    },
    {
      "cell_type": "markdown",
      "metadata": {
        "id": "GFdflhrd8s9X"
      },
      "source": [
        "Extracting first 3 names from title cast column and calling it \"cast\". The assumption is that the star actor/actress is likely to appear within the first few names."
      ]
    },
    {
      "cell_type": "code",
      "metadata": {
        "colab": {
          "base_uri": "https://localhost:8080/",
          "height": 0
        },
        "id": "O_FDAURh2QJ5",
        "outputId": "511c51fb-cd31-4a96-b564-fe816d1f0977"
      },
      "source": [
        "df_imdb.head()"
      ],
      "execution_count": 151,
      "outputs": [
        {
          "output_type": "execute_result",
          "data": {
            "text/html": [
              "<div>\n",
              "<style scoped>\n",
              "    .dataframe tbody tr th:only-of-type {\n",
              "        vertical-align: middle;\n",
              "    }\n",
              "\n",
              "    .dataframe tbody tr th {\n",
              "        vertical-align: top;\n",
              "    }\n",
              "\n",
              "    .dataframe thead th {\n",
              "        text-align: right;\n",
              "    }\n",
              "</style>\n",
              "<table border=\"1\" class=\"dataframe\">\n",
              "  <thead>\n",
              "    <tr style=\"text-align: right;\">\n",
              "      <th></th>\n",
              "      <th>movieId</th>\n",
              "      <th>title_cast</th>\n",
              "      <th>director</th>\n",
              "      <th>runtime</th>\n",
              "      <th>budget</th>\n",
              "      <th>plot_keywords</th>\n",
              "      <th>currency</th>\n",
              "      <th>cast</th>\n",
              "      <th>cast_size</th>\n",
              "    </tr>\n",
              "  </thead>\n",
              "  <tbody>\n",
              "    <tr>\n",
              "      <th>0</th>\n",
              "      <td>1</td>\n",
              "      <td>Tom Hanks,Tim Allen,Don Rickles,Jim Varney,Wal...</td>\n",
              "      <td>John Lasseter</td>\n",
              "      <td>81.0</td>\n",
              "      <td>30000000</td>\n",
              "      <td>toy|rivalry|cowboy|cgi animation</td>\n",
              "      <td>USD</td>\n",
              "      <td>[Tom Hanks, Tim Allen, Don Rickles, Jim Varney...</td>\n",
              "      <td>15.0</td>\n",
              "    </tr>\n",
              "    <tr>\n",
              "      <th>1</th>\n",
              "      <td>2</td>\n",
              "      <td>Robin Williams,Jonathan Hyde,Kirsten Dunst,Bra...</td>\n",
              "      <td>Jonathan Hensleigh</td>\n",
              "      <td>104.0</td>\n",
              "      <td>65000000</td>\n",
              "      <td>board game|adventurer|fight|game</td>\n",
              "      <td>USD</td>\n",
              "      <td>[Robin Williams, Jonathan Hyde, Kirsten Dunst,...</td>\n",
              "      <td>15.0</td>\n",
              "    </tr>\n",
              "    <tr>\n",
              "      <th>2</th>\n",
              "      <td>3</td>\n",
              "      <td>Walter Matthau,Jack Lemmon,Sophia Loren,Ann-Ma...</td>\n",
              "      <td>Mark Steven Johnson</td>\n",
              "      <td>101.0</td>\n",
              "      <td>25000000</td>\n",
              "      <td>boat|lake|neighbor|rivalry</td>\n",
              "      <td>USD</td>\n",
              "      <td>[Walter Matthau, Jack Lemmon, Sophia Loren, An...</td>\n",
              "      <td>15.0</td>\n",
              "    </tr>\n",
              "    <tr>\n",
              "      <th>3</th>\n",
              "      <td>4</td>\n",
              "      <td>Whitney Houston,Angela Bassett,Loretta Devine,...</td>\n",
              "      <td>Terry McMillan</td>\n",
              "      <td>124.0</td>\n",
              "      <td>16000000</td>\n",
              "      <td>black american|husband wife relationship|betra...</td>\n",
              "      <td>USD</td>\n",
              "      <td>[Whitney Houston, Angela Bassett, Loretta Devi...</td>\n",
              "      <td>15.0</td>\n",
              "    </tr>\n",
              "    <tr>\n",
              "      <th>4</th>\n",
              "      <td>5</td>\n",
              "      <td>Steve Martin,Diane Keaton,Martin Short,Kimberl...</td>\n",
              "      <td>Albert Hackett</td>\n",
              "      <td>106.0</td>\n",
              "      <td>30000000</td>\n",
              "      <td>fatherhood|doberman|dog|mansion</td>\n",
              "      <td>USD</td>\n",
              "      <td>[Steve Martin, Diane Keaton, Martin Short, Kim...</td>\n",
              "      <td>15.0</td>\n",
              "    </tr>\n",
              "  </tbody>\n",
              "</table>\n",
              "</div>"
            ],
            "text/plain": [
              "   movieId  ... cast_size\n",
              "0        1  ...      15.0\n",
              "1        2  ...      15.0\n",
              "2        3  ...      15.0\n",
              "3        4  ...      15.0\n",
              "4        5  ...      15.0\n",
              "\n",
              "[5 rows x 9 columns]"
            ]
          },
          "metadata": {
            "tags": []
          },
          "execution_count": 151
        }
      ]
    },
    {
      "cell_type": "markdown",
      "metadata": {
        "id": "9JAF5o7s9PuN"
      },
      "source": [
        "CONVERTING THE BUDGET COLUMN INTO DOLLARS USING A CURRENCY CONVERTER COLUMN:"
      ]
    },
    {
      "cell_type": "code",
      "metadata": {
        "colab": {
          "base_uri": "https://localhost:8080/"
        },
        "id": "gSAGC2B59VNA",
        "outputId": "2b658bc9-fd2a-4b3e-8c53-9e1ec569aa12"
      },
      "source": [
        "pip install CurrencyConverter"
      ],
      "execution_count": 152,
      "outputs": [
        {
          "output_type": "stream",
          "text": [
            "Requirement already satisfied: CurrencyConverter in /usr/local/lib/python3.7/dist-packages (0.16.3)\n"
          ],
          "name": "stdout"
        }
      ]
    },
    {
      "cell_type": "code",
      "metadata": {
        "id": "6hwKRfSo9mQt"
      },
      "source": [
        "from currency_converter import CurrencyConverter"
      ],
      "execution_count": 153,
      "outputs": []
    },
    {
      "cell_type": "code",
      "metadata": {
        "id": "QTY57EiG9qxa"
      },
      "source": [
        "c = CurrencyConverter()"
      ],
      "execution_count": 154,
      "outputs": []
    },
    {
      "cell_type": "code",
      "metadata": {
        "colab": {
          "base_uri": "https://localhost:8080/"
        },
        "id": "1kml_OYu9t9x",
        "outputId": "c2582236-02b7-461f-dcaf-0c79be6a903a"
      },
      "source": [
        "c.convert(100, 'EUR', 'USD')"
      ],
      "execution_count": 155,
      "outputs": [
        {
          "output_type": "execute_result",
          "data": {
            "text/plain": [
              "118.22999999999999"
            ]
          },
          "metadata": {
            "tags": []
          },
          "execution_count": 155
        }
      ]
    },
    {
      "cell_type": "code",
      "metadata": {
        "colab": {
          "base_uri": "https://localhost:8080/"
        },
        "id": "olxkUVBb9z4Z",
        "outputId": "b04123cd-1f57-4f64-d645-3d030c3954f4"
      },
      "source": [
        "currencies = list(c.currencies)\n",
        "currencies"
      ],
      "execution_count": 156,
      "outputs": [
        {
          "output_type": "execute_result",
          "data": {
            "text/plain": [
              "['LTL',\n",
              " 'TRL',\n",
              " 'INR',\n",
              " 'IDR',\n",
              " 'BRL',\n",
              " 'LVL',\n",
              " 'GBP',\n",
              " 'CNY',\n",
              " 'AUD',\n",
              " 'SIT',\n",
              " 'ISK',\n",
              " 'PLN',\n",
              " 'USD',\n",
              " 'CHF',\n",
              " 'HRK',\n",
              " 'KRW',\n",
              " 'NZD',\n",
              " 'SKK',\n",
              " 'SGD',\n",
              " 'MTL',\n",
              " 'THB',\n",
              " 'CAD',\n",
              " 'PHP',\n",
              " 'MXN',\n",
              " 'EUR',\n",
              " 'NOK',\n",
              " 'ZAR',\n",
              " 'CYP',\n",
              " 'DKK',\n",
              " 'SEK',\n",
              " 'CZK',\n",
              " 'JPY',\n",
              " 'ILS',\n",
              " 'TRY',\n",
              " 'HKD',\n",
              " 'RUB',\n",
              " 'HUF',\n",
              " 'BGN',\n",
              " 'MYR',\n",
              " 'EEK',\n",
              " 'ROL',\n",
              " 'RON']"
            ]
          },
          "metadata": {
            "tags": []
          },
          "execution_count": 156
        }
      ]
    },
    {
      "cell_type": "code",
      "metadata": {
        "id": "xPzDHEzI-daF"
      },
      "source": [
        "currency_match = []\n",
        "\n",
        "for curr in df_imdb.currency:\n",
        "  if curr in currencies:\n",
        "    currency_match.append(curr)\n",
        "\n",
        "  else:\n",
        "    curr = np.nan\n",
        "    currency_match.append(curr)\n",
        "\n",
        "df_imdb['currency'] = currency_match"
      ],
      "execution_count": 157,
      "outputs": []
    },
    {
      "cell_type": "code",
      "metadata": {
        "colab": {
          "base_uri": "https://localhost:8080/"
        },
        "id": "xVsNl5a2-n2W",
        "outputId": "71fff427-8f77-4f25-91e0-5675484cbe26"
      },
      "source": [
        "np.array(df_imdb['currency'].unique())"
      ],
      "execution_count": 158,
      "outputs": [
        {
          "output_type": "execute_result",
          "data": {
            "text/plain": [
              "array(['USD', nan, 'GBP', 'EUR', 'CAD', 'AUD', 'ISK', 'JPY', 'HKD', 'CHF',\n",
              "       'INR', 'SEK', 'NOK', 'SGD', 'DKK', 'THB', 'BRL', 'CNY', 'NZD',\n",
              "       'HUF', 'CZK', 'PLN', 'KRW', 'TRL', 'ZAR', 'IDR', 'SIT', 'MYR',\n",
              "       'ILS', 'MXN', 'LTL', 'LVL', 'PHP'], dtype=object)"
            ]
          },
          "metadata": {
            "tags": []
          },
          "execution_count": 158
        }
      ]
    },
    {
      "cell_type": "code",
      "metadata": {
        "id": "nlIoKxpCFyEk"
      },
      "source": [
        "df_imdb['currency'].fillna('USD', inplace=True)"
      ],
      "execution_count": 159,
      "outputs": []
    },
    {
      "cell_type": "code",
      "metadata": {
        "colab": {
          "base_uri": "https://localhost:8080/"
        },
        "id": "iqWe9dacF3QU",
        "outputId": "ea77d93a-1683-4a63-d720-c667d50177a6"
      },
      "source": [
        "np.array(df_imdb['currency'].unique())"
      ],
      "execution_count": 160,
      "outputs": [
        {
          "output_type": "execute_result",
          "data": {
            "text/plain": [
              "array(['USD', 'GBP', 'EUR', 'CAD', 'AUD', 'ISK', 'JPY', 'HKD', 'CHF',\n",
              "       'INR', 'SEK', 'NOK', 'SGD', 'DKK', 'THB', 'BRL', 'CNY', 'NZD',\n",
              "       'HUF', 'CZK', 'PLN', 'KRW', 'TRL', 'ZAR', 'IDR', 'SIT', 'MYR',\n",
              "       'ILS', 'MXN', 'LTL', 'LVL', 'PHP'], dtype=object)"
            ]
          },
          "metadata": {
            "tags": []
          },
          "execution_count": 160
        }
      ]
    },
    {
      "cell_type": "code",
      "metadata": {
        "id": "WhZQqe9O_UeW"
      },
      "source": [
        "imdb = df_imdb.copy()"
      ],
      "execution_count": 161,
      "outputs": []
    },
    {
      "cell_type": "code",
      "metadata": {
        "colab": {
          "base_uri": "https://localhost:8080/",
          "height": 0
        },
        "id": "Wi1YSJczVLAM",
        "outputId": "b75b121c-f795-420d-8d7b-e3b20c7554ea"
      },
      "source": [
        "exchange_rate = []\n",
        "adjusted_budget = []\n",
        "\n",
        "for curr in imdb.currency:\n",
        "    e_rate = c.convert(1, curr, 'USD')\n",
        "    exchange_rate.append(e_rate)\n",
        "\n",
        "  \n",
        "  \n",
        "  \n",
        "  \n",
        "\n",
        "imdb['exchange_rate'] = exchange_rate\n",
        "imdb.tail(20)"
      ],
      "execution_count": 162,
      "outputs": [
        {
          "output_type": "execute_result",
          "data": {
            "text/html": [
              "<div>\n",
              "<style scoped>\n",
              "    .dataframe tbody tr th:only-of-type {\n",
              "        vertical-align: middle;\n",
              "    }\n",
              "\n",
              "    .dataframe tbody tr th {\n",
              "        vertical-align: top;\n",
              "    }\n",
              "\n",
              "    .dataframe thead th {\n",
              "        text-align: right;\n",
              "    }\n",
              "</style>\n",
              "<table border=\"1\" class=\"dataframe\">\n",
              "  <thead>\n",
              "    <tr style=\"text-align: right;\">\n",
              "      <th></th>\n",
              "      <th>movieId</th>\n",
              "      <th>title_cast</th>\n",
              "      <th>director</th>\n",
              "      <th>runtime</th>\n",
              "      <th>budget</th>\n",
              "      <th>plot_keywords</th>\n",
              "      <th>currency</th>\n",
              "      <th>cast</th>\n",
              "      <th>cast_size</th>\n",
              "      <th>exchange_rate</th>\n",
              "    </tr>\n",
              "  </thead>\n",
              "  <tbody>\n",
              "    <tr>\n",
              "      <th>27258</th>\n",
              "      <td>131166</td>\n",
              "      <td>Gary Sinise,Charles Scheffel,Justin Bartha,Ron...</td>\n",
              "      <td>Charles Scheffel</td>\n",
              "      <td>NaN</td>\n",
              "      <td>NaN</td>\n",
              "      <td>abbreviation in series title|tv mini series|ar...</td>\n",
              "      <td>USD</td>\n",
              "      <td>[Gary Sinise, Charles Scheffel, Justin Bartha,...</td>\n",
              "      <td>6.0</td>\n",
              "      <td>1.000000</td>\n",
              "    </tr>\n",
              "    <tr>\n",
              "      <th>27259</th>\n",
              "      <td>131168</td>\n",
              "      <td>Nina Hoss,Ronald Zehrfeld,Nina Kunzendorf,Trys...</td>\n",
              "      <td>Christian Petzold</td>\n",
              "      <td>98.0</td>\n",
              "      <td>NaN</td>\n",
              "      <td>holocaust survivor|survivor|facial reconstruct...</td>\n",
              "      <td>USD</td>\n",
              "      <td>[Nina Hoss, Ronald Zehrfeld, Nina Kunzendorf, ...</td>\n",
              "      <td>15.0</td>\n",
              "      <td>1.000000</td>\n",
              "    </tr>\n",
              "    <tr>\n",
              "      <th>27260</th>\n",
              "      <td>131170</td>\n",
              "      <td>Mark Hapka,Jessica Rothe,Eric Jungmann,Constan...</td>\n",
              "      <td>Laura Harkcom</td>\n",
              "      <td>83.0</td>\n",
              "      <td>NaN</td>\n",
              "      <td>multiverse|shot|backdoor pilot|man with a wido...</td>\n",
              "      <td>USD</td>\n",
              "      <td>[Mark Hapka, Jessica Rothe, Eric Jungmann, Con...</td>\n",
              "      <td>15.0</td>\n",
              "      <td>1.000000</td>\n",
              "    </tr>\n",
              "    <tr>\n",
              "      <th>27261</th>\n",
              "      <td>131172</td>\n",
              "      <td>Kambuzia Partovi,Maryam Moghadam,Jafar Panahi,...</td>\n",
              "      <td>Jafar Panahi</td>\n",
              "      <td>106.0</td>\n",
              "      <td>NaN</td>\n",
              "      <td>NaN</td>\n",
              "      <td>USD</td>\n",
              "      <td>[Kambuzia Partovi, Maryam Moghadam, Jafar Pana...</td>\n",
              "      <td>11.0</td>\n",
              "      <td>1.000000</td>\n",
              "    </tr>\n",
              "    <tr>\n",
              "      <th>27262</th>\n",
              "      <td>131174</td>\n",
              "      <td>David Dencik,Sverrir Gudnason,David Fukamachi ...</td>\n",
              "      <td>Klas Östergren</td>\n",
              "      <td>141.0</td>\n",
              "      <td>NaN</td>\n",
              "      <td>brother|apartment|male nudity|male frontal nudity</td>\n",
              "      <td>USD</td>\n",
              "      <td>[David Dencik, Sverrir Gudnason, David Fukamac...</td>\n",
              "      <td>15.0</td>\n",
              "      <td>1.000000</td>\n",
              "    </tr>\n",
              "    <tr>\n",
              "      <th>27263</th>\n",
              "      <td>131176</td>\n",
              "      <td>Nikolaj Coster-Waldau,Ulrich Thomsen,Nikolaj L...</td>\n",
              "      <td>Susanne Bier</td>\n",
              "      <td>102.0</td>\n",
              "      <td>35000000</td>\n",
              "      <td>f rated</td>\n",
              "      <td>DKK</td>\n",
              "      <td>[Nikolaj Coster-Waldau, Ulrich Thomsen, Nikola...</td>\n",
              "      <td>15.0</td>\n",
              "      <td>0.158997</td>\n",
              "    </tr>\n",
              "    <tr>\n",
              "      <th>27264</th>\n",
              "      <td>131180</td>\n",
              "      <td>Jesse Metcalfe,Meghan Ory,Virginia Madsen,Keeg...</td>\n",
              "      <td>Tim Carter</td>\n",
              "      <td>118.0</td>\n",
              "      <td>NaN</td>\n",
              "      <td>quarantine|zombie|shot dead|zombie infection</td>\n",
              "      <td>USD</td>\n",
              "      <td>[Jesse Metcalfe, Meghan Ory, Virginia Madsen, ...</td>\n",
              "      <td>15.0</td>\n",
              "      <td>1.000000</td>\n",
              "    </tr>\n",
              "    <tr>\n",
              "      <th>27265</th>\n",
              "      <td>131231</td>\n",
              "      <td>Jessica Paré,Brian Gleeson,Stanley Townsend,Fr...</td>\n",
              "      <td>Rob Burke</td>\n",
              "      <td>90.0</td>\n",
              "      <td>NaN</td>\n",
              "      <td>NaN</td>\n",
              "      <td>USD</td>\n",
              "      <td>[Jessica Paré, Brian Gleeson, Stanley Townsend...</td>\n",
              "      <td>15.0</td>\n",
              "      <td>1.000000</td>\n",
              "    </tr>\n",
              "    <tr>\n",
              "      <th>27266</th>\n",
              "      <td>131237</td>\n",
              "      <td>Leonid Barats,Aleksandr Demidov,Kamil Larin,Ro...</td>\n",
              "      <td>Leonid Barats</td>\n",
              "      <td>93.0</td>\n",
              "      <td>NaN</td>\n",
              "      <td>road trip|russia|eavesdropping|advertising</td>\n",
              "      <td>USD</td>\n",
              "      <td>[Leonid Barats, Aleksandr Demidov, Kamil Larin...</td>\n",
              "      <td>15.0</td>\n",
              "      <td>1.000000</td>\n",
              "    </tr>\n",
              "    <tr>\n",
              "      <th>27267</th>\n",
              "      <td>131239</td>\n",
              "      <td>Elmar Wepper,Mercan-Fatima Türköglu,Ivan Ander...</td>\n",
              "      <td>Christian Zübert</td>\n",
              "      <td>NaN</td>\n",
              "      <td>NaN</td>\n",
              "      <td>taxi|girl alone|taxi driver|mutual understanding</td>\n",
              "      <td>USD</td>\n",
              "      <td>[Elmar Wepper, Mercan-Fatima Türköglu, Ivan An...</td>\n",
              "      <td>15.0</td>\n",
              "      <td>1.000000</td>\n",
              "    </tr>\n",
              "    <tr>\n",
              "      <th>27268</th>\n",
              "      <td>131241</td>\n",
              "      <td>Tobias Schenke,Axel Stein,Luise Helm,Mina Tand...</td>\n",
              "      <td>Granz Henman</td>\n",
              "      <td>95.0</td>\n",
              "      <td>NaN</td>\n",
              "      <td>male objectification|gay|modern day adaptation...</td>\n",
              "      <td>USD</td>\n",
              "      <td>[Tobias Schenke, Axel Stein, Luise Helm, Mina ...</td>\n",
              "      <td>15.0</td>\n",
              "      <td>1.000000</td>\n",
              "    </tr>\n",
              "    <tr>\n",
              "      <th>27269</th>\n",
              "      <td>131243</td>\n",
              "      <td>Klaus Büchner,Andi Feldmann,Kulle Westphal,Ber...</td>\n",
              "      <td>Toby Genkel</td>\n",
              "      <td>76.0</td>\n",
              "      <td>NaN</td>\n",
              "      <td>vomiting|based on comic|drunk driver|beer drin...</td>\n",
              "      <td>USD</td>\n",
              "      <td>[Klaus Büchner, Andi Feldmann, Kulle Westphal,...</td>\n",
              "      <td>13.0</td>\n",
              "      <td>1.000000</td>\n",
              "    </tr>\n",
              "    <tr>\n",
              "      <th>27270</th>\n",
              "      <td>131248</td>\n",
              "      <td>Patrick Dempsey,Mandy Moore,Jeremy Suarez,Rick...</td>\n",
              "      <td>Rich Burns</td>\n",
              "      <td>NaN</td>\n",
              "      <td>NaN</td>\n",
              "      <td>bear|finale|series finale|hate</td>\n",
              "      <td>USD</td>\n",
              "      <td>[Patrick Dempsey, Mandy Moore, Jeremy Suarez, ...</td>\n",
              "      <td>15.0</td>\n",
              "      <td>1.000000</td>\n",
              "    </tr>\n",
              "    <tr>\n",
              "      <th>27271</th>\n",
              "      <td>131250</td>\n",
              "      <td>Daniel Brühl,Jasmin Schwiers,Niels-Bruno Schmi...</td>\n",
              "      <td>Marco Petry</td>\n",
              "      <td>NaN</td>\n",
              "      <td>NaN</td>\n",
              "      <td>hot|sex scene</td>\n",
              "      <td>USD</td>\n",
              "      <td>[Daniel Brühl, Jasmin Schwiers, Niels-Bruno Sc...</td>\n",
              "      <td>15.0</td>\n",
              "      <td>1.000000</td>\n",
              "    </tr>\n",
              "    <tr>\n",
              "      <th>27272</th>\n",
              "      <td>131252</td>\n",
              "      <td>Konstantin Graudus,Gustav Adolph Artz,Jürgen K...</td>\n",
              "      <td>Jörg Wagner</td>\n",
              "      <td>10.0</td>\n",
              "      <td>90000</td>\n",
              "      <td>safety|forklift|spoof|blood</td>\n",
              "      <td>EUR</td>\n",
              "      <td>[Konstantin Graudus, Gustav Adolph Artz, Jürge...</td>\n",
              "      <td>15.0</td>\n",
              "      <td>1.182300</td>\n",
              "    </tr>\n",
              "    <tr>\n",
              "      <th>27273</th>\n",
              "      <td>131254</td>\n",
              "      <td>Franz Dinda,Florian Lukas,Axel Stein,Kailas Ma...</td>\n",
              "      <td>Carsten Funke</td>\n",
              "      <td>85.0</td>\n",
              "      <td>NaN</td>\n",
              "      <td>man wrapped in a towel|man wears a thong|male ...</td>\n",
              "      <td>USD</td>\n",
              "      <td>[Franz Dinda, Florian Lukas, Axel Stein, Kaila...</td>\n",
              "      <td>15.0</td>\n",
              "      <td>1.000000</td>\n",
              "    </tr>\n",
              "    <tr>\n",
              "      <th>27274</th>\n",
              "      <td>131256</td>\n",
              "      <td>Rick Kavanian,Axel Stein,Eva Habermann,Christo...</td>\n",
              "      <td>Matthias Dinter</td>\n",
              "      <td>83.0</td>\n",
              "      <td>5800000</td>\n",
              "      <td>ski|ski resort|ampersand in title|drink in title</td>\n",
              "      <td>USD</td>\n",
              "      <td>[Rick Kavanian, Axel Stein, Eva Habermann, Chr...</td>\n",
              "      <td>15.0</td>\n",
              "      <td>1.000000</td>\n",
              "    </tr>\n",
              "    <tr>\n",
              "      <th>27275</th>\n",
              "      <td>131258</td>\n",
              "      <td>Nam-gil Kim,Ye-jin Son,Hae-Jin Yoo,Kyeong-yeon...</td>\n",
              "      <td>Seong-il Cheon</td>\n",
              "      <td>130.0</td>\n",
              "      <td>NaN</td>\n",
              "      <td>pirate|sword fight|korea|bandit</td>\n",
              "      <td>USD</td>\n",
              "      <td>[Nam-gil Kim, Ye-jin Son, Hae-Jin Yoo, Kyeong-...</td>\n",
              "      <td>15.0</td>\n",
              "      <td>1.000000</td>\n",
              "    </tr>\n",
              "    <tr>\n",
              "      <th>27276</th>\n",
              "      <td>131260</td>\n",
              "      <td>Martti Suosalo,Ilkka Koivula,Vexi Salmi,Riitta...</td>\n",
              "      <td>Timo Koivusalo</td>\n",
              "      <td>102.0</td>\n",
              "      <td>NaN</td>\n",
              "      <td>friend|friendship|television show|restaurant</td>\n",
              "      <td>USD</td>\n",
              "      <td>[Martti Suosalo, Ilkka Koivula, Vexi Salmi, Ri...</td>\n",
              "      <td>15.0</td>\n",
              "      <td>1.000000</td>\n",
              "    </tr>\n",
              "    <tr>\n",
              "      <th>27277</th>\n",
              "      <td>131262</td>\n",
              "      <td>Sophie Lane Curtis,Kelly Reilly,Graham Phillip...</td>\n",
              "      <td>Hilary Brougher</td>\n",
              "      <td>96.0</td>\n",
              "      <td>NaN</td>\n",
              "      <td>hex|witch|virgin|blood</td>\n",
              "      <td>USD</td>\n",
              "      <td>[Sophie Lane Curtis, Kelly Reilly, Graham Phil...</td>\n",
              "      <td>15.0</td>\n",
              "      <td>1.000000</td>\n",
              "    </tr>\n",
              "  </tbody>\n",
              "</table>\n",
              "</div>"
            ],
            "text/plain": [
              "       movieId  ... exchange_rate\n",
              "27258   131166  ...      1.000000\n",
              "27259   131168  ...      1.000000\n",
              "27260   131170  ...      1.000000\n",
              "27261   131172  ...      1.000000\n",
              "27262   131174  ...      1.000000\n",
              "27263   131176  ...      0.158997\n",
              "27264   131180  ...      1.000000\n",
              "27265   131231  ...      1.000000\n",
              "27266   131237  ...      1.000000\n",
              "27267   131239  ...      1.000000\n",
              "27268   131241  ...      1.000000\n",
              "27269   131243  ...      1.000000\n",
              "27270   131248  ...      1.000000\n",
              "27271   131250  ...      1.000000\n",
              "27272   131252  ...      1.182300\n",
              "27273   131254  ...      1.000000\n",
              "27274   131256  ...      1.000000\n",
              "27275   131258  ...      1.000000\n",
              "27276   131260  ...      1.000000\n",
              "27277   131262  ...      1.000000\n",
              "\n",
              "[20 rows x 10 columns]"
            ]
          },
          "metadata": {
            "tags": []
          },
          "execution_count": 162
        }
      ]
    },
    {
      "cell_type": "code",
      "metadata": {
        "colab": {
          "base_uri": "https://localhost:8080/"
        },
        "id": "ZPqmg-ggABEX",
        "outputId": "39ced72c-f3b5-4793-feac-335183714fed"
      },
      "source": [
        "imdb.info()"
      ],
      "execution_count": 163,
      "outputs": [
        {
          "output_type": "stream",
          "text": [
            "<class 'pandas.core.frame.DataFrame'>\n",
            "RangeIndex: 27278 entries, 0 to 27277\n",
            "Data columns (total 10 columns):\n",
            " #   Column         Non-Null Count  Dtype  \n",
            "---  ------         --------------  -----  \n",
            " 0   movieId        27278 non-null  int64  \n",
            " 1   title_cast     17210 non-null  object \n",
            " 2   director       17404 non-null  object \n",
            " 3   runtime        15189 non-null  float64\n",
            " 4   budget         7906 non-null   object \n",
            " 5   plot_keywords  16200 non-null  object \n",
            " 6   currency       27278 non-null  object \n",
            " 7   cast           17210 non-null  object \n",
            " 8   cast_size      17210 non-null  float64\n",
            " 9   exchange_rate  27278 non-null  float64\n",
            "dtypes: float64(3), int64(1), object(6)\n",
            "memory usage: 2.1+ MB\n"
          ],
          "name": "stdout"
        }
      ]
    },
    {
      "cell_type": "code",
      "metadata": {
        "id": "sqjfV5tZZdrp",
        "colab": {
          "base_uri": "https://localhost:8080/"
        },
        "outputId": "9b9d7e7c-933a-406e-8a84-f29955ddc1db"
      },
      "source": [
        "imdb['budget'].astype(float)"
      ],
      "execution_count": 164,
      "outputs": [
        {
          "output_type": "execute_result",
          "data": {
            "text/plain": [
              "0        30000000.0\n",
              "1        65000000.0\n",
              "2        25000000.0\n",
              "3        16000000.0\n",
              "4        30000000.0\n",
              "            ...    \n",
              "27273           NaN\n",
              "27274     5800000.0\n",
              "27275           NaN\n",
              "27276           NaN\n",
              "27277           NaN\n",
              "Name: budget, Length: 27278, dtype: float64"
            ]
          },
          "metadata": {
            "tags": []
          },
          "execution_count": 164
        }
      ]
    },
    {
      "cell_type": "code",
      "metadata": {
        "id": "z5y5MGhpH0xs"
      },
      "source": [
        "imdb['budget'].fillna(0, inplace=True)"
      ],
      "execution_count": 165,
      "outputs": []
    },
    {
      "cell_type": "code",
      "metadata": {
        "colab": {
          "base_uri": "https://localhost:8080/"
        },
        "id": "qJ0_K48HFJt4",
        "outputId": "569fddf5-4a90-40d5-df61-b4d60c432535"
      },
      "source": [
        "imdb.info()"
      ],
      "execution_count": 166,
      "outputs": [
        {
          "output_type": "stream",
          "text": [
            "<class 'pandas.core.frame.DataFrame'>\n",
            "RangeIndex: 27278 entries, 0 to 27277\n",
            "Data columns (total 10 columns):\n",
            " #   Column         Non-Null Count  Dtype  \n",
            "---  ------         --------------  -----  \n",
            " 0   movieId        27278 non-null  int64  \n",
            " 1   title_cast     17210 non-null  object \n",
            " 2   director       17404 non-null  object \n",
            " 3   runtime        15189 non-null  float64\n",
            " 4   budget         27278 non-null  object \n",
            " 5   plot_keywords  16200 non-null  object \n",
            " 6   currency       27278 non-null  object \n",
            " 7   cast           17210 non-null  object \n",
            " 8   cast_size      17210 non-null  float64\n",
            " 9   exchange_rate  27278 non-null  float64\n",
            "dtypes: float64(3), int64(1), object(6)\n",
            "memory usage: 2.1+ MB\n"
          ],
          "name": "stdout"
        }
      ]
    },
    {
      "cell_type": "code",
      "metadata": {
        "id": "crRETlY0FVlU"
      },
      "source": [
        "imdb['budget'] = pd.to_numeric(imdb['budget'], errors='coerce')"
      ],
      "execution_count": 167,
      "outputs": []
    },
    {
      "cell_type": "markdown",
      "metadata": {
        "id": "8Zc3WjU6AB3n"
      },
      "source": [
        "NOW USE THE EXCHANGE RATE, COUPLED WITH THE EXISTING BUDGET COLUMN TO CLACULATE THE BUDGET OF ALL MOVIES IN US DOLLARS:"
      ]
    },
    {
      "cell_type": "code",
      "metadata": {
        "id": "zBLOnRRTE1H1"
      },
      "source": [
        "imdb['budget_USD'] = imdb['budget'] * imdb['exchange_rate']"
      ],
      "execution_count": 168,
      "outputs": []
    },
    {
      "cell_type": "code",
      "metadata": {
        "colab": {
          "base_uri": "https://localhost:8080/",
          "height": 0
        },
        "id": "FrNWR9ZgGYfO",
        "outputId": "5156c0bc-f6a4-4097-ac47-640882f48d2c"
      },
      "source": [
        "imdb[imdb['budget'] == 0]"
      ],
      "execution_count": 169,
      "outputs": [
        {
          "output_type": "execute_result",
          "data": {
            "text/html": [
              "<div>\n",
              "<style scoped>\n",
              "    .dataframe tbody tr th:only-of-type {\n",
              "        vertical-align: middle;\n",
              "    }\n",
              "\n",
              "    .dataframe tbody tr th {\n",
              "        vertical-align: top;\n",
              "    }\n",
              "\n",
              "    .dataframe thead th {\n",
              "        text-align: right;\n",
              "    }\n",
              "</style>\n",
              "<table border=\"1\" class=\"dataframe\">\n",
              "  <thead>\n",
              "    <tr style=\"text-align: right;\">\n",
              "      <th></th>\n",
              "      <th>movieId</th>\n",
              "      <th>title_cast</th>\n",
              "      <th>director</th>\n",
              "      <th>runtime</th>\n",
              "      <th>budget</th>\n",
              "      <th>plot_keywords</th>\n",
              "      <th>currency</th>\n",
              "      <th>cast</th>\n",
              "      <th>cast_size</th>\n",
              "      <th>exchange_rate</th>\n",
              "      <th>budget_USD</th>\n",
              "    </tr>\n",
              "  </thead>\n",
              "  <tbody>\n",
              "    <tr>\n",
              "      <th>7</th>\n",
              "      <td>8</td>\n",
              "      <td>Jonathan Taylor Thomas,Brad Renfro,Eric Schwei...</td>\n",
              "      <td>Mark Twain</td>\n",
              "      <td>97.0</td>\n",
              "      <td>0</td>\n",
              "      <td>rescue from drowning|near drowning|character n...</td>\n",
              "      <td>USD</td>\n",
              "      <td>[Jonathan Taylor Thomas, Brad Renfro, Eric Sch...</td>\n",
              "      <td>15.0</td>\n",
              "      <td>1.0</td>\n",
              "      <td>0.0</td>\n",
              "    </tr>\n",
              "    <tr>\n",
              "      <th>12</th>\n",
              "      <td>13</td>\n",
              "      <td>Kevin Bacon,Bob Hoskins,Bridget Fonda,Jim Cumm...</td>\n",
              "      <td>Cliff Ruby</td>\n",
              "      <td>78.0</td>\n",
              "      <td>0</td>\n",
              "      <td>dog|nome alaska|alaska|children</td>\n",
              "      <td>USD</td>\n",
              "      <td>[Kevin Bacon, Bob Hoskins, Bridget Fonda, Jim ...</td>\n",
              "      <td>15.0</td>\n",
              "      <td>1.0</td>\n",
              "      <td>0.0</td>\n",
              "    </tr>\n",
              "    <tr>\n",
              "      <th>26</th>\n",
              "      <td>27</td>\n",
              "      <td>Christina Ricci,Rosie O'Donnell,Thora Birch,Me...</td>\n",
              "      <td>I. Marlene King</td>\n",
              "      <td>100.0</td>\n",
              "      <td>0</td>\n",
              "      <td>1970s|year 1991|1990s|year 1970</td>\n",
              "      <td>USD</td>\n",
              "      <td>[Christina Ricci, Rosie O'Donnell, Thora Birch...</td>\n",
              "      <td>15.0</td>\n",
              "      <td>1.0</td>\n",
              "      <td>0.0</td>\n",
              "    </tr>\n",
              "    <tr>\n",
              "      <th>27</th>\n",
              "      <td>28</td>\n",
              "      <td>Amanda Root,Ciarán Hinds,Susan Fleetwood,Corin...</td>\n",
              "      <td>Roger Michell</td>\n",
              "      <td>107.0</td>\n",
              "      <td>0</td>\n",
              "      <td>captain|accident|napoleonic wars|marriage</td>\n",
              "      <td>USD</td>\n",
              "      <td>[Amanda Root, Ciarán Hinds, Susan Fleetwood, C...</td>\n",
              "      <td>15.0</td>\n",
              "      <td>1.0</td>\n",
              "      <td>0.0</td>\n",
              "    </tr>\n",
              "    <tr>\n",
              "      <th>29</th>\n",
              "      <td>30</td>\n",
              "      <td>Li Gong,Baotian Li,Xiaoxiao Wang,Xuejian Li,Ch...</td>\n",
              "      <td>Feiyu Bi</td>\n",
              "      <td>NaN</td>\n",
              "      <td>0</td>\n",
              "      <td>NaN</td>\n",
              "      <td>USD</td>\n",
              "      <td>[Li Gong, Baotian Li, Xiaoxiao Wang, Xuejian L...</td>\n",
              "      <td>15.0</td>\n",
              "      <td>1.0</td>\n",
              "      <td>0.0</td>\n",
              "    </tr>\n",
              "    <tr>\n",
              "      <th>...</th>\n",
              "      <td>...</td>\n",
              "      <td>...</td>\n",
              "      <td>...</td>\n",
              "      <td>...</td>\n",
              "      <td>...</td>\n",
              "      <td>...</td>\n",
              "      <td>...</td>\n",
              "      <td>...</td>\n",
              "      <td>...</td>\n",
              "      <td>...</td>\n",
              "      <td>...</td>\n",
              "    </tr>\n",
              "    <tr>\n",
              "      <th>27271</th>\n",
              "      <td>131250</td>\n",
              "      <td>Daniel Brühl,Jasmin Schwiers,Niels-Bruno Schmi...</td>\n",
              "      <td>Marco Petry</td>\n",
              "      <td>NaN</td>\n",
              "      <td>0</td>\n",
              "      <td>hot|sex scene</td>\n",
              "      <td>USD</td>\n",
              "      <td>[Daniel Brühl, Jasmin Schwiers, Niels-Bruno Sc...</td>\n",
              "      <td>15.0</td>\n",
              "      <td>1.0</td>\n",
              "      <td>0.0</td>\n",
              "    </tr>\n",
              "    <tr>\n",
              "      <th>27273</th>\n",
              "      <td>131254</td>\n",
              "      <td>Franz Dinda,Florian Lukas,Axel Stein,Kailas Ma...</td>\n",
              "      <td>Carsten Funke</td>\n",
              "      <td>85.0</td>\n",
              "      <td>0</td>\n",
              "      <td>man wrapped in a towel|man wears a thong|male ...</td>\n",
              "      <td>USD</td>\n",
              "      <td>[Franz Dinda, Florian Lukas, Axel Stein, Kaila...</td>\n",
              "      <td>15.0</td>\n",
              "      <td>1.0</td>\n",
              "      <td>0.0</td>\n",
              "    </tr>\n",
              "    <tr>\n",
              "      <th>27275</th>\n",
              "      <td>131258</td>\n",
              "      <td>Nam-gil Kim,Ye-jin Son,Hae-Jin Yoo,Kyeong-yeon...</td>\n",
              "      <td>Seong-il Cheon</td>\n",
              "      <td>130.0</td>\n",
              "      <td>0</td>\n",
              "      <td>pirate|sword fight|korea|bandit</td>\n",
              "      <td>USD</td>\n",
              "      <td>[Nam-gil Kim, Ye-jin Son, Hae-Jin Yoo, Kyeong-...</td>\n",
              "      <td>15.0</td>\n",
              "      <td>1.0</td>\n",
              "      <td>0.0</td>\n",
              "    </tr>\n",
              "    <tr>\n",
              "      <th>27276</th>\n",
              "      <td>131260</td>\n",
              "      <td>Martti Suosalo,Ilkka Koivula,Vexi Salmi,Riitta...</td>\n",
              "      <td>Timo Koivusalo</td>\n",
              "      <td>102.0</td>\n",
              "      <td>0</td>\n",
              "      <td>friend|friendship|television show|restaurant</td>\n",
              "      <td>USD</td>\n",
              "      <td>[Martti Suosalo, Ilkka Koivula, Vexi Salmi, Ri...</td>\n",
              "      <td>15.0</td>\n",
              "      <td>1.0</td>\n",
              "      <td>0.0</td>\n",
              "    </tr>\n",
              "    <tr>\n",
              "      <th>27277</th>\n",
              "      <td>131262</td>\n",
              "      <td>Sophie Lane Curtis,Kelly Reilly,Graham Phillip...</td>\n",
              "      <td>Hilary Brougher</td>\n",
              "      <td>96.0</td>\n",
              "      <td>0</td>\n",
              "      <td>hex|witch|virgin|blood</td>\n",
              "      <td>USD</td>\n",
              "      <td>[Sophie Lane Curtis, Kelly Reilly, Graham Phil...</td>\n",
              "      <td>15.0</td>\n",
              "      <td>1.0</td>\n",
              "      <td>0.0</td>\n",
              "    </tr>\n",
              "  </tbody>\n",
              "</table>\n",
              "<p>19374 rows × 11 columns</p>\n",
              "</div>"
            ],
            "text/plain": [
              "       movieId  ... budget_USD\n",
              "7            8  ...        0.0\n",
              "12          13  ...        0.0\n",
              "26          27  ...        0.0\n",
              "27          28  ...        0.0\n",
              "29          30  ...        0.0\n",
              "...        ...  ...        ...\n",
              "27271   131250  ...        0.0\n",
              "27273   131254  ...        0.0\n",
              "27275   131258  ...        0.0\n",
              "27276   131260  ...        0.0\n",
              "27277   131262  ...        0.0\n",
              "\n",
              "[19374 rows x 11 columns]"
            ]
          },
          "metadata": {
            "tags": []
          },
          "execution_count": 169
        }
      ]
    },
    {
      "cell_type": "code",
      "metadata": {
        "colab": {
          "base_uri": "https://localhost:8080/",
          "height": 0
        },
        "id": "jrYYSwhJBFv_",
        "outputId": "b20daf61-cfb6-4d3d-ecdd-45ecc2722241"
      },
      "source": [
        "imdb.tail(25)"
      ],
      "execution_count": 170,
      "outputs": [
        {
          "output_type": "execute_result",
          "data": {
            "text/html": [
              "<div>\n",
              "<style scoped>\n",
              "    .dataframe tbody tr th:only-of-type {\n",
              "        vertical-align: middle;\n",
              "    }\n",
              "\n",
              "    .dataframe tbody tr th {\n",
              "        vertical-align: top;\n",
              "    }\n",
              "\n",
              "    .dataframe thead th {\n",
              "        text-align: right;\n",
              "    }\n",
              "</style>\n",
              "<table border=\"1\" class=\"dataframe\">\n",
              "  <thead>\n",
              "    <tr style=\"text-align: right;\">\n",
              "      <th></th>\n",
              "      <th>movieId</th>\n",
              "      <th>title_cast</th>\n",
              "      <th>director</th>\n",
              "      <th>runtime</th>\n",
              "      <th>budget</th>\n",
              "      <th>plot_keywords</th>\n",
              "      <th>currency</th>\n",
              "      <th>cast</th>\n",
              "      <th>cast_size</th>\n",
              "      <th>exchange_rate</th>\n",
              "      <th>budget_USD</th>\n",
              "    </tr>\n",
              "  </thead>\n",
              "  <tbody>\n",
              "    <tr>\n",
              "      <th>27253</th>\n",
              "      <td>131156</td>\n",
              "      <td>Tobias Schenke,Axel Stein,Diana Amft,Rebecca v...</td>\n",
              "      <td>Granz Henman</td>\n",
              "      <td>85.0</td>\n",
              "      <td>0</td>\n",
              "      <td>male objectification|hot|sex scene|sexy</td>\n",
              "      <td>USD</td>\n",
              "      <td>[Tobias Schenke, Axel Stein, Diana Amft, Rebec...</td>\n",
              "      <td>15.0</td>\n",
              "      <td>1.000000</td>\n",
              "      <td>0.000000e+00</td>\n",
              "    </tr>\n",
              "    <tr>\n",
              "      <th>27254</th>\n",
              "      <td>131158</td>\n",
              "      <td>Til Schweiger,Tina Ruland,Stefan Gebelhoff,Len...</td>\n",
              "      <td>Stefan Cantz</td>\n",
              "      <td>91.0</td>\n",
              "      <td>0</td>\n",
              "      <td>boys and girls|girl|young man|boyfriend</td>\n",
              "      <td>USD</td>\n",
              "      <td>[Til Schweiger, Tina Ruland, Stefan Gebelhoff,...</td>\n",
              "      <td>15.0</td>\n",
              "      <td>1.000000</td>\n",
              "      <td>0.000000e+00</td>\n",
              "    </tr>\n",
              "    <tr>\n",
              "      <th>27255</th>\n",
              "      <td>131160</td>\n",
              "      <td>Michèle Laroque,Amir Ben Abdelmoumen,Max von S...</td>\n",
              "      <td>Eric-Emmanuel Schmitt</td>\n",
              "      <td>NaN</td>\n",
              "      <td>0</td>\n",
              "      <td>bone marrow transplant|pink|hospital|nurse</td>\n",
              "      <td>USD</td>\n",
              "      <td>[Michèle Laroque, Amir Ben Abdelmoumen, Max vo...</td>\n",
              "      <td>15.0</td>\n",
              "      <td>1.000000</td>\n",
              "      <td>0.000000e+00</td>\n",
              "    </tr>\n",
              "    <tr>\n",
              "      <th>27256</th>\n",
              "      <td>131162</td>\n",
              "      <td>Ana de Armas,Martiño Rivas,Marina Salas,Megan ...</td>\n",
              "      <td>David Menkes</td>\n",
              "      <td>98.0</td>\n",
              "      <td>0</td>\n",
              "      <td>NaN</td>\n",
              "      <td>USD</td>\n",
              "      <td>[Ana de Armas, Martiño Rivas, Marina Salas, Me...</td>\n",
              "      <td>15.0</td>\n",
              "      <td>1.000000</td>\n",
              "      <td>0.000000e+00</td>\n",
              "    </tr>\n",
              "    <tr>\n",
              "      <th>27257</th>\n",
              "      <td>131164</td>\n",
              "      <td>Tempestt Bledsoe,Edward Burns,Dean Cain,Kevin ...</td>\n",
              "      <td>Tempestt Bledsoe</td>\n",
              "      <td>360.0</td>\n",
              "      <td>0</td>\n",
              "      <td>Documentary</td>\n",
              "      <td>USD</td>\n",
              "      <td>[Tempestt Bledsoe, Edward Burns, Dean Cain, Ke...</td>\n",
              "      <td>16.0</td>\n",
              "      <td>1.000000</td>\n",
              "      <td>0.000000e+00</td>\n",
              "    </tr>\n",
              "    <tr>\n",
              "      <th>27258</th>\n",
              "      <td>131166</td>\n",
              "      <td>Gary Sinise,Charles Scheffel,Justin Bartha,Ron...</td>\n",
              "      <td>Charles Scheffel</td>\n",
              "      <td>NaN</td>\n",
              "      <td>0</td>\n",
              "      <td>abbreviation in series title|tv mini series|ar...</td>\n",
              "      <td>USD</td>\n",
              "      <td>[Gary Sinise, Charles Scheffel, Justin Bartha,...</td>\n",
              "      <td>6.0</td>\n",
              "      <td>1.000000</td>\n",
              "      <td>0.000000e+00</td>\n",
              "    </tr>\n",
              "    <tr>\n",
              "      <th>27259</th>\n",
              "      <td>131168</td>\n",
              "      <td>Nina Hoss,Ronald Zehrfeld,Nina Kunzendorf,Trys...</td>\n",
              "      <td>Christian Petzold</td>\n",
              "      <td>98.0</td>\n",
              "      <td>0</td>\n",
              "      <td>holocaust survivor|survivor|facial reconstruct...</td>\n",
              "      <td>USD</td>\n",
              "      <td>[Nina Hoss, Ronald Zehrfeld, Nina Kunzendorf, ...</td>\n",
              "      <td>15.0</td>\n",
              "      <td>1.000000</td>\n",
              "      <td>0.000000e+00</td>\n",
              "    </tr>\n",
              "    <tr>\n",
              "      <th>27260</th>\n",
              "      <td>131170</td>\n",
              "      <td>Mark Hapka,Jessica Rothe,Eric Jungmann,Constan...</td>\n",
              "      <td>Laura Harkcom</td>\n",
              "      <td>83.0</td>\n",
              "      <td>0</td>\n",
              "      <td>multiverse|shot|backdoor pilot|man with a wido...</td>\n",
              "      <td>USD</td>\n",
              "      <td>[Mark Hapka, Jessica Rothe, Eric Jungmann, Con...</td>\n",
              "      <td>15.0</td>\n",
              "      <td>1.000000</td>\n",
              "      <td>0.000000e+00</td>\n",
              "    </tr>\n",
              "    <tr>\n",
              "      <th>27261</th>\n",
              "      <td>131172</td>\n",
              "      <td>Kambuzia Partovi,Maryam Moghadam,Jafar Panahi,...</td>\n",
              "      <td>Jafar Panahi</td>\n",
              "      <td>106.0</td>\n",
              "      <td>0</td>\n",
              "      <td>NaN</td>\n",
              "      <td>USD</td>\n",
              "      <td>[Kambuzia Partovi, Maryam Moghadam, Jafar Pana...</td>\n",
              "      <td>11.0</td>\n",
              "      <td>1.000000</td>\n",
              "      <td>0.000000e+00</td>\n",
              "    </tr>\n",
              "    <tr>\n",
              "      <th>27262</th>\n",
              "      <td>131174</td>\n",
              "      <td>David Dencik,Sverrir Gudnason,David Fukamachi ...</td>\n",
              "      <td>Klas Östergren</td>\n",
              "      <td>141.0</td>\n",
              "      <td>0</td>\n",
              "      <td>brother|apartment|male nudity|male frontal nudity</td>\n",
              "      <td>USD</td>\n",
              "      <td>[David Dencik, Sverrir Gudnason, David Fukamac...</td>\n",
              "      <td>15.0</td>\n",
              "      <td>1.000000</td>\n",
              "      <td>0.000000e+00</td>\n",
              "    </tr>\n",
              "    <tr>\n",
              "      <th>27263</th>\n",
              "      <td>131176</td>\n",
              "      <td>Nikolaj Coster-Waldau,Ulrich Thomsen,Nikolaj L...</td>\n",
              "      <td>Susanne Bier</td>\n",
              "      <td>102.0</td>\n",
              "      <td>35000000</td>\n",
              "      <td>f rated</td>\n",
              "      <td>DKK</td>\n",
              "      <td>[Nikolaj Coster-Waldau, Ulrich Thomsen, Nikola...</td>\n",
              "      <td>15.0</td>\n",
              "      <td>0.158997</td>\n",
              "      <td>5.564887e+06</td>\n",
              "    </tr>\n",
              "    <tr>\n",
              "      <th>27264</th>\n",
              "      <td>131180</td>\n",
              "      <td>Jesse Metcalfe,Meghan Ory,Virginia Madsen,Keeg...</td>\n",
              "      <td>Tim Carter</td>\n",
              "      <td>118.0</td>\n",
              "      <td>0</td>\n",
              "      <td>quarantine|zombie|shot dead|zombie infection</td>\n",
              "      <td>USD</td>\n",
              "      <td>[Jesse Metcalfe, Meghan Ory, Virginia Madsen, ...</td>\n",
              "      <td>15.0</td>\n",
              "      <td>1.000000</td>\n",
              "      <td>0.000000e+00</td>\n",
              "    </tr>\n",
              "    <tr>\n",
              "      <th>27265</th>\n",
              "      <td>131231</td>\n",
              "      <td>Jessica Paré,Brian Gleeson,Stanley Townsend,Fr...</td>\n",
              "      <td>Rob Burke</td>\n",
              "      <td>90.0</td>\n",
              "      <td>0</td>\n",
              "      <td>NaN</td>\n",
              "      <td>USD</td>\n",
              "      <td>[Jessica Paré, Brian Gleeson, Stanley Townsend...</td>\n",
              "      <td>15.0</td>\n",
              "      <td>1.000000</td>\n",
              "      <td>0.000000e+00</td>\n",
              "    </tr>\n",
              "    <tr>\n",
              "      <th>27266</th>\n",
              "      <td>131237</td>\n",
              "      <td>Leonid Barats,Aleksandr Demidov,Kamil Larin,Ro...</td>\n",
              "      <td>Leonid Barats</td>\n",
              "      <td>93.0</td>\n",
              "      <td>0</td>\n",
              "      <td>road trip|russia|eavesdropping|advertising</td>\n",
              "      <td>USD</td>\n",
              "      <td>[Leonid Barats, Aleksandr Demidov, Kamil Larin...</td>\n",
              "      <td>15.0</td>\n",
              "      <td>1.000000</td>\n",
              "      <td>0.000000e+00</td>\n",
              "    </tr>\n",
              "    <tr>\n",
              "      <th>27267</th>\n",
              "      <td>131239</td>\n",
              "      <td>Elmar Wepper,Mercan-Fatima Türköglu,Ivan Ander...</td>\n",
              "      <td>Christian Zübert</td>\n",
              "      <td>NaN</td>\n",
              "      <td>0</td>\n",
              "      <td>taxi|girl alone|taxi driver|mutual understanding</td>\n",
              "      <td>USD</td>\n",
              "      <td>[Elmar Wepper, Mercan-Fatima Türköglu, Ivan An...</td>\n",
              "      <td>15.0</td>\n",
              "      <td>1.000000</td>\n",
              "      <td>0.000000e+00</td>\n",
              "    </tr>\n",
              "    <tr>\n",
              "      <th>27268</th>\n",
              "      <td>131241</td>\n",
              "      <td>Tobias Schenke,Axel Stein,Luise Helm,Mina Tand...</td>\n",
              "      <td>Granz Henman</td>\n",
              "      <td>95.0</td>\n",
              "      <td>0</td>\n",
              "      <td>male objectification|gay|modern day adaptation...</td>\n",
              "      <td>USD</td>\n",
              "      <td>[Tobias Schenke, Axel Stein, Luise Helm, Mina ...</td>\n",
              "      <td>15.0</td>\n",
              "      <td>1.000000</td>\n",
              "      <td>0.000000e+00</td>\n",
              "    </tr>\n",
              "    <tr>\n",
              "      <th>27269</th>\n",
              "      <td>131243</td>\n",
              "      <td>Klaus Büchner,Andi Feldmann,Kulle Westphal,Ber...</td>\n",
              "      <td>Toby Genkel</td>\n",
              "      <td>76.0</td>\n",
              "      <td>0</td>\n",
              "      <td>vomiting|based on comic|drunk driver|beer drin...</td>\n",
              "      <td>USD</td>\n",
              "      <td>[Klaus Büchner, Andi Feldmann, Kulle Westphal,...</td>\n",
              "      <td>13.0</td>\n",
              "      <td>1.000000</td>\n",
              "      <td>0.000000e+00</td>\n",
              "    </tr>\n",
              "    <tr>\n",
              "      <th>27270</th>\n",
              "      <td>131248</td>\n",
              "      <td>Patrick Dempsey,Mandy Moore,Jeremy Suarez,Rick...</td>\n",
              "      <td>Rich Burns</td>\n",
              "      <td>NaN</td>\n",
              "      <td>0</td>\n",
              "      <td>bear|finale|series finale|hate</td>\n",
              "      <td>USD</td>\n",
              "      <td>[Patrick Dempsey, Mandy Moore, Jeremy Suarez, ...</td>\n",
              "      <td>15.0</td>\n",
              "      <td>1.000000</td>\n",
              "      <td>0.000000e+00</td>\n",
              "    </tr>\n",
              "    <tr>\n",
              "      <th>27271</th>\n",
              "      <td>131250</td>\n",
              "      <td>Daniel Brühl,Jasmin Schwiers,Niels-Bruno Schmi...</td>\n",
              "      <td>Marco Petry</td>\n",
              "      <td>NaN</td>\n",
              "      <td>0</td>\n",
              "      <td>hot|sex scene</td>\n",
              "      <td>USD</td>\n",
              "      <td>[Daniel Brühl, Jasmin Schwiers, Niels-Bruno Sc...</td>\n",
              "      <td>15.0</td>\n",
              "      <td>1.000000</td>\n",
              "      <td>0.000000e+00</td>\n",
              "    </tr>\n",
              "    <tr>\n",
              "      <th>27272</th>\n",
              "      <td>131252</td>\n",
              "      <td>Konstantin Graudus,Gustav Adolph Artz,Jürgen K...</td>\n",
              "      <td>Jörg Wagner</td>\n",
              "      <td>10.0</td>\n",
              "      <td>90000</td>\n",
              "      <td>safety|forklift|spoof|blood</td>\n",
              "      <td>EUR</td>\n",
              "      <td>[Konstantin Graudus, Gustav Adolph Artz, Jürge...</td>\n",
              "      <td>15.0</td>\n",
              "      <td>1.182300</td>\n",
              "      <td>1.064070e+05</td>\n",
              "    </tr>\n",
              "    <tr>\n",
              "      <th>27273</th>\n",
              "      <td>131254</td>\n",
              "      <td>Franz Dinda,Florian Lukas,Axel Stein,Kailas Ma...</td>\n",
              "      <td>Carsten Funke</td>\n",
              "      <td>85.0</td>\n",
              "      <td>0</td>\n",
              "      <td>man wrapped in a towel|man wears a thong|male ...</td>\n",
              "      <td>USD</td>\n",
              "      <td>[Franz Dinda, Florian Lukas, Axel Stein, Kaila...</td>\n",
              "      <td>15.0</td>\n",
              "      <td>1.000000</td>\n",
              "      <td>0.000000e+00</td>\n",
              "    </tr>\n",
              "    <tr>\n",
              "      <th>27274</th>\n",
              "      <td>131256</td>\n",
              "      <td>Rick Kavanian,Axel Stein,Eva Habermann,Christo...</td>\n",
              "      <td>Matthias Dinter</td>\n",
              "      <td>83.0</td>\n",
              "      <td>5800000</td>\n",
              "      <td>ski|ski resort|ampersand in title|drink in title</td>\n",
              "      <td>USD</td>\n",
              "      <td>[Rick Kavanian, Axel Stein, Eva Habermann, Chr...</td>\n",
              "      <td>15.0</td>\n",
              "      <td>1.000000</td>\n",
              "      <td>5.800000e+06</td>\n",
              "    </tr>\n",
              "    <tr>\n",
              "      <th>27275</th>\n",
              "      <td>131258</td>\n",
              "      <td>Nam-gil Kim,Ye-jin Son,Hae-Jin Yoo,Kyeong-yeon...</td>\n",
              "      <td>Seong-il Cheon</td>\n",
              "      <td>130.0</td>\n",
              "      <td>0</td>\n",
              "      <td>pirate|sword fight|korea|bandit</td>\n",
              "      <td>USD</td>\n",
              "      <td>[Nam-gil Kim, Ye-jin Son, Hae-Jin Yoo, Kyeong-...</td>\n",
              "      <td>15.0</td>\n",
              "      <td>1.000000</td>\n",
              "      <td>0.000000e+00</td>\n",
              "    </tr>\n",
              "    <tr>\n",
              "      <th>27276</th>\n",
              "      <td>131260</td>\n",
              "      <td>Martti Suosalo,Ilkka Koivula,Vexi Salmi,Riitta...</td>\n",
              "      <td>Timo Koivusalo</td>\n",
              "      <td>102.0</td>\n",
              "      <td>0</td>\n",
              "      <td>friend|friendship|television show|restaurant</td>\n",
              "      <td>USD</td>\n",
              "      <td>[Martti Suosalo, Ilkka Koivula, Vexi Salmi, Ri...</td>\n",
              "      <td>15.0</td>\n",
              "      <td>1.000000</td>\n",
              "      <td>0.000000e+00</td>\n",
              "    </tr>\n",
              "    <tr>\n",
              "      <th>27277</th>\n",
              "      <td>131262</td>\n",
              "      <td>Sophie Lane Curtis,Kelly Reilly,Graham Phillip...</td>\n",
              "      <td>Hilary Brougher</td>\n",
              "      <td>96.0</td>\n",
              "      <td>0</td>\n",
              "      <td>hex|witch|virgin|blood</td>\n",
              "      <td>USD</td>\n",
              "      <td>[Sophie Lane Curtis, Kelly Reilly, Graham Phil...</td>\n",
              "      <td>15.0</td>\n",
              "      <td>1.000000</td>\n",
              "      <td>0.000000e+00</td>\n",
              "    </tr>\n",
              "  </tbody>\n",
              "</table>\n",
              "</div>"
            ],
            "text/plain": [
              "       movieId  ...    budget_USD\n",
              "27253   131156  ...  0.000000e+00\n",
              "27254   131158  ...  0.000000e+00\n",
              "27255   131160  ...  0.000000e+00\n",
              "27256   131162  ...  0.000000e+00\n",
              "27257   131164  ...  0.000000e+00\n",
              "27258   131166  ...  0.000000e+00\n",
              "27259   131168  ...  0.000000e+00\n",
              "27260   131170  ...  0.000000e+00\n",
              "27261   131172  ...  0.000000e+00\n",
              "27262   131174  ...  0.000000e+00\n",
              "27263   131176  ...  5.564887e+06\n",
              "27264   131180  ...  0.000000e+00\n",
              "27265   131231  ...  0.000000e+00\n",
              "27266   131237  ...  0.000000e+00\n",
              "27267   131239  ...  0.000000e+00\n",
              "27268   131241  ...  0.000000e+00\n",
              "27269   131243  ...  0.000000e+00\n",
              "27270   131248  ...  0.000000e+00\n",
              "27271   131250  ...  0.000000e+00\n",
              "27272   131252  ...  1.064070e+05\n",
              "27273   131254  ...  0.000000e+00\n",
              "27274   131256  ...  5.800000e+06\n",
              "27275   131258  ...  0.000000e+00\n",
              "27276   131260  ...  0.000000e+00\n",
              "27277   131262  ...  0.000000e+00\n",
              "\n",
              "[25 rows x 11 columns]"
            ]
          },
          "metadata": {
            "tags": []
          },
          "execution_count": 170
        }
      ]
    },
    {
      "cell_type": "markdown",
      "metadata": {
        "id": "mau99Af02uAa"
      },
      "source": [
        "AS WAS DONE ABOVE WITH THE MOVIES_GENRES DATASET, A COPY OF IMDB WILL BE CREATED. AND ROWS CONTAINING NULL OBSERVATIONS WILL BE DROPPED:"
      ]
    },
    {
      "cell_type": "code",
      "metadata": {
        "colab": {
          "base_uri": "https://localhost:8080/"
        },
        "id": "HmYOp8D64ULR",
        "outputId": "4bc3e64b-5516-4fe5-a634-8c1597419a99"
      },
      "source": [
        "imdb.isnull().sum()"
      ],
      "execution_count": 171,
      "outputs": [
        {
          "output_type": "execute_result",
          "data": {
            "text/plain": [
              "movieId              0\n",
              "title_cast       10068\n",
              "director          9874\n",
              "runtime          12089\n",
              "budget               0\n",
              "plot_keywords    11078\n",
              "currency             0\n",
              "cast             10068\n",
              "cast_size        10068\n",
              "exchange_rate        0\n",
              "budget_USD           0\n",
              "dtype: int64"
            ]
          },
          "metadata": {
            "tags": []
          },
          "execution_count": 171
        }
      ]
    },
    {
      "cell_type": "markdown",
      "metadata": {
        "id": "oCtVYmk1IqPB"
      },
      "source": [
        "NB!!! The budget , currency and budget_USD columns, do in fact have null values in reality."
      ]
    },
    {
      "cell_type": "markdown",
      "metadata": {
        "id": "1YuSQwaoBVu4"
      },
      "source": [
        "# EDA :"
      ]
    },
    {
      "cell_type": "markdown",
      "metadata": {
        "id": "jjR4QzggBZlz"
      },
      "source": [
        "## UNIVARIATE:"
      ]
    },
    {
      "cell_type": "code",
      "metadata": {
        "colab": {
          "base_uri": "https://localhost:8080/",
          "height": 399
        },
        "id": "uo3J-s8XBd7b",
        "outputId": "3c3dbb15-0ab0-4c8b-89f2-80459519b588"
      },
      "source": [
        "plt.figure(figsize=(8, 6))\n",
        "\n",
        "sns.countplot(x='rating', data=df_train)\n",
        "plt.xlabel('Ratings')\n",
        "plt.ylabel('No of Observations per rating')\n",
        "plt.show()"
      ],
      "execution_count": 172,
      "outputs": [
        {
          "output_type": "display_data",
          "data": {
            "image/png": "[encoded data removed]",
            "text/plain": [
              "<Figure size 576x432 with 1 Axes>"
            ]
          },
          "metadata": {
            "tags": [],
            "needs_background": "light"
          }
        }
      ]
    },
    {
      "cell_type": "markdown",
      "metadata": {
        "id": "FSSq62teOnQP"
      },
      "source": [
        "RUNNING THROUGH ENTIRE DATASETS WILL BURN OUT THE RAM, SO I'LL SUBSET AND RANDOMLY SAMPLE FROM THE MOVIES DATASET:"
      ]
    },
    {
      "cell_type": "code",
      "metadata": {
        "id": "7BpSY0ajOZZ1",
        "colab": {
          "base_uri": "https://localhost:8080/",
          "height": 419
        },
        "outputId": "1037cd84-561c-4697-c513-07e384904fbb"
      },
      "source": [
        "movies"
      ],
      "execution_count": 173,
      "outputs": [
        {
          "output_type": "execute_result",
          "data": {
            "text/html": [
              "<div>\n",
              "<style scoped>\n",
              "    .dataframe tbody tr th:only-of-type {\n",
              "        vertical-align: middle;\n",
              "    }\n",
              "\n",
              "    .dataframe tbody tr th {\n",
              "        vertical-align: top;\n",
              "    }\n",
              "\n",
              "    .dataframe thead th {\n",
              "        text-align: right;\n",
              "    }\n",
              "</style>\n",
              "<table border=\"1\" class=\"dataframe\">\n",
              "  <thead>\n",
              "    <tr style=\"text-align: right;\">\n",
              "      <th></th>\n",
              "      <th>movieId</th>\n",
              "      <th>genres</th>\n",
              "      <th>title</th>\n",
              "      <th>year</th>\n",
              "    </tr>\n",
              "  </thead>\n",
              "  <tbody>\n",
              "    <tr>\n",
              "      <th>0</th>\n",
              "      <td>1</td>\n",
              "      <td>Adventure</td>\n",
              "      <td>Toy Story</td>\n",
              "      <td>1995</td>\n",
              "    </tr>\n",
              "    <tr>\n",
              "      <th>1</th>\n",
              "      <td>1</td>\n",
              "      <td>Animation</td>\n",
              "      <td>Toy Story</td>\n",
              "      <td>1995</td>\n",
              "    </tr>\n",
              "    <tr>\n",
              "      <th>2</th>\n",
              "      <td>1</td>\n",
              "      <td>Children</td>\n",
              "      <td>Toy Story</td>\n",
              "      <td>1995</td>\n",
              "    </tr>\n",
              "    <tr>\n",
              "      <th>3</th>\n",
              "      <td>1</td>\n",
              "      <td>Comedy</td>\n",
              "      <td>Toy Story</td>\n",
              "      <td>1995</td>\n",
              "    </tr>\n",
              "    <tr>\n",
              "      <th>4</th>\n",
              "      <td>1</td>\n",
              "      <td>Fantasy</td>\n",
              "      <td>Toy Story</td>\n",
              "      <td>1995</td>\n",
              "    </tr>\n",
              "    <tr>\n",
              "      <th>...</th>\n",
              "      <td>...</td>\n",
              "      <td>...</td>\n",
              "      <td>...</td>\n",
              "      <td>...</td>\n",
              "    </tr>\n",
              "    <tr>\n",
              "      <th>112302</th>\n",
              "      <td>209163</td>\n",
              "      <td>Drama</td>\n",
              "      <td>Bad Poems</td>\n",
              "      <td>2018</td>\n",
              "    </tr>\n",
              "    <tr>\n",
              "      <th>112303</th>\n",
              "      <td>209169</td>\n",
              "      <td>(no genres listed)</td>\n",
              "      <td>A Girl Thing</td>\n",
              "      <td>2001</td>\n",
              "    </tr>\n",
              "    <tr>\n",
              "      <th>112304</th>\n",
              "      <td>209171</td>\n",
              "      <td>Action</td>\n",
              "      <td>Women of Devil's Island</td>\n",
              "      <td>1962</td>\n",
              "    </tr>\n",
              "    <tr>\n",
              "      <th>112305</th>\n",
              "      <td>209171</td>\n",
              "      <td>Adventure</td>\n",
              "      <td>Women of Devil's Island</td>\n",
              "      <td>1962</td>\n",
              "    </tr>\n",
              "    <tr>\n",
              "      <th>112306</th>\n",
              "      <td>209171</td>\n",
              "      <td>Drama</td>\n",
              "      <td>Women of Devil's Island</td>\n",
              "      <td>1962</td>\n",
              "    </tr>\n",
              "  </tbody>\n",
              "</table>\n",
              "<p>112307 rows × 4 columns</p>\n",
              "</div>"
            ],
            "text/plain": [
              "        movieId              genres                     title  year\n",
              "0             1           Adventure                Toy Story   1995\n",
              "1             1           Animation                Toy Story   1995\n",
              "2             1            Children                Toy Story   1995\n",
              "3             1              Comedy                Toy Story   1995\n",
              "4             1             Fantasy                Toy Story   1995\n",
              "...         ...                 ...                       ...   ...\n",
              "112302   209163               Drama                Bad Poems   2018\n",
              "112303   209169  (no genres listed)             A Girl Thing   2001\n",
              "112304   209171              Action  Women of Devil's Island   1962\n",
              "112305   209171           Adventure  Women of Devil's Island   1962\n",
              "112306   209171               Drama  Women of Devil's Island   1962\n",
              "\n",
              "[112307 rows x 4 columns]"
            ]
          },
          "metadata": {
            "tags": []
          },
          "execution_count": 173
        }
      ]
    },
    {
      "cell_type": "code",
      "metadata": {
        "id": "i7T1ASm5Vrh1"
      },
      "source": [
        "genres = movies.groupby('genres', as_index=False)['movieId'].count()"
      ],
      "execution_count": 174,
      "outputs": []
    },
    {
      "cell_type": "code",
      "metadata": {
        "id": "gRxAUF7UXJN9"
      },
      "source": [
        "genres_subset = genres[genres['movieId'] > 100]"
      ],
      "execution_count": 175,
      "outputs": []
    },
    {
      "cell_type": "code",
      "metadata": {
        "colab": {
          "base_uri": "https://localhost:8080/",
          "height": 669
        },
        "id": "Nkoi-_POXpfc",
        "outputId": "60ee369d-ce38-4ad8-e26b-dd70c9340f24"
      },
      "source": [
        "genres_subset.sort_values(by='movieId',ascending=False)"
      ],
      "execution_count": 176,
      "outputs": [
        {
          "output_type": "execute_result",
          "data": {
            "text/html": [
              "<div>\n",
              "<style scoped>\n",
              "    .dataframe tbody tr th:only-of-type {\n",
              "        vertical-align: middle;\n",
              "    }\n",
              "\n",
              "    .dataframe tbody tr th {\n",
              "        vertical-align: top;\n",
              "    }\n",
              "\n",
              "    .dataframe thead th {\n",
              "        text-align: right;\n",
              "    }\n",
              "</style>\n",
              "<table border=\"1\" class=\"dataframe\">\n",
              "  <thead>\n",
              "    <tr style=\"text-align: right;\">\n",
              "      <th></th>\n",
              "      <th>genres</th>\n",
              "      <th>movieId</th>\n",
              "    </tr>\n",
              "  </thead>\n",
              "  <tbody>\n",
              "    <tr>\n",
              "      <th>8</th>\n",
              "      <td>Drama</td>\n",
              "      <td>25606</td>\n",
              "    </tr>\n",
              "    <tr>\n",
              "      <th>5</th>\n",
              "      <td>Comedy</td>\n",
              "      <td>16870</td>\n",
              "    </tr>\n",
              "    <tr>\n",
              "      <th>17</th>\n",
              "      <td>Thriller</td>\n",
              "      <td>8654</td>\n",
              "    </tr>\n",
              "    <tr>\n",
              "      <th>15</th>\n",
              "      <td>Romance</td>\n",
              "      <td>7719</td>\n",
              "    </tr>\n",
              "    <tr>\n",
              "      <th>1</th>\n",
              "      <td>Action</td>\n",
              "      <td>7348</td>\n",
              "    </tr>\n",
              "    <tr>\n",
              "      <th>11</th>\n",
              "      <td>Horror</td>\n",
              "      <td>5989</td>\n",
              "    </tr>\n",
              "    <tr>\n",
              "      <th>7</th>\n",
              "      <td>Documentary</td>\n",
              "      <td>5605</td>\n",
              "    </tr>\n",
              "    <tr>\n",
              "      <th>6</th>\n",
              "      <td>Crime</td>\n",
              "      <td>5319</td>\n",
              "    </tr>\n",
              "    <tr>\n",
              "      <th>0</th>\n",
              "      <td>(no genres listed)</td>\n",
              "      <td>5062</td>\n",
              "    </tr>\n",
              "    <tr>\n",
              "      <th>2</th>\n",
              "      <td>Adventure</td>\n",
              "      <td>4145</td>\n",
              "    </tr>\n",
              "    <tr>\n",
              "      <th>16</th>\n",
              "      <td>Sci-Fi</td>\n",
              "      <td>3595</td>\n",
              "    </tr>\n",
              "    <tr>\n",
              "      <th>4</th>\n",
              "      <td>Children</td>\n",
              "      <td>2935</td>\n",
              "    </tr>\n",
              "    <tr>\n",
              "      <th>3</th>\n",
              "      <td>Animation</td>\n",
              "      <td>2929</td>\n",
              "    </tr>\n",
              "    <tr>\n",
              "      <th>14</th>\n",
              "      <td>Mystery</td>\n",
              "      <td>2925</td>\n",
              "    </tr>\n",
              "    <tr>\n",
              "      <th>9</th>\n",
              "      <td>Fantasy</td>\n",
              "      <td>2731</td>\n",
              "    </tr>\n",
              "    <tr>\n",
              "      <th>18</th>\n",
              "      <td>War</td>\n",
              "      <td>1874</td>\n",
              "    </tr>\n",
              "    <tr>\n",
              "      <th>19</th>\n",
              "      <td>Western</td>\n",
              "      <td>1399</td>\n",
              "    </tr>\n",
              "    <tr>\n",
              "      <th>13</th>\n",
              "      <td>Musical</td>\n",
              "      <td>1054</td>\n",
              "    </tr>\n",
              "    <tr>\n",
              "      <th>10</th>\n",
              "      <td>Film-Noir</td>\n",
              "      <td>353</td>\n",
              "    </tr>\n",
              "    <tr>\n",
              "      <th>12</th>\n",
              "      <td>IMAX</td>\n",
              "      <td>195</td>\n",
              "    </tr>\n",
              "  </tbody>\n",
              "</table>\n",
              "</div>"
            ],
            "text/plain": [
              "                genres  movieId\n",
              "8                Drama    25606\n",
              "5               Comedy    16870\n",
              "17            Thriller     8654\n",
              "15             Romance     7719\n",
              "1               Action     7348\n",
              "11              Horror     5989\n",
              "7          Documentary     5605\n",
              "6                Crime     5319\n",
              "0   (no genres listed)     5062\n",
              "2            Adventure     4145\n",
              "16              Sci-Fi     3595\n",
              "4             Children     2935\n",
              "3            Animation     2929\n",
              "14             Mystery     2925\n",
              "9              Fantasy     2731\n",
              "18                 War     1874\n",
              "19             Western     1399\n",
              "13             Musical     1054\n",
              "10           Film-Noir      353\n",
              "12                IMAX      195"
            ]
          },
          "metadata": {
            "tags": []
          },
          "execution_count": 176
        }
      ]
    },
    {
      "cell_type": "code",
      "metadata": {
        "colab": {
          "base_uri": "https://localhost:8080/",
          "height": 442
        },
        "id": "F2YDxZl0QCge",
        "outputId": "576ddf56-f9d9-4594-f869-f399373a0d20"
      },
      "source": [
        "plt.figure(figsize=(5, 7))\n",
        "sns.barplot(y='genres', x='movieId', data=genres_subset)\n",
        "plt.xlabel('no. of movies')\n",
        "plt.show()"
      ],
      "execution_count": 177,
      "outputs": [
        {
          "output_type": "display_data",
          "data": {
            "image/png": "[encoded data removed]",
            "text/plain": [
              "<Figure size 360x504 with 1 Axes>"
            ]
          },
          "metadata": {
            "tags": [],
            "needs_background": "light"
          }
        }
      ]
    },
    {
      "cell_type": "markdown",
      "metadata": {
        "id": "hOfHE08ubZib"
      },
      "source": [
        "UNIVARIATE ANALYSIS ON IMDB DATAFRAME:"
      ]
    },
    {
      "cell_type": "code",
      "metadata": {
        "colab": {
          "base_uri": "https://localhost:8080/"
        },
        "id": "Qw9CZhALaqbX",
        "outputId": "116da6e3-73da-4648-a143-beb189349cef"
      },
      "source": [
        "imdb.shape"
      ],
      "execution_count": 178,
      "outputs": [
        {
          "output_type": "execute_result",
          "data": {
            "text/plain": [
              "(27278, 11)"
            ]
          },
          "metadata": {
            "tags": []
          },
          "execution_count": 178
        }
      ]
    },
    {
      "cell_type": "code",
      "metadata": {
        "colab": {
          "base_uri": "https://localhost:8080/",
          "height": 297
        },
        "id": "Dgfxz3Erb0Gn",
        "outputId": "e8cc4928-30ae-495d-b2eb-abfc397a1ea5"
      },
      "source": [
        "imdb.describe()"
      ],
      "execution_count": 179,
      "outputs": [
        {
          "output_type": "execute_result",
          "data": {
            "text/html": [
              "<div>\n",
              "<style scoped>\n",
              "    .dataframe tbody tr th:only-of-type {\n",
              "        vertical-align: middle;\n",
              "    }\n",
              "\n",
              "    .dataframe tbody tr th {\n",
              "        vertical-align: top;\n",
              "    }\n",
              "\n",
              "    .dataframe thead th {\n",
              "        text-align: right;\n",
              "    }\n",
              "</style>\n",
              "<table border=\"1\" class=\"dataframe\">\n",
              "  <thead>\n",
              "    <tr style=\"text-align: right;\">\n",
              "      <th></th>\n",
              "      <th>movieId</th>\n",
              "      <th>runtime</th>\n",
              "      <th>budget</th>\n",
              "      <th>cast_size</th>\n",
              "      <th>exchange_rate</th>\n",
              "      <th>budget_USD</th>\n",
              "    </tr>\n",
              "  </thead>\n",
              "  <tbody>\n",
              "    <tr>\n",
              "      <th>count</th>\n",
              "      <td>27278.000000</td>\n",
              "      <td>15189.000000</td>\n",
              "      <td>2.727800e+04</td>\n",
              "      <td>17210.000000</td>\n",
              "      <td>2.727800e+04</td>\n",
              "      <td>2.727800e+04</td>\n",
              "    </tr>\n",
              "    <tr>\n",
              "      <th>mean</th>\n",
              "      <td>59855.480570</td>\n",
              "      <td>100.312331</td>\n",
              "      <td>1.168478e+07</td>\n",
              "      <td>13.904126</td>\n",
              "      <td>9.967468e-01</td>\n",
              "      <td>7.373311e+06</td>\n",
              "    </tr>\n",
              "    <tr>\n",
              "      <th>std</th>\n",
              "      <td>44429.314697</td>\n",
              "      <td>31.061707</td>\n",
              "      <td>2.298176e+08</td>\n",
              "      <td>4.028054</td>\n",
              "      <td>1.009258e-01</td>\n",
              "      <td>6.642343e+07</td>\n",
              "    </tr>\n",
              "    <tr>\n",
              "      <th>min</th>\n",
              "      <td>1.000000</td>\n",
              "      <td>1.000000</td>\n",
              "      <td>0.000000e+00</td>\n",
              "      <td>1.000000</td>\n",
              "      <td>7.418037e-07</td>\n",
              "      <td>0.000000e+00</td>\n",
              "    </tr>\n",
              "    <tr>\n",
              "      <th>25%</th>\n",
              "      <td>6931.250000</td>\n",
              "      <td>89.000000</td>\n",
              "      <td>0.000000e+00</td>\n",
              "      <td>15.000000</td>\n",
              "      <td>1.000000e+00</td>\n",
              "      <td>0.000000e+00</td>\n",
              "    </tr>\n",
              "    <tr>\n",
              "      <th>50%</th>\n",
              "      <td>68068.000000</td>\n",
              "      <td>98.000000</td>\n",
              "      <td>0.000000e+00</td>\n",
              "      <td>15.000000</td>\n",
              "      <td>1.000000e+00</td>\n",
              "      <td>0.000000e+00</td>\n",
              "    </tr>\n",
              "    <tr>\n",
              "      <th>75%</th>\n",
              "      <td>100293.250000</td>\n",
              "      <td>109.000000</td>\n",
              "      <td>1.000000e+06</td>\n",
              "      <td>15.000000</td>\n",
              "      <td>1.000000e+00</td>\n",
              "      <td>1.000000e+06</td>\n",
              "    </tr>\n",
              "    <tr>\n",
              "      <th>max</th>\n",
              "      <td>131262.000000</td>\n",
              "      <td>877.000000</td>\n",
              "      <td>3.000000e+10</td>\n",
              "      <td>121.000000</td>\n",
              "      <td>1.962283e+00</td>\n",
              "      <td>7.000000e+09</td>\n",
              "    </tr>\n",
              "  </tbody>\n",
              "</table>\n",
              "</div>"
            ],
            "text/plain": [
              "             movieId       runtime  ...  exchange_rate    budget_USD\n",
              "count   27278.000000  15189.000000  ...   2.727800e+04  2.727800e+04\n",
              "mean    59855.480570    100.312331  ...   9.967468e-01  7.373311e+06\n",
              "std     44429.314697     31.061707  ...   1.009258e-01  6.642343e+07\n",
              "min         1.000000      1.000000  ...   7.418037e-07  0.000000e+00\n",
              "25%      6931.250000     89.000000  ...   1.000000e+00  0.000000e+00\n",
              "50%     68068.000000     98.000000  ...   1.000000e+00  0.000000e+00\n",
              "75%    100293.250000    109.000000  ...   1.000000e+00  1.000000e+06\n",
              "max    131262.000000    877.000000  ...   1.962283e+00  7.000000e+09\n",
              "\n",
              "[8 rows x 6 columns]"
            ]
          },
          "metadata": {
            "tags": []
          },
          "execution_count": 179
        }
      ]
    },
    {
      "cell_type": "markdown",
      "metadata": {
        "id": "qN88uYhGckQ8"
      },
      "source": [
        "RUNTIME"
      ]
    },
    {
      "cell_type": "code",
      "metadata": {
        "colab": {
          "base_uri": "https://localhost:8080/"
        },
        "id": "SIqbXBDRb78O",
        "outputId": "9f5eb751-6835-43f1-c141-b545fccb22a9"
      },
      "source": [
        "imdb['runtime'].quantile(0.99)"
      ],
      "execution_count": 180,
      "outputs": [
        {
          "output_type": "execute_result",
          "data": {
            "text/plain": [
              "184.0"
            ]
          },
          "metadata": {
            "tags": []
          },
          "execution_count": 180
        }
      ]
    },
    {
      "cell_type": "code",
      "metadata": {
        "id": "7JRGuq_OcEsQ"
      },
      "source": [
        "runtime_subset = imdb[imdb['runtime'] <= 184]"
      ],
      "execution_count": 181,
      "outputs": []
    },
    {
      "cell_type": "code",
      "metadata": {
        "colab": {
          "base_uri": "https://localhost:8080/",
          "height": 333
        },
        "id": "4k2zA3hRatvr",
        "outputId": "d63afe5b-d12d-45a9-db15-c288683d82f8"
      },
      "source": [
        "sns.distplot(runtime_subset['runtime'])\n",
        "plt.show()"
      ],
      "execution_count": 182,
      "outputs": [
        {
          "output_type": "stream",
          "text": [
            "/usr/local/lib/python3.7/dist-packages/seaborn/distributions.py:2557: FutureWarning: `distplot` is a deprecated function and will be removed in a future version. Please adapt your code to use either `displot` (a figure-level function with similar flexibility) or `histplot` (an axes-level function for histograms).\n",
            "  warnings.warn(msg, FutureWarning)\n"
          ],
          "name": "stderr"
        },
        {
          "output_type": "display_data",
          "data": {
            "image/png": "[encoded data removed]",
            "text/plain": [
              "<Figure size 432x288 with 1 Axes>"
            ]
          },
          "metadata": {
            "tags": [],
            "needs_background": "light"
          }
        }
      ]
    },
    {
      "cell_type": "markdown",
      "metadata": {
        "id": "FRGbXUwecmiK"
      },
      "source": [
        "CAST_SIZE"
      ]
    },
    {
      "cell_type": "code",
      "metadata": {
        "colab": {
          "base_uri": "https://localhost:8080/"
        },
        "id": "844AmjhMcooz",
        "outputId": "3966007f-0995-4749-9922-bce3bb80cd7e"
      },
      "source": [
        "np.array(imdb['cast_size'].value_counts())"
      ],
      "execution_count": 183,
      "outputs": [
        {
          "output_type": "execute_result",
          "data": {
            "text/plain": [
              "array([14030,   311,   296,   276,   264,   253,   249,   205,   199,\n",
              "         184,   182,   167,   163,   160,   143,    10,     9,     7,\n",
              "           6,     5,     5,     5,     5,     4,     4,     4,     4,\n",
              "           4,     3,     3,     3,     3,     3,     2,     2,     2,\n",
              "           2,     2,     2,     2,     2,     2,     2,     2,     2,\n",
              "           1,     1,     1,     1,     1,     1,     1,     1,     1,\n",
              "           1,     1,     1,     1,     1,     1,     1,     1])"
            ]
          },
          "metadata": {
            "tags": []
          },
          "execution_count": 183
        }
      ]
    },
    {
      "cell_type": "code",
      "metadata": {
        "colab": {
          "base_uri": "https://localhost:8080/"
        },
        "id": "ONephTLbdh6I",
        "outputId": "99dca216-3c5c-43b9-88b9-68c883a89226"
      },
      "source": [
        "cast_size_subset = imdb[imdb['cast_size'] < 15]\n",
        "cast_size_subset['cast_size'].value_counts()"
      ],
      "execution_count": 184,
      "outputs": [
        {
          "output_type": "execute_result",
          "data": {
            "text/plain": [
              "1.0     311\n",
              "14.0    296\n",
              "13.0    276\n",
              "12.0    264\n",
              "10.0    253\n",
              "11.0    249\n",
              "9.0     205\n",
              "8.0     199\n",
              "2.0     184\n",
              "6.0     182\n",
              "5.0     167\n",
              "3.0     163\n",
              "7.0     160\n",
              "4.0     143\n",
              "Name: cast_size, dtype: int64"
            ]
          },
          "metadata": {
            "tags": []
          },
          "execution_count": 184
        }
      ]
    },
    {
      "cell_type": "code",
      "metadata": {
        "colab": {
          "base_uri": "https://localhost:8080/",
          "height": 280
        },
        "id": "sVQB6UeRd3nD",
        "outputId": "b1688d21-e5bd-49bb-db37-0075ab04edb9"
      },
      "source": [
        "sns.countplot(x='cast_size', data=cast_size_subset)\n",
        "plt.show()"
      ],
      "execution_count": 185,
      "outputs": [
        {
          "output_type": "display_data",
          "data": {
            "image/png": "[encoded data removed]",
            "text/plain": [
              "<Figure size 432x288 with 1 Axes>"
            ]
          },
          "metadata": {
            "tags": [],
            "needs_background": "light"
          }
        }
      ]
    },
    {
      "cell_type": "code",
      "metadata": {
        "colab": {
          "base_uri": "https://localhost:8080/",
          "height": 538
        },
        "id": "vt9P6pLifkx1",
        "outputId": "5205cceb-86b2-4585-962d-ebac6caacc52"
      },
      "source": [
        "imdb[imdb['cast_size'] == 1]"
      ],
      "execution_count": 186,
      "outputs": [
        {
          "output_type": "execute_result",
          "data": {
            "text/html": [
              "<div>\n",
              "<style scoped>\n",
              "    .dataframe tbody tr th:only-of-type {\n",
              "        vertical-align: middle;\n",
              "    }\n",
              "\n",
              "    .dataframe tbody tr th {\n",
              "        vertical-align: top;\n",
              "    }\n",
              "\n",
              "    .dataframe thead th {\n",
              "        text-align: right;\n",
              "    }\n",
              "</style>\n",
              "<table border=\"1\" class=\"dataframe\">\n",
              "  <thead>\n",
              "    <tr style=\"text-align: right;\">\n",
              "      <th></th>\n",
              "      <th>movieId</th>\n",
              "      <th>title_cast</th>\n",
              "      <th>director</th>\n",
              "      <th>runtime</th>\n",
              "      <th>budget</th>\n",
              "      <th>plot_keywords</th>\n",
              "      <th>currency</th>\n",
              "      <th>cast</th>\n",
              "      <th>cast_size</th>\n",
              "      <th>exchange_rate</th>\n",
              "      <th>budget_USD</th>\n",
              "    </tr>\n",
              "  </thead>\n",
              "  <tbody>\n",
              "    <tr>\n",
              "      <th>407</th>\n",
              "      <td>411</td>\n",
              "      <td>Martin Lawrence</td>\n",
              "      <td>Martin Lawrence</td>\n",
              "      <td>NaN</td>\n",
              "      <td>0</td>\n",
              "      <td>stand up|stand up comedy|live audience|spoof</td>\n",
              "      <td>USD</td>\n",
              "      <td>[Martin Lawrence]</td>\n",
              "      <td>1.0</td>\n",
              "      <td>1.0</td>\n",
              "      <td>0.0</td>\n",
              "    </tr>\n",
              "    <tr>\n",
              "      <th>598</th>\n",
              "      <td>604</td>\n",
              "      <td>Louise Smith</td>\n",
              "      <td>C.K. Williams</td>\n",
              "      <td>73.0</td>\n",
              "      <td>0</td>\n",
              "      <td>NaN</td>\n",
              "      <td>USD</td>\n",
              "      <td>[Louise Smith]</td>\n",
              "      <td>1.0</td>\n",
              "      <td>1.0</td>\n",
              "      <td>0.0</td>\n",
              "    </tr>\n",
              "    <tr>\n",
              "      <th>746</th>\n",
              "      <td>759</td>\n",
              "      <td>Maya Lin</td>\n",
              "      <td>Freida Lee Mock</td>\n",
              "      <td>105.0</td>\n",
              "      <td>0</td>\n",
              "      <td>vietnam war veteran|memorial|vietnam|civil rights</td>\n",
              "      <td>USD</td>\n",
              "      <td>[Maya Lin]</td>\n",
              "      <td>1.0</td>\n",
              "      <td>1.0</td>\n",
              "      <td>0.0</td>\n",
              "    </tr>\n",
              "    <tr>\n",
              "      <th>778</th>\n",
              "      <td>791</td>\n",
              "      <td>Leopold Kozlowski</td>\n",
              "      <td>Yale Strom</td>\n",
              "      <td>85.0</td>\n",
              "      <td>0</td>\n",
              "      <td>portrait|klezmer music</td>\n",
              "      <td>USD</td>\n",
              "      <td>[Leopold Kozlowski]</td>\n",
              "      <td>1.0</td>\n",
              "      <td>1.0</td>\n",
              "      <td>0.0</td>\n",
              "    </tr>\n",
              "    <tr>\n",
              "      <th>1084</th>\n",
              "      <td>1106</td>\n",
              "      <td>John Gielgud</td>\n",
              "      <td>Hugo Van Lawick</td>\n",
              "      <td>NaN</td>\n",
              "      <td>0</td>\n",
              "      <td>leopard|nature|narration|africa</td>\n",
              "      <td>USD</td>\n",
              "      <td>[John Gielgud]</td>\n",
              "      <td>1.0</td>\n",
              "      <td>1.0</td>\n",
              "      <td>0.0</td>\n",
              "    </tr>\n",
              "    <tr>\n",
              "      <th>...</th>\n",
              "      <td>...</td>\n",
              "      <td>...</td>\n",
              "      <td>...</td>\n",
              "      <td>...</td>\n",
              "      <td>...</td>\n",
              "      <td>...</td>\n",
              "      <td>...</td>\n",
              "      <td>...</td>\n",
              "      <td>...</td>\n",
              "      <td>...</td>\n",
              "      <td>...</td>\n",
              "    </tr>\n",
              "    <tr>\n",
              "      <th>27152</th>\n",
              "      <td>130638</td>\n",
              "      <td>Rainer Voss</td>\n",
              "      <td>Marc Bauder</td>\n",
              "      <td>88.0</td>\n",
              "      <td>0</td>\n",
              "      <td>banker|bail out|high rise|global economic cris...</td>\n",
              "      <td>USD</td>\n",
              "      <td>[Rainer Voss]</td>\n",
              "      <td>1.0</td>\n",
              "      <td>1.0</td>\n",
              "      <td>0.0</td>\n",
              "    </tr>\n",
              "    <tr>\n",
              "      <th>27172</th>\n",
              "      <td>130856</td>\n",
              "      <td>Mike Scotti</td>\n",
              "      <td>Kristian Fraga</td>\n",
              "      <td>NaN</td>\n",
              "      <td>0</td>\n",
              "      <td>NaN</td>\n",
              "      <td>USD</td>\n",
              "      <td>[Mike Scotti]</td>\n",
              "      <td>1.0</td>\n",
              "      <td>1.0</td>\n",
              "      <td>0.0</td>\n",
              "    </tr>\n",
              "    <tr>\n",
              "      <th>27181</th>\n",
              "      <td>130970</td>\n",
              "      <td>George Carlin</td>\n",
              "      <td>George Carlin</td>\n",
              "      <td>75.0</td>\n",
              "      <td>0</td>\n",
              "      <td>stand up|stand up special|tv special|social co...</td>\n",
              "      <td>USD</td>\n",
              "      <td>[George Carlin]</td>\n",
              "      <td>1.0</td>\n",
              "      <td>1.0</td>\n",
              "      <td>0.0</td>\n",
              "    </tr>\n",
              "    <tr>\n",
              "      <th>27194</th>\n",
              "      <td>131017</td>\n",
              "      <td>Aziz Ansari</td>\n",
              "      <td>Aziz Ansari</td>\n",
              "      <td>58.0</td>\n",
              "      <td>0</td>\n",
              "      <td>stand up special|stand up comedy</td>\n",
              "      <td>USD</td>\n",
              "      <td>[Aziz Ansari]</td>\n",
              "      <td>1.0</td>\n",
              "      <td>1.0</td>\n",
              "      <td>0.0</td>\n",
              "    </tr>\n",
              "    <tr>\n",
              "      <th>27220</th>\n",
              "      <td>131090</td>\n",
              "      <td>Christian Ulmen</td>\n",
              "      <td>Robert Wilde</td>\n",
              "      <td>NaN</td>\n",
              "      <td>0</td>\n",
              "      <td>NaN</td>\n",
              "      <td>USD</td>\n",
              "      <td>[Christian Ulmen]</td>\n",
              "      <td>1.0</td>\n",
              "      <td>1.0</td>\n",
              "      <td>0.0</td>\n",
              "    </tr>\n",
              "  </tbody>\n",
              "</table>\n",
              "<p>311 rows × 11 columns</p>\n",
              "</div>"
            ],
            "text/plain": [
              "       movieId         title_cast  ... exchange_rate  budget_USD\n",
              "407        411    Martin Lawrence  ...           1.0         0.0\n",
              "598        604       Louise Smith  ...           1.0         0.0\n",
              "746        759           Maya Lin  ...           1.0         0.0\n",
              "778        791  Leopold Kozlowski  ...           1.0         0.0\n",
              "1084      1106       John Gielgud  ...           1.0         0.0\n",
              "...        ...                ...  ...           ...         ...\n",
              "27152   130638        Rainer Voss  ...           1.0         0.0\n",
              "27172   130856        Mike Scotti  ...           1.0         0.0\n",
              "27181   130970      George Carlin  ...           1.0         0.0\n",
              "27194   131017        Aziz Ansari  ...           1.0         0.0\n",
              "27220   131090    Christian Ulmen  ...           1.0         0.0\n",
              "\n",
              "[311 rows x 11 columns]"
            ]
          },
          "metadata": {
            "tags": []
          },
          "execution_count": 186
        }
      ]
    },
    {
      "cell_type": "markdown",
      "metadata": {
        "id": "d9i7MYPYgFtU"
      },
      "source": [
        "## MULTIVARIATE:"
      ]
    },
    {
      "cell_type": "markdown",
      "metadata": {
        "id": "RRrwzvjAgJMB"
      },
      "source": [
        "WE FIRST WISH TO get the titles of the movies that are, on average, the most highly rated, and rated the most frequently."
      ]
    },
    {
      "cell_type": "code",
      "metadata": {
        "id": "2pKXXj7_DZMx"
      },
      "source": [
        "eda = pd.merge(df_movies, df_train, on='movieId', how='inner')"
      ],
      "execution_count": 187,
      "outputs": []
    },
    {
      "cell_type": "code",
      "metadata": {
        "id": "FhPvvDQ3gM6j",
        "colab": {
          "base_uri": "https://localhost:8080/",
          "height": 419
        },
        "outputId": "87879e82-e98f-4723-a23b-2249b8b2373b"
      },
      "source": [
        "eda"
      ],
      "execution_count": 188,
      "outputs": [
        {
          "output_type": "execute_result",
          "data": {
            "text/html": [
              "<div>\n",
              "<style scoped>\n",
              "    .dataframe tbody tr th:only-of-type {\n",
              "        vertical-align: middle;\n",
              "    }\n",
              "\n",
              "    .dataframe tbody tr th {\n",
              "        vertical-align: top;\n",
              "    }\n",
              "\n",
              "    .dataframe thead th {\n",
              "        text-align: right;\n",
              "    }\n",
              "</style>\n",
              "<table border=\"1\" class=\"dataframe\">\n",
              "  <thead>\n",
              "    <tr style=\"text-align: right;\">\n",
              "      <th></th>\n",
              "      <th>movieId</th>\n",
              "      <th>title</th>\n",
              "      <th>genres</th>\n",
              "      <th>year</th>\n",
              "      <th>userId</th>\n",
              "      <th>rating</th>\n",
              "      <th>timestamp</th>\n",
              "    </tr>\n",
              "  </thead>\n",
              "  <tbody>\n",
              "    <tr>\n",
              "      <th>0</th>\n",
              "      <td>1</td>\n",
              "      <td>Toy Story</td>\n",
              "      <td>Adventure|Animation|Children|Comedy|Fantasy</td>\n",
              "      <td>1995</td>\n",
              "      <td>158849</td>\n",
              "      <td>5.0</td>\n",
              "      <td>994716786</td>\n",
              "    </tr>\n",
              "    <tr>\n",
              "      <th>1</th>\n",
              "      <td>1</td>\n",
              "      <td>Toy Story</td>\n",
              "      <td>Adventure|Animation|Children|Comedy|Fantasy</td>\n",
              "      <td>1995</td>\n",
              "      <td>97203</td>\n",
              "      <td>5.0</td>\n",
              "      <td>942683155</td>\n",
              "    </tr>\n",
              "    <tr>\n",
              "      <th>2</th>\n",
              "      <td>1</td>\n",
              "      <td>Toy Story</td>\n",
              "      <td>Adventure|Animation|Children|Comedy|Fantasy</td>\n",
              "      <td>1995</td>\n",
              "      <td>161871</td>\n",
              "      <td>3.0</td>\n",
              "      <td>833104576</td>\n",
              "    </tr>\n",
              "    <tr>\n",
              "      <th>3</th>\n",
              "      <td>1</td>\n",
              "      <td>Toy Story</td>\n",
              "      <td>Adventure|Animation|Children|Comedy|Fantasy</td>\n",
              "      <td>1995</td>\n",
              "      <td>45117</td>\n",
              "      <td>4.0</td>\n",
              "      <td>1442256969</td>\n",
              "    </tr>\n",
              "    <tr>\n",
              "      <th>4</th>\n",
              "      <td>1</td>\n",
              "      <td>Toy Story</td>\n",
              "      <td>Adventure|Animation|Children|Comedy|Fantasy</td>\n",
              "      <td>1995</td>\n",
              "      <td>27431</td>\n",
              "      <td>5.0</td>\n",
              "      <td>849667827</td>\n",
              "    </tr>\n",
              "    <tr>\n",
              "      <th>...</th>\n",
              "      <td>...</td>\n",
              "      <td>...</td>\n",
              "      <td>...</td>\n",
              "      <td>...</td>\n",
              "      <td>...</td>\n",
              "      <td>...</td>\n",
              "      <td>...</td>\n",
              "    </tr>\n",
              "    <tr>\n",
              "      <th>10000033</th>\n",
              "      <td>209145</td>\n",
              "      <td>Liberté</td>\n",
              "      <td>Drama</td>\n",
              "      <td>2019</td>\n",
              "      <td>145795</td>\n",
              "      <td>1.0</td>\n",
              "      <td>1574225362</td>\n",
              "    </tr>\n",
              "    <tr>\n",
              "      <th>10000034</th>\n",
              "      <td>209153</td>\n",
              "      <td>Happy Flight</td>\n",
              "      <td>Comedy|Drama</td>\n",
              "      <td>2008</td>\n",
              "      <td>147040</td>\n",
              "      <td>2.5</td>\n",
              "      <td>1574232704</td>\n",
              "    </tr>\n",
              "    <tr>\n",
              "      <th>10000035</th>\n",
              "      <td>209159</td>\n",
              "      <td>Window of the Soul</td>\n",
              "      <td>Documentary</td>\n",
              "      <td>2001</td>\n",
              "      <td>115835</td>\n",
              "      <td>3.0</td>\n",
              "      <td>1574280985</td>\n",
              "    </tr>\n",
              "    <tr>\n",
              "      <th>10000036</th>\n",
              "      <td>209169</td>\n",
              "      <td>A Girl Thing</td>\n",
              "      <td>(no genres listed)</td>\n",
              "      <td>2001</td>\n",
              "      <td>119571</td>\n",
              "      <td>3.0</td>\n",
              "      <td>1574291826</td>\n",
              "    </tr>\n",
              "    <tr>\n",
              "      <th>10000037</th>\n",
              "      <td>209171</td>\n",
              "      <td>Women of Devil's Island</td>\n",
              "      <td>Action|Adventure|Drama</td>\n",
              "      <td>1962</td>\n",
              "      <td>119571</td>\n",
              "      <td>3.0</td>\n",
              "      <td>1574291937</td>\n",
              "    </tr>\n",
              "  </tbody>\n",
              "</table>\n",
              "<p>10000038 rows × 7 columns</p>\n",
              "</div>"
            ],
            "text/plain": [
              "          movieId                     title  ... rating   timestamp\n",
              "0               1                Toy Story   ...    5.0   994716786\n",
              "1               1                Toy Story   ...    5.0   942683155\n",
              "2               1                Toy Story   ...    3.0   833104576\n",
              "3               1                Toy Story   ...    4.0  1442256969\n",
              "4               1                Toy Story   ...    5.0   849667827\n",
              "...           ...                       ...  ...    ...         ...\n",
              "10000033   209145                  Liberté   ...    1.0  1574225362\n",
              "10000034   209153             Happy Flight   ...    2.5  1574232704\n",
              "10000035   209159       Window of the Soul   ...    3.0  1574280985\n",
              "10000036   209169             A Girl Thing   ...    3.0  1574291826\n",
              "10000037   209171  Women of Devil's Island   ...    3.0  1574291937\n",
              "\n",
              "[10000038 rows x 7 columns]"
            ]
          },
          "metadata": {
            "tags": []
          },
          "execution_count": 188
        }
      ]
    },
    {
      "cell_type": "code",
      "metadata": {
        "id": "6uqI2h0fFlZl"
      },
      "source": [
        "eda_movies_avg_ratings = pd.DataFrame(eda.groupby(['movieId', 'title'], as_index=False)['rating'].agg(['count', 'mean']))\n",
        "\n",
        "eda_movies_avg_ratings.reset_index(inplace=True)"
      ],
      "execution_count": 189,
      "outputs": []
    },
    {
      "cell_type": "code",
      "metadata": {
        "colab": {
          "base_uri": "https://localhost:8080/",
          "height": 824
        },
        "id": "7OsefvkIgIMd",
        "outputId": "f6eb4610-a6c8-4530-a1ef-dfa1c9e1a4b6"
      },
      "source": [
        "eda_movies_avg_ratings.sort_values(by=['count', 'mean'], ascending=False).head(25)"
      ],
      "execution_count": 190,
      "outputs": [
        {
          "output_type": "execute_result",
          "data": {
            "text/html": [
              "<div>\n",
              "<style scoped>\n",
              "    .dataframe tbody tr th:only-of-type {\n",
              "        vertical-align: middle;\n",
              "    }\n",
              "\n",
              "    .dataframe tbody tr th {\n",
              "        vertical-align: top;\n",
              "    }\n",
              "\n",
              "    .dataframe thead th {\n",
              "        text-align: right;\n",
              "    }\n",
              "</style>\n",
              "<table border=\"1\" class=\"dataframe\">\n",
              "  <thead>\n",
              "    <tr style=\"text-align: right;\">\n",
              "      <th></th>\n",
              "      <th>movieId</th>\n",
              "      <th>title</th>\n",
              "      <th>count</th>\n",
              "      <th>mean</th>\n",
              "    </tr>\n",
              "  </thead>\n",
              "  <tbody>\n",
              "    <tr>\n",
              "      <th>314</th>\n",
              "      <td>318</td>\n",
              "      <td>Shawshank Redemption, The</td>\n",
              "      <td>32831</td>\n",
              "      <td>4.417624</td>\n",
              "    </tr>\n",
              "    <tr>\n",
              "      <th>351</th>\n",
              "      <td>356</td>\n",
              "      <td>Forrest Gump</td>\n",
              "      <td>32383</td>\n",
              "      <td>4.047216</td>\n",
              "    </tr>\n",
              "    <tr>\n",
              "      <th>292</th>\n",
              "      <td>296</td>\n",
              "      <td>Pulp Fiction</td>\n",
              "      <td>31697</td>\n",
              "      <td>4.195097</td>\n",
              "    </tr>\n",
              "    <tr>\n",
              "      <th>585</th>\n",
              "      <td>593</td>\n",
              "      <td>Silence of the Lambs, The</td>\n",
              "      <td>29444</td>\n",
              "      <td>4.144172</td>\n",
              "    </tr>\n",
              "    <tr>\n",
              "      <th>2479</th>\n",
              "      <td>2571</td>\n",
              "      <td>Matrix, The</td>\n",
              "      <td>29014</td>\n",
              "      <td>4.154253</td>\n",
              "    </tr>\n",
              "    <tr>\n",
              "      <th>257</th>\n",
              "      <td>260</td>\n",
              "      <td>Star Wars: Episode IV - A New Hope</td>\n",
              "      <td>27560</td>\n",
              "      <td>4.111811</td>\n",
              "    </tr>\n",
              "    <tr>\n",
              "      <th>475</th>\n",
              "      <td>480</td>\n",
              "      <td>Jurassic Park</td>\n",
              "      <td>25518</td>\n",
              "      <td>3.684634</td>\n",
              "    </tr>\n",
              "    <tr>\n",
              "      <th>522</th>\n",
              "      <td>527</td>\n",
              "      <td>Schindler's List</td>\n",
              "      <td>24004</td>\n",
              "      <td>4.247625</td>\n",
              "    </tr>\n",
              "    <tr>\n",
              "      <th>108</th>\n",
              "      <td>110</td>\n",
              "      <td>Braveheart</td>\n",
              "      <td>23722</td>\n",
              "      <td>3.994119</td>\n",
              "    </tr>\n",
              "    <tr>\n",
              "      <th>2866</th>\n",
              "      <td>2959</td>\n",
              "      <td>Fight Club</td>\n",
              "      <td>23536</td>\n",
              "      <td>4.227906</td>\n",
              "    </tr>\n",
              "    <tr>\n",
              "      <th>581</th>\n",
              "      <td>589</td>\n",
              "      <td>Terminator 2: Judgment Day</td>\n",
              "      <td>23075</td>\n",
              "      <td>3.951419</td>\n",
              "    </tr>\n",
              "    <tr>\n",
              "      <th>0</th>\n",
              "      <td>1</td>\n",
              "      <td>Toy Story</td>\n",
              "      <td>23062</td>\n",
              "      <td>3.889971</td>\n",
              "    </tr>\n",
              "    <tr>\n",
              "      <th>1166</th>\n",
              "      <td>1196</td>\n",
              "      <td>Star Wars: Episode V - The Empire Strikes Back</td>\n",
              "      <td>22956</td>\n",
              "      <td>4.146236</td>\n",
              "    </tr>\n",
              "    <tr>\n",
              "      <th>4885</th>\n",
              "      <td>4993</td>\n",
              "      <td>Lord of the Rings: The Fellowship of the Ring,...</td>\n",
              "      <td>22216</td>\n",
              "      <td>4.087257</td>\n",
              "    </tr>\n",
              "    <tr>\n",
              "      <th>49</th>\n",
              "      <td>50</td>\n",
              "      <td>Usual Suspects, The</td>\n",
              "      <td>22032</td>\n",
              "      <td>4.278073</td>\n",
              "    </tr>\n",
              "    <tr>\n",
              "      <th>1168</th>\n",
              "      <td>1198</td>\n",
              "      <td>Raiders of the Lost Ark</td>\n",
              "      <td>21982</td>\n",
              "      <td>4.120530</td>\n",
              "    </tr>\n",
              "    <tr>\n",
              "      <th>1179</th>\n",
              "      <td>1210</td>\n",
              "      <td>Star Wars: Episode VI - Return of the Jedi</td>\n",
              "      <td>21909</td>\n",
              "      <td>3.994112</td>\n",
              "    </tr>\n",
              "    <tr>\n",
              "      <th>2765</th>\n",
              "      <td>2858</td>\n",
              "      <td>American Beauty</td>\n",
              "      <td>21644</td>\n",
              "      <td>4.105595</td>\n",
              "    </tr>\n",
              "    <tr>\n",
              "      <th>840</th>\n",
              "      <td>858</td>\n",
              "      <td>Godfather, The</td>\n",
              "      <td>20960</td>\n",
              "      <td>4.311355</td>\n",
              "    </tr>\n",
              "    <tr>\n",
              "      <th>7020</th>\n",
              "      <td>7153</td>\n",
              "      <td>Lord of the Rings: The Return of the King, The</td>\n",
              "      <td>20430</td>\n",
              "      <td>4.086074</td>\n",
              "    </tr>\n",
              "    <tr>\n",
              "      <th>5835</th>\n",
              "      <td>5952</td>\n",
              "      <td>Lord of the Rings: The Two Towers, The</td>\n",
              "      <td>20317</td>\n",
              "      <td>4.066324</td>\n",
              "    </tr>\n",
              "    <tr>\n",
              "      <th>46</th>\n",
              "      <td>47</td>\n",
              "      <td>Seven</td>\n",
              "      <td>20254</td>\n",
              "      <td>4.075269</td>\n",
              "    </tr>\n",
              "    <tr>\n",
              "      <th>452</th>\n",
              "      <td>457</td>\n",
              "      <td>Fugitive, The</td>\n",
              "      <td>19849</td>\n",
              "      <td>3.972921</td>\n",
              "    </tr>\n",
              "    <tr>\n",
              "      <th>1237</th>\n",
              "      <td>1270</td>\n",
              "      <td>Back to the Future</td>\n",
              "      <td>19636</td>\n",
              "      <td>3.951772</td>\n",
              "    </tr>\n",
              "    <tr>\n",
              "      <th>764</th>\n",
              "      <td>780</td>\n",
              "      <td>Independence Day</td>\n",
              "      <td>19486</td>\n",
              "      <td>3.362157</td>\n",
              "    </tr>\n",
              "  </tbody>\n",
              "</table>\n",
              "</div>"
            ],
            "text/plain": [
              "      movieId  ...      mean\n",
              "314       318  ...  4.417624\n",
              "351       356  ...  4.047216\n",
              "292       296  ...  4.195097\n",
              "585       593  ...  4.144172\n",
              "2479     2571  ...  4.154253\n",
              "257       260  ...  4.111811\n",
              "475       480  ...  3.684634\n",
              "522       527  ...  4.247625\n",
              "108       110  ...  3.994119\n",
              "2866     2959  ...  4.227906\n",
              "581       589  ...  3.951419\n",
              "0           1  ...  3.889971\n",
              "1166     1196  ...  4.146236\n",
              "4885     4993  ...  4.087257\n",
              "49         50  ...  4.278073\n",
              "1168     1198  ...  4.120530\n",
              "1179     1210  ...  3.994112\n",
              "2765     2858  ...  4.105595\n",
              "840       858  ...  4.311355\n",
              "7020     7153  ...  4.086074\n",
              "5835     5952  ...  4.066324\n",
              "46         47  ...  4.075269\n",
              "452       457  ...  3.972921\n",
              "1237     1270  ...  3.951772\n",
              "764       780  ...  3.362157\n",
              "\n",
              "[25 rows x 4 columns]"
            ]
          },
          "metadata": {
            "tags": []
          },
          "execution_count": 190
        }
      ]
    },
    {
      "cell_type": "code",
      "metadata": {
        "colab": {
          "base_uri": "https://localhost:8080/",
          "height": 824
        },
        "id": "KVkLtOUZHkVa",
        "outputId": "585ed0fc-e5a0-44b6-d21b-8a62c48f5fb0"
      },
      "source": [
        "eda_movies_avg_ratings.sort_values(by=['mean', 'count'], ascending=False).head(25)"
      ],
      "execution_count": 191,
      "outputs": [
        {
          "output_type": "execute_result",
          "data": {
            "text/html": [
              "<div>\n",
              "<style scoped>\n",
              "    .dataframe tbody tr th:only-of-type {\n",
              "        vertical-align: middle;\n",
              "    }\n",
              "\n",
              "    .dataframe tbody tr th {\n",
              "        vertical-align: top;\n",
              "    }\n",
              "\n",
              "    .dataframe thead th {\n",
              "        text-align: right;\n",
              "    }\n",
              "</style>\n",
              "<table border=\"1\" class=\"dataframe\">\n",
              "  <thead>\n",
              "    <tr style=\"text-align: right;\">\n",
              "      <th></th>\n",
              "      <th>movieId</th>\n",
              "      <th>title</th>\n",
              "      <th>count</th>\n",
              "      <th>mean</th>\n",
              "    </tr>\n",
              "  </thead>\n",
              "  <tbody>\n",
              "    <tr>\n",
              "      <th>33598</th>\n",
              "      <td>159789</td>\n",
              "      <td>Marguerite &amp; Julien</td>\n",
              "      <td>3</td>\n",
              "      <td>5.0</td>\n",
              "    </tr>\n",
              "    <tr>\n",
              "      <th>35398</th>\n",
              "      <td>165787</td>\n",
              "      <td>Lonesome Dove Church</td>\n",
              "      <td>3</td>\n",
              "      <td>5.0</td>\n",
              "    </tr>\n",
              "    <tr>\n",
              "      <th>38500</th>\n",
              "      <td>174841</td>\n",
              "      <td>Pandora's Box</td>\n",
              "      <td>3</td>\n",
              "      <td>5.0</td>\n",
              "    </tr>\n",
              "    <tr>\n",
              "      <th>45285</th>\n",
              "      <td>196557</td>\n",
              "      <td>Adventures of Mowgli: Return to Mankind</td>\n",
              "      <td>3</td>\n",
              "      <td>5.0</td>\n",
              "    </tr>\n",
              "    <tr>\n",
              "      <th>18628</th>\n",
              "      <td>99667</td>\n",
              "      <td>Excuse Me for Living</td>\n",
              "      <td>2</td>\n",
              "      <td>5.0</td>\n",
              "    </tr>\n",
              "    <tr>\n",
              "      <th>19372</th>\n",
              "      <td>103629</td>\n",
              "      <td>Limuzins Janu nakts krasa</td>\n",
              "      <td>2</td>\n",
              "      <td>5.0</td>\n",
              "    </tr>\n",
              "    <tr>\n",
              "      <th>20946</th>\n",
              "      <td>112599</td>\n",
              "      <td>Favor</td>\n",
              "      <td>2</td>\n",
              "      <td>5.0</td>\n",
              "    </tr>\n",
              "    <tr>\n",
              "      <th>24423</th>\n",
              "      <td>128221</td>\n",
              "      <td>Ride 'Em Cowboy</td>\n",
              "      <td>2</td>\n",
              "      <td>5.0</td>\n",
              "    </tr>\n",
              "    <tr>\n",
              "      <th>31168</th>\n",
              "      <td>151611</td>\n",
              "      <td>Addicted to Sexting</td>\n",
              "      <td>2</td>\n",
              "      <td>5.0</td>\n",
              "    </tr>\n",
              "    <tr>\n",
              "      <th>32461</th>\n",
              "      <td>155711</td>\n",
              "      <td>Underwater Love</td>\n",
              "      <td>2</td>\n",
              "      <td>5.0</td>\n",
              "    </tr>\n",
              "    <tr>\n",
              "      <th>33323</th>\n",
              "      <td>158902</td>\n",
              "      <td>Love on the Air</td>\n",
              "      <td>2</td>\n",
              "      <td>5.0</td>\n",
              "    </tr>\n",
              "    <tr>\n",
              "      <th>33445</th>\n",
              "      <td>159217</td>\n",
              "      <td>The Identity Theft of Mitch Mustain</td>\n",
              "      <td>2</td>\n",
              "      <td>5.0</td>\n",
              "    </tr>\n",
              "    <tr>\n",
              "      <th>34460</th>\n",
              "      <td>162682</td>\n",
              "      <td>The First Monday in May</td>\n",
              "      <td>2</td>\n",
              "      <td>5.0</td>\n",
              "    </tr>\n",
              "    <tr>\n",
              "      <th>35928</th>\n",
              "      <td>167526</td>\n",
              "      <td>Panorama of Esplanade by Night</td>\n",
              "      <td>2</td>\n",
              "      <td>5.0</td>\n",
              "    </tr>\n",
              "    <tr>\n",
              "      <th>36779</th>\n",
              "      <td>170070</td>\n",
              "      <td>Unutursam Fısılda</td>\n",
              "      <td>2</td>\n",
              "      <td>5.0</td>\n",
              "    </tr>\n",
              "    <tr>\n",
              "      <th>38361</th>\n",
              "      <td>174473</td>\n",
              "      <td>Altitude</td>\n",
              "      <td>2</td>\n",
              "      <td>5.0</td>\n",
              "    </tr>\n",
              "    <tr>\n",
              "      <th>40045</th>\n",
              "      <td>179541</td>\n",
              "      <td>An Uncommon Grace</td>\n",
              "      <td>2</td>\n",
              "      <td>5.0</td>\n",
              "    </tr>\n",
              "    <tr>\n",
              "      <th>40058</th>\n",
              "      <td>179591</td>\n",
              "      <td>A Royal Winter</td>\n",
              "      <td>2</td>\n",
              "      <td>5.0</td>\n",
              "    </tr>\n",
              "    <tr>\n",
              "      <th>40104</th>\n",
              "      <td>179731</td>\n",
              "      <td>Sound of Christmas</td>\n",
              "      <td>2</td>\n",
              "      <td>5.0</td>\n",
              "    </tr>\n",
              "    <tr>\n",
              "      <th>40241</th>\n",
              "      <td>180169</td>\n",
              "      <td>Daguerréotypes</td>\n",
              "      <td>2</td>\n",
              "      <td>5.0</td>\n",
              "    </tr>\n",
              "    <tr>\n",
              "      <th>40507</th>\n",
              "      <td>181251</td>\n",
              "      <td>Gol Maal</td>\n",
              "      <td>2</td>\n",
              "      <td>5.0</td>\n",
              "    </tr>\n",
              "    <tr>\n",
              "      <th>42412</th>\n",
              "      <td>187057</td>\n",
              "      <td>The Time of Their Lives</td>\n",
              "      <td>2</td>\n",
              "      <td>5.0</td>\n",
              "    </tr>\n",
              "    <tr>\n",
              "      <th>43366</th>\n",
              "      <td>190163</td>\n",
              "      <td>Leaning Towards Solace</td>\n",
              "      <td>2</td>\n",
              "      <td>5.0</td>\n",
              "    </tr>\n",
              "    <tr>\n",
              "      <th>44340</th>\n",
              "      <td>193527</td>\n",
              "      <td>The Enclosed Valley</td>\n",
              "      <td>2</td>\n",
              "      <td>5.0</td>\n",
              "    </tr>\n",
              "    <tr>\n",
              "      <th>44372</th>\n",
              "      <td>193639</td>\n",
              "      <td>The Winter's Tale</td>\n",
              "      <td>2</td>\n",
              "      <td>5.0</td>\n",
              "    </tr>\n",
              "  </tbody>\n",
              "</table>\n",
              "</div>"
            ],
            "text/plain": [
              "       movieId                                     title  count  mean\n",
              "33598   159789                      Marguerite & Julien       3   5.0\n",
              "35398   165787                     Lonesome Dove Church       3   5.0\n",
              "38500   174841                            Pandora's Box       3   5.0\n",
              "45285   196557  Adventures of Mowgli: Return to Mankind       3   5.0\n",
              "18628    99667                     Excuse Me for Living       2   5.0\n",
              "19372   103629                Limuzins Janu nakts krasa       2   5.0\n",
              "20946   112599                                    Favor       2   5.0\n",
              "24423   128221                          Ride 'Em Cowboy       2   5.0\n",
              "31168   151611                      Addicted to Sexting       2   5.0\n",
              "32461   155711                          Underwater Love       2   5.0\n",
              "33323   158902                          Love on the Air       2   5.0\n",
              "33445   159217       The Identity Theft of Mitch Mustain      2   5.0\n",
              "34460   162682                  The First Monday in May       2   5.0\n",
              "35928   167526           Panorama of Esplanade by Night       2   5.0\n",
              "36779   170070                        Unutursam Fısılda       2   5.0\n",
              "38361   174473                                 Altitude       2   5.0\n",
              "40045   179541                        An Uncommon Grace       2   5.0\n",
              "40058   179591                           A Royal Winter       2   5.0\n",
              "40104   179731                       Sound of Christmas       2   5.0\n",
              "40241   180169                           Daguerréotypes       2   5.0\n",
              "40507   181251                                 Gol Maal       2   5.0\n",
              "42412   187057                  The Time of Their Lives       2   5.0\n",
              "43366   190163                   Leaning Towards Solace       2   5.0\n",
              "44340   193527                      The Enclosed Valley       2   5.0\n",
              "44372   193639                        The Winter's Tale       2   5.0"
            ]
          },
          "metadata": {
            "tags": []
          },
          "execution_count": 191
        }
      ]
    },
    {
      "cell_type": "code",
      "metadata": {
        "id": "XK9yy1P-IEUd"
      },
      "source": [
        "eda_top = eda_movies_avg_ratings.sort_values(by=['count', 'mean'], ascending=False).head(500)"
      ],
      "execution_count": 192,
      "outputs": []
    },
    {
      "cell_type": "markdown",
      "metadata": {
        "id": "BCG3HUO_JFif"
      },
      "source": [
        "NOW WE HAVE A DATAFRAME CONTAINING THE TOP 500 MOVIES IN TERMS OF NUMBER OF RATINGS, WITH THE ACCOMPANYING AVERAGE RATINGS AS A SECODNARY FILTERING FEATURE:"
      ]
    },
    {
      "cell_type": "code",
      "metadata": {
        "id": "WY8Tpr9CJVeh"
      },
      "source": [
        "eda_top = pd.merge(eda_top, imdb, on='movieId', how='inner')"
      ],
      "execution_count": 193,
      "outputs": []
    },
    {
      "cell_type": "code",
      "metadata": {
        "id": "uYTFCkANjuKB"
      },
      "source": [
        "eda_top = pd.merge(eda_top, df_movies[['movieId', 'year']], on='movieId', how='inner')"
      ],
      "execution_count": 194,
      "outputs": []
    },
    {
      "cell_type": "markdown",
      "metadata": {
        "id": "DQ8oe0xrKvh1"
      },
      "source": [
        "HOW DOES THE BUDGET OF THE MOST RATED MOVIES COMPARE TO THE AVERAGE BUDGET IN THE DATASET:"
      ]
    },
    {
      "cell_type": "code",
      "metadata": {
        "colab": {
          "base_uri": "https://localhost:8080/"
        },
        "id": "ORfLB_hvK5ET",
        "outputId": "f7e908e6-16d0-4855-92f7-6f3eab7f8ea3"
      },
      "source": [
        "avg_budget_top = eda_top[eda_top['budget_USD'] > 0]['budget_USD'].mean()\n",
        "avg_budget_top"
      ],
      "execution_count": 195,
      "outputs": [
        {
          "output_type": "execute_result",
          "data": {
            "text/plain": [
              "60188745.47612575"
            ]
          },
          "metadata": {
            "tags": []
          },
          "execution_count": 195
        }
      ]
    },
    {
      "cell_type": "code",
      "metadata": {
        "colab": {
          "base_uri": "https://localhost:8080/"
        },
        "id": "E0KXcdRENMGU",
        "outputId": "2e2e1094-fccd-425f-f975-9cf6f9167350"
      },
      "source": [
        "avg_budget_imdb = imdb[imdb['budget'] > 0]['budget_USD'].mean()\n",
        "avg_budget_imdb"
      ],
      "execution_count": 196,
      "outputs": [
        {
          "output_type": "execute_result",
          "data": {
            "text/plain": [
              "25446506.378874786"
            ]
          },
          "metadata": {
            "tags": []
          },
          "execution_count": 196
        }
      ]
    },
    {
      "cell_type": "code",
      "metadata": {
        "colab": {
          "base_uri": "https://localhost:8080/",
          "height": 453
        },
        "id": "F_5ZJ43vOhV8",
        "outputId": "645a998c-821a-4b13-8ed6-d00a3c222a32"
      },
      "source": [
        "plt.figure(figsize=(9, 6))\n",
        "sns.distplot(eda_top[eda_top['budget_USD'] > 0]['budget_USD'])\n",
        "plt.axvline(x=avg_budget_imdb, color='r', label='Average budget')\n",
        "plt.axvline(x=avg_budget_top, color='k', label='Average budget of top 500 movies')\n",
        "plt.xlabel('Budget of movies in USD Dollars')\n",
        "plt.legend()\n",
        "plt.show()"
      ],
      "execution_count": 197,
      "outputs": [
        {
          "output_type": "stream",
          "text": [
            "/usr/local/lib/python3.7/dist-packages/seaborn/distributions.py:2557: FutureWarning: `distplot` is a deprecated function and will be removed in a future version. Please adapt your code to use either `displot` (a figure-level function with similar flexibility) or `histplot` (an axes-level function for histograms).\n",
            "  warnings.warn(msg, FutureWarning)\n"
          ],
          "name": "stderr"
        },
        {
          "output_type": "display_data",
          "data": {
            "image/png": "[encoded data removed]",
            "text/plain": [
              "<Figure size 648x432 with 1 Axes>"
            ]
          },
          "metadata": {
            "tags": [],
            "needs_background": "light"
          }
        }
      ]
    },
    {
      "cell_type": "markdown",
      "metadata": {
        "id": "53AH18SJSjfV"
      },
      "source": [
        "HAS AVERAGE BUDGETS PER MOVIES CHANGED OVER TIME:"
      ]
    },
    {
      "cell_type": "code",
      "metadata": {
        "colab": {
          "base_uri": "https://localhost:8080/",
          "height": 1000
        },
        "id": "1E1J9HACS-7u",
        "outputId": "ddb5d868-3342-4a8b-f7d9-53abf1784a54"
      },
      "source": [
        "eda = pd.merge(imdb, df_movies, on='movieId', how='inner')\n",
        "eda"
      ],
      "execution_count": 198,
      "outputs": [
        {
          "output_type": "execute_result",
          "data": {
            "text/html": [
              "<div>\n",
              "<style scoped>\n",
              "    .dataframe tbody tr th:only-of-type {\n",
              "        vertical-align: middle;\n",
              "    }\n",
              "\n",
              "    .dataframe tbody tr th {\n",
              "        vertical-align: top;\n",
              "    }\n",
              "\n",
              "    .dataframe thead th {\n",
              "        text-align: right;\n",
              "    }\n",
              "</style>\n",
              "<table border=\"1\" class=\"dataframe\">\n",
              "  <thead>\n",
              "    <tr style=\"text-align: right;\">\n",
              "      <th></th>\n",
              "      <th>movieId</th>\n",
              "      <th>title_cast</th>\n",
              "      <th>director</th>\n",
              "      <th>runtime</th>\n",
              "      <th>budget</th>\n",
              "      <th>plot_keywords</th>\n",
              "      <th>currency</th>\n",
              "      <th>cast</th>\n",
              "      <th>cast_size</th>\n",
              "      <th>exchange_rate</th>\n",
              "      <th>budget_USD</th>\n",
              "      <th>title</th>\n",
              "      <th>genres</th>\n",
              "      <th>year</th>\n",
              "    </tr>\n",
              "  </thead>\n",
              "  <tbody>\n",
              "    <tr>\n",
              "      <th>0</th>\n",
              "      <td>1</td>\n",
              "      <td>Tom Hanks,Tim Allen,Don Rickles,Jim Varney,Wal...</td>\n",
              "      <td>John Lasseter</td>\n",
              "      <td>81.0</td>\n",
              "      <td>30000000</td>\n",
              "      <td>toy|rivalry|cowboy|cgi animation</td>\n",
              "      <td>USD</td>\n",
              "      <td>[Tom Hanks, Tim Allen, Don Rickles, Jim Varney...</td>\n",
              "      <td>15.0</td>\n",
              "      <td>1.0</td>\n",
              "      <td>30000000.0</td>\n",
              "      <td>Toy Story</td>\n",
              "      <td>Adventure|Animation|Children|Comedy|Fantasy</td>\n",
              "      <td>1995</td>\n",
              "    </tr>\n",
              "    <tr>\n",
              "      <th>1</th>\n",
              "      <td>2</td>\n",
              "      <td>Robin Williams,Jonathan Hyde,Kirsten Dunst,Bra...</td>\n",
              "      <td>Jonathan Hensleigh</td>\n",
              "      <td>104.0</td>\n",
              "      <td>65000000</td>\n",
              "      <td>board game|adventurer|fight|game</td>\n",
              "      <td>USD</td>\n",
              "      <td>[Robin Williams, Jonathan Hyde, Kirsten Dunst,...</td>\n",
              "      <td>15.0</td>\n",
              "      <td>1.0</td>\n",
              "      <td>65000000.0</td>\n",
              "      <td>Jumanji</td>\n",
              "      <td>Adventure|Children|Fantasy</td>\n",
              "      <td>1995</td>\n",
              "    </tr>\n",
              "    <tr>\n",
              "      <th>2</th>\n",
              "      <td>3</td>\n",
              "      <td>Walter Matthau,Jack Lemmon,Sophia Loren,Ann-Ma...</td>\n",
              "      <td>Mark Steven Johnson</td>\n",
              "      <td>101.0</td>\n",
              "      <td>25000000</td>\n",
              "      <td>boat|lake|neighbor|rivalry</td>\n",
              "      <td>USD</td>\n",
              "      <td>[Walter Matthau, Jack Lemmon, Sophia Loren, An...</td>\n",
              "      <td>15.0</td>\n",
              "      <td>1.0</td>\n",
              "      <td>25000000.0</td>\n",
              "      <td>Grumpier Old Men</td>\n",
              "      <td>Comedy|Romance</td>\n",
              "      <td>1995</td>\n",
              "    </tr>\n",
              "    <tr>\n",
              "      <th>3</th>\n",
              "      <td>4</td>\n",
              "      <td>Whitney Houston,Angela Bassett,Loretta Devine,...</td>\n",
              "      <td>Terry McMillan</td>\n",
              "      <td>124.0</td>\n",
              "      <td>16000000</td>\n",
              "      <td>black american|husband wife relationship|betra...</td>\n",
              "      <td>USD</td>\n",
              "      <td>[Whitney Houston, Angela Bassett, Loretta Devi...</td>\n",
              "      <td>15.0</td>\n",
              "      <td>1.0</td>\n",
              "      <td>16000000.0</td>\n",
              "      <td>Waiting to Exhale</td>\n",
              "      <td>Comedy|Drama|Romance</td>\n",
              "      <td>1995</td>\n",
              "    </tr>\n",
              "    <tr>\n",
              "      <th>4</th>\n",
              "      <td>5</td>\n",
              "      <td>Steve Martin,Diane Keaton,Martin Short,Kimberl...</td>\n",
              "      <td>Albert Hackett</td>\n",
              "      <td>106.0</td>\n",
              "      <td>30000000</td>\n",
              "      <td>fatherhood|doberman|dog|mansion</td>\n",
              "      <td>USD</td>\n",
              "      <td>[Steve Martin, Diane Keaton, Martin Short, Kim...</td>\n",
              "      <td>15.0</td>\n",
              "      <td>1.0</td>\n",
              "      <td>30000000.0</td>\n",
              "      <td>Father of the Bride Part II</td>\n",
              "      <td>Comedy</td>\n",
              "      <td>1995</td>\n",
              "    </tr>\n",
              "    <tr>\n",
              "      <th>...</th>\n",
              "      <td>...</td>\n",
              "      <td>...</td>\n",
              "      <td>...</td>\n",
              "      <td>...</td>\n",
              "      <td>...</td>\n",
              "      <td>...</td>\n",
              "      <td>...</td>\n",
              "      <td>...</td>\n",
              "      <td>...</td>\n",
              "      <td>...</td>\n",
              "      <td>...</td>\n",
              "      <td>...</td>\n",
              "      <td>...</td>\n",
              "      <td>...</td>\n",
              "    </tr>\n",
              "    <tr>\n",
              "      <th>24861</th>\n",
              "      <td>131254</td>\n",
              "      <td>Franz Dinda,Florian Lukas,Axel Stein,Kailas Ma...</td>\n",
              "      <td>Carsten Funke</td>\n",
              "      <td>85.0</td>\n",
              "      <td>0</td>\n",
              "      <td>man wrapped in a towel|man wears a thong|male ...</td>\n",
              "      <td>USD</td>\n",
              "      <td>[Franz Dinda, Florian Lukas, Axel Stein, Kaila...</td>\n",
              "      <td>15.0</td>\n",
              "      <td>1.0</td>\n",
              "      <td>0.0</td>\n",
              "      <td>Kein Bund für's Leben</td>\n",
              "      <td>Comedy</td>\n",
              "      <td>2007</td>\n",
              "    </tr>\n",
              "    <tr>\n",
              "      <th>24862</th>\n",
              "      <td>131256</td>\n",
              "      <td>Rick Kavanian,Axel Stein,Eva Habermann,Christo...</td>\n",
              "      <td>Matthias Dinter</td>\n",
              "      <td>83.0</td>\n",
              "      <td>5800000</td>\n",
              "      <td>ski|ski resort|ampersand in title|drink in title</td>\n",
              "      <td>USD</td>\n",
              "      <td>[Rick Kavanian, Axel Stein, Eva Habermann, Chr...</td>\n",
              "      <td>15.0</td>\n",
              "      <td>1.0</td>\n",
              "      <td>5800000.0</td>\n",
              "      <td>Feuer, Eis &amp; Dosenbier</td>\n",
              "      <td>Comedy</td>\n",
              "      <td>2002</td>\n",
              "    </tr>\n",
              "    <tr>\n",
              "      <th>24863</th>\n",
              "      <td>131258</td>\n",
              "      <td>Nam-gil Kim,Ye-jin Son,Hae-Jin Yoo,Kyeong-yeon...</td>\n",
              "      <td>Seong-il Cheon</td>\n",
              "      <td>130.0</td>\n",
              "      <td>0</td>\n",
              "      <td>pirate|sword fight|korea|bandit</td>\n",
              "      <td>USD</td>\n",
              "      <td>[Nam-gil Kim, Ye-jin Son, Hae-Jin Yoo, Kyeong-...</td>\n",
              "      <td>15.0</td>\n",
              "      <td>1.0</td>\n",
              "      <td>0.0</td>\n",
              "      <td>The Pirates</td>\n",
              "      <td>Adventure</td>\n",
              "      <td>2014</td>\n",
              "    </tr>\n",
              "    <tr>\n",
              "      <th>24864</th>\n",
              "      <td>131260</td>\n",
              "      <td>Martti Suosalo,Ilkka Koivula,Vexi Salmi,Riitta...</td>\n",
              "      <td>Timo Koivusalo</td>\n",
              "      <td>102.0</td>\n",
              "      <td>0</td>\n",
              "      <td>friend|friendship|television show|restaurant</td>\n",
              "      <td>USD</td>\n",
              "      <td>[Martti Suosalo, Ilkka Koivula, Vexi Salmi, Ri...</td>\n",
              "      <td>15.0</td>\n",
              "      <td>1.0</td>\n",
              "      <td>0.0</td>\n",
              "      <td>Rentun Ruusu</td>\n",
              "      <td>(no genres listed)</td>\n",
              "      <td>2001</td>\n",
              "    </tr>\n",
              "    <tr>\n",
              "      <th>24865</th>\n",
              "      <td>131262</td>\n",
              "      <td>Sophie Lane Curtis,Kelly Reilly,Graham Phillip...</td>\n",
              "      <td>Hilary Brougher</td>\n",
              "      <td>96.0</td>\n",
              "      <td>0</td>\n",
              "      <td>hex|witch|virgin|blood</td>\n",
              "      <td>USD</td>\n",
              "      <td>[Sophie Lane Curtis, Kelly Reilly, Graham Phil...</td>\n",
              "      <td>15.0</td>\n",
              "      <td>1.0</td>\n",
              "      <td>0.0</td>\n",
              "      <td>Innocence</td>\n",
              "      <td>Adventure|Fantasy|Horror</td>\n",
              "      <td>2014</td>\n",
              "    </tr>\n",
              "  </tbody>\n",
              "</table>\n",
              "<p>24866 rows × 14 columns</p>\n",
              "</div>"
            ],
            "text/plain": [
              "       movieId  ...  year\n",
              "0            1  ...  1995\n",
              "1            2  ...  1995\n",
              "2            3  ...  1995\n",
              "3            4  ...  1995\n",
              "4            5  ...  1995\n",
              "...        ...  ...   ...\n",
              "24861   131254  ...  2007\n",
              "24862   131256  ...  2002\n",
              "24863   131258  ...  2014\n",
              "24864   131260  ...  2001\n",
              "24865   131262  ...  2014\n",
              "\n",
              "[24866 rows x 14 columns]"
            ]
          },
          "metadata": {
            "tags": []
          },
          "execution_count": 198
        }
      ]
    },
    {
      "cell_type": "code",
      "metadata": {
        "id": "5pqlQJz2ubt_"
      },
      "source": [
        "eda = eda.sort_values(by='year')"
      ],
      "execution_count": 199,
      "outputs": []
    },
    {
      "cell_type": "code",
      "metadata": {
        "colab": {
          "base_uri": "https://localhost:8080/",
          "height": 983
        },
        "id": "4dTmDuNcumnD",
        "outputId": "8ea46942-be45-4a9b-c218-483e66df2989"
      },
      "source": [
        "eda"
      ],
      "execution_count": 200,
      "outputs": [
        {
          "output_type": "execute_result",
          "data": {
            "text/html": [
              "<div>\n",
              "<style scoped>\n",
              "    .dataframe tbody tr th:only-of-type {\n",
              "        vertical-align: middle;\n",
              "    }\n",
              "\n",
              "    .dataframe tbody tr th {\n",
              "        vertical-align: top;\n",
              "    }\n",
              "\n",
              "    .dataframe thead th {\n",
              "        text-align: right;\n",
              "    }\n",
              "</style>\n",
              "<table border=\"1\" class=\"dataframe\">\n",
              "  <thead>\n",
              "    <tr style=\"text-align: right;\">\n",
              "      <th></th>\n",
              "      <th>movieId</th>\n",
              "      <th>title_cast</th>\n",
              "      <th>director</th>\n",
              "      <th>runtime</th>\n",
              "      <th>budget</th>\n",
              "      <th>plot_keywords</th>\n",
              "      <th>currency</th>\n",
              "      <th>cast</th>\n",
              "      <th>cast_size</th>\n",
              "      <th>exchange_rate</th>\n",
              "      <th>budget_USD</th>\n",
              "      <th>title</th>\n",
              "      <th>genres</th>\n",
              "      <th>year</th>\n",
              "    </tr>\n",
              "  </thead>\n",
              "  <tbody>\n",
              "    <tr>\n",
              "      <th>24604</th>\n",
              "      <td>129851</td>\n",
              "      <td>William K.L. Dickson</td>\n",
              "      <td>William K.L. Dickson</td>\n",
              "      <td>1.0</td>\n",
              "      <td>0</td>\n",
              "      <td>NaN</td>\n",
              "      <td>USD</td>\n",
              "      <td>[William K.L. Dickson]</td>\n",
              "      <td>1.0</td>\n",
              "      <td>1.0</td>\n",
              "      <td>0.0</td>\n",
              "      <td>Dickson Greeting</td>\n",
              "      <td>(no genres listed)</td>\n",
              "      <td>1891</td>\n",
              "    </tr>\n",
              "    <tr>\n",
              "      <th>16754</th>\n",
              "      <td>88674</td>\n",
              "      <td>NaN</td>\n",
              "      <td>NaN</td>\n",
              "      <td>NaN</td>\n",
              "      <td>0</td>\n",
              "      <td>NaN</td>\n",
              "      <td>USD</td>\n",
              "      <td>NaN</td>\n",
              "      <td>NaN</td>\n",
              "      <td>1.0</td>\n",
              "      <td>0.0</td>\n",
              "      <td>Edison Kinetoscopic Record of a Sneeze</td>\n",
              "      <td>Documentary</td>\n",
              "      <td>1894</td>\n",
              "    </tr>\n",
              "    <tr>\n",
              "      <th>23161</th>\n",
              "      <td>120869</td>\n",
              "      <td>NaN</td>\n",
              "      <td>NaN</td>\n",
              "      <td>NaN</td>\n",
              "      <td>0</td>\n",
              "      <td>NaN</td>\n",
              "      <td>USD</td>\n",
              "      <td>NaN</td>\n",
              "      <td>NaN</td>\n",
              "      <td>1.0</td>\n",
              "      <td>0.0</td>\n",
              "      <td>Employees Leaving the Lumière Factory</td>\n",
              "      <td>Documentary</td>\n",
              "      <td>1895</td>\n",
              "    </tr>\n",
              "    <tr>\n",
              "      <th>21598</th>\n",
              "      <td>113048</td>\n",
              "      <td>NaN</td>\n",
              "      <td>NaN</td>\n",
              "      <td>NaN</td>\n",
              "      <td>0</td>\n",
              "      <td>NaN</td>\n",
              "      <td>USD</td>\n",
              "      <td>NaN</td>\n",
              "      <td>NaN</td>\n",
              "      <td>1.0</td>\n",
              "      <td>0.0</td>\n",
              "      <td>Tables Turned on the Gardener</td>\n",
              "      <td>Comedy</td>\n",
              "      <td>1895</td>\n",
              "    </tr>\n",
              "    <tr>\n",
              "      <th>18848</th>\n",
              "      <td>98981</td>\n",
              "      <td>NaN</td>\n",
              "      <td>NaN</td>\n",
              "      <td>NaN</td>\n",
              "      <td>0</td>\n",
              "      <td>NaN</td>\n",
              "      <td>USD</td>\n",
              "      <td>NaN</td>\n",
              "      <td>NaN</td>\n",
              "      <td>1.0</td>\n",
              "      <td>0.0</td>\n",
              "      <td>Arrival of a Train, The</td>\n",
              "      <td>Documentary</td>\n",
              "      <td>1896</td>\n",
              "    </tr>\n",
              "    <tr>\n",
              "      <th>...</th>\n",
              "      <td>...</td>\n",
              "      <td>...</td>\n",
              "      <td>...</td>\n",
              "      <td>...</td>\n",
              "      <td>...</td>\n",
              "      <td>...</td>\n",
              "      <td>...</td>\n",
              "      <td>...</td>\n",
              "      <td>...</td>\n",
              "      <td>...</td>\n",
              "      <td>...</td>\n",
              "      <td>...</td>\n",
              "      <td>...</td>\n",
              "      <td>...</td>\n",
              "    </tr>\n",
              "    <tr>\n",
              "      <th>24380</th>\n",
              "      <td>128734</td>\n",
              "      <td>Tymon Tymanski,Robert Brylewski,Grzegorz Halam...</td>\n",
              "      <td>Tymon Tymanski</td>\n",
              "      <td>93.0</td>\n",
              "      <td>0</td>\n",
              "      <td>NaN</td>\n",
              "      <td>USD</td>\n",
              "      <td>[Tymon Tymanski, Robert Brylewski, Grzegorz Ha...</td>\n",
              "      <td>15.0</td>\n",
              "      <td>1.0</td>\n",
              "      <td>0.0</td>\n",
              "      <td>Polskie gówno</td>\n",
              "      <td>Comedy|Musical</td>\n",
              "      <td>NaN</td>\n",
              "    </tr>\n",
              "    <tr>\n",
              "      <th>24552</th>\n",
              "      <td>129651</td>\n",
              "      <td>Tony Call,Dan Bittner,Geoffrey Cantor,Eliza Fo...</td>\n",
              "      <td>Tony Call</td>\n",
              "      <td>NaN</td>\n",
              "      <td>0</td>\n",
              "      <td>hitler|plan gone wrong|patriotism|nationalism</td>\n",
              "      <td>USD</td>\n",
              "      <td>[Tony Call, Dan Bittner, Geoffrey Cantor, Eliz...</td>\n",
              "      <td>12.0</td>\n",
              "      <td>1.0</td>\n",
              "      <td>0.0</td>\n",
              "      <td>The Third Reich: The Rise &amp; Fall</td>\n",
              "      <td>(no genres listed)</td>\n",
              "      <td>NaN</td>\n",
              "    </tr>\n",
              "    <tr>\n",
              "      <th>24563</th>\n",
              "      <td>129705</td>\n",
              "      <td>NaN</td>\n",
              "      <td>David Sampliner</td>\n",
              "      <td>82.0</td>\n",
              "      <td>0</td>\n",
              "      <td>three word title|unemployment</td>\n",
              "      <td>USD</td>\n",
              "      <td>NaN</td>\n",
              "      <td>NaN</td>\n",
              "      <td>1.0</td>\n",
              "      <td>0.0</td>\n",
              "      <td>My Own Man</td>\n",
              "      <td>(no genres listed)</td>\n",
              "      <td>NaN</td>\n",
              "    </tr>\n",
              "    <tr>\n",
              "      <th>24616</th>\n",
              "      <td>129887</td>\n",
              "      <td>Marley Shelton,Samantha Shelton,Misha Collins,...</td>\n",
              "      <td>Christopher Shelton</td>\n",
              "      <td>85.0</td>\n",
              "      <td>0</td>\n",
              "      <td>NaN</td>\n",
              "      <td>USD</td>\n",
              "      <td>[Marley Shelton, Samantha Shelton, Misha Colli...</td>\n",
              "      <td>9.0</td>\n",
              "      <td>1.0</td>\n",
              "      <td>0.0</td>\n",
              "      <td>Moving Alan</td>\n",
              "      <td>(no genres listed)</td>\n",
              "      <td>NaN</td>\n",
              "    </tr>\n",
              "    <tr>\n",
              "      <th>24703</th>\n",
              "      <td>130454</td>\n",
              "      <td>Michael Laudrup,Johan Cruijff,Jørgen Leth</td>\n",
              "      <td>Jørgen Leth</td>\n",
              "      <td>NaN</td>\n",
              "      <td>0</td>\n",
              "      <td>reenactment|soccer</td>\n",
              "      <td>USD</td>\n",
              "      <td>[Michael Laudrup, Johan Cruijff, Jørgen Leth]</td>\n",
              "      <td>3.0</td>\n",
              "      <td>1.0</td>\n",
              "      <td>0.0</td>\n",
              "      <td>Michael Laudrup - en Fodboldspiller</td>\n",
              "      <td>(no genres listed)</td>\n",
              "      <td>NaN</td>\n",
              "    </tr>\n",
              "  </tbody>\n",
              "</table>\n",
              "<p>24866 rows × 14 columns</p>\n",
              "</div>"
            ],
            "text/plain": [
              "       movieId  ...  year\n",
              "24604   129851  ...  1891\n",
              "16754    88674  ...  1894\n",
              "23161   120869  ...  1895\n",
              "21598   113048  ...  1895\n",
              "18848    98981  ...  1896\n",
              "...        ...  ...   ...\n",
              "24380   128734  ...   NaN\n",
              "24552   129651  ...   NaN\n",
              "24563   129705  ...   NaN\n",
              "24616   129887  ...   NaN\n",
              "24703   130454  ...   NaN\n",
              "\n",
              "[24866 rows x 14 columns]"
            ]
          },
          "metadata": {
            "tags": []
          },
          "execution_count": 200
        }
      ]
    },
    {
      "cell_type": "code",
      "metadata": {
        "colab": {
          "base_uri": "https://localhost:8080/",
          "height": 414
        },
        "id": "pIqZx3T0S8hF",
        "outputId": "8cce61a3-0827-43e9-c88b-54a753d12a89"
      },
      "source": [
        "plt.figure(figsize=(9, 6))\n",
        "sns.barplot(x='year', y='budget_USD', data=eda[eda['budget_USD'] > 0])\n",
        "plt.xticks(rotation=45)\n",
        "plt.show()"
      ],
      "execution_count": 201,
      "outputs": [
        {
          "output_type": "display_data",
          "data": {
            "image/png": "[encoded data removed]",
            "text/plain": [
              "<Figure size 648x432 with 1 Axes>"
            ]
          },
          "metadata": {
            "tags": [],
            "needs_background": "light"
          }
        }
      ]
    },
    {
      "cell_type": "markdown",
      "metadata": {
        "id": "ChFluFUZZDOB"
      },
      "source": [
        "the two years, 1991 and 2000, have the largest average budgets in the dataset. It is possible though, that one movie in 1991, as well as one movie in 2000 contain an extra zero in their allocated budgets."
      ]
    },
    {
      "cell_type": "code",
      "metadata": {
        "colab": {
          "base_uri": "https://localhost:8080/"
        },
        "id": "PGe_9xpku51A",
        "outputId": "e0e624bc-04be-4d49-d7f0-b538e442e098"
      },
      "source": [
        "eda[eda['year'] == '1991']['budget_USD'].max()"
      ],
      "execution_count": 202,
      "outputs": [
        {
          "output_type": "execute_result",
          "data": {
            "text/plain": [
              "5000000000.0"
            ]
          },
          "metadata": {
            "tags": []
          },
          "execution_count": 202
        }
      ]
    },
    {
      "cell_type": "code",
      "metadata": {
        "colab": {
          "base_uri": "https://localhost:8080/"
        },
        "id": "9jqKJloYvICt",
        "outputId": "184425d7-bc59-42d7-c83b-2c587f8fea45"
      },
      "source": [
        "eda[eda['year'] == '2000']['budget_USD'].max()"
      ],
      "execution_count": 203,
      "outputs": [
        {
          "output_type": "execute_result",
          "data": {
            "text/plain": [
              "7000000000.0"
            ]
          },
          "metadata": {
            "tags": []
          },
          "execution_count": 203
        }
      ]
    },
    {
      "cell_type": "markdown",
      "metadata": {
        "id": "xyJzwSqqZzGS"
      },
      "source": [
        "ASSESING NUMBER OF RATINGS PER PER MOVIE RELASE YEAR: I.E. ARE THERE CERTAIN YEARS CONTAINING CLASSICS WHICH ARE RATED REGULARLY, OR ARE MOVIES THAT HAVE BEEN RELEASED MORE RECENTLY, RATED HIGHLY:"
      ]
    },
    {
      "cell_type": "code",
      "metadata": {
        "id": "p23gn5FRZdTM",
        "colab": {
          "base_uri": "https://localhost:8080/",
          "height": 419
        },
        "outputId": "7372ea9b-77b0-4fa0-b0d8-1c222744b1e2"
      },
      "source": [
        "eda = pd.merge(df_movies, df_train, how='inner', on='movieId')\n",
        "eda"
      ],
      "execution_count": 204,
      "outputs": [
        {
          "output_type": "execute_result",
          "data": {
            "text/html": [
              "<div>\n",
              "<style scoped>\n",
              "    .dataframe tbody tr th:only-of-type {\n",
              "        vertical-align: middle;\n",
              "    }\n",
              "\n",
              "    .dataframe tbody tr th {\n",
              "        vertical-align: top;\n",
              "    }\n",
              "\n",
              "    .dataframe thead th {\n",
              "        text-align: right;\n",
              "    }\n",
              "</style>\n",
              "<table border=\"1\" class=\"dataframe\">\n",
              "  <thead>\n",
              "    <tr style=\"text-align: right;\">\n",
              "      <th></th>\n",
              "      <th>movieId</th>\n",
              "      <th>title</th>\n",
              "      <th>genres</th>\n",
              "      <th>year</th>\n",
              "      <th>userId</th>\n",
              "      <th>rating</th>\n",
              "      <th>timestamp</th>\n",
              "    </tr>\n",
              "  </thead>\n",
              "  <tbody>\n",
              "    <tr>\n",
              "      <th>0</th>\n",
              "      <td>1</td>\n",
              "      <td>Toy Story</td>\n",
              "      <td>Adventure|Animation|Children|Comedy|Fantasy</td>\n",
              "      <td>1995</td>\n",
              "      <td>158849</td>\n",
              "      <td>5.0</td>\n",
              "      <td>994716786</td>\n",
              "    </tr>\n",
              "    <tr>\n",
              "      <th>1</th>\n",
              "      <td>1</td>\n",
              "      <td>Toy Story</td>\n",
              "      <td>Adventure|Animation|Children|Comedy|Fantasy</td>\n",
              "      <td>1995</td>\n",
              "      <td>97203</td>\n",
              "      <td>5.0</td>\n",
              "      <td>942683155</td>\n",
              "    </tr>\n",
              "    <tr>\n",
              "      <th>2</th>\n",
              "      <td>1</td>\n",
              "      <td>Toy Story</td>\n",
              "      <td>Adventure|Animation|Children|Comedy|Fantasy</td>\n",
              "      <td>1995</td>\n",
              "      <td>161871</td>\n",
              "      <td>3.0</td>\n",
              "      <td>833104576</td>\n",
              "    </tr>\n",
              "    <tr>\n",
              "      <th>3</th>\n",
              "      <td>1</td>\n",
              "      <td>Toy Story</td>\n",
              "      <td>Adventure|Animation|Children|Comedy|Fantasy</td>\n",
              "      <td>1995</td>\n",
              "      <td>45117</td>\n",
              "      <td>4.0</td>\n",
              "      <td>1442256969</td>\n",
              "    </tr>\n",
              "    <tr>\n",
              "      <th>4</th>\n",
              "      <td>1</td>\n",
              "      <td>Toy Story</td>\n",
              "      <td>Adventure|Animation|Children|Comedy|Fantasy</td>\n",
              "      <td>1995</td>\n",
              "      <td>27431</td>\n",
              "      <td>5.0</td>\n",
              "      <td>849667827</td>\n",
              "    </tr>\n",
              "    <tr>\n",
              "      <th>...</th>\n",
              "      <td>...</td>\n",
              "      <td>...</td>\n",
              "      <td>...</td>\n",
              "      <td>...</td>\n",
              "      <td>...</td>\n",
              "      <td>...</td>\n",
              "      <td>...</td>\n",
              "    </tr>\n",
              "    <tr>\n",
              "      <th>10000033</th>\n",
              "      <td>209145</td>\n",
              "      <td>Liberté</td>\n",
              "      <td>Drama</td>\n",
              "      <td>2019</td>\n",
              "      <td>145795</td>\n",
              "      <td>1.0</td>\n",
              "      <td>1574225362</td>\n",
              "    </tr>\n",
              "    <tr>\n",
              "      <th>10000034</th>\n",
              "      <td>209153</td>\n",
              "      <td>Happy Flight</td>\n",
              "      <td>Comedy|Drama</td>\n",
              "      <td>2008</td>\n",
              "      <td>147040</td>\n",
              "      <td>2.5</td>\n",
              "      <td>1574232704</td>\n",
              "    </tr>\n",
              "    <tr>\n",
              "      <th>10000035</th>\n",
              "      <td>209159</td>\n",
              "      <td>Window of the Soul</td>\n",
              "      <td>Documentary</td>\n",
              "      <td>2001</td>\n",
              "      <td>115835</td>\n",
              "      <td>3.0</td>\n",
              "      <td>1574280985</td>\n",
              "    </tr>\n",
              "    <tr>\n",
              "      <th>10000036</th>\n",
              "      <td>209169</td>\n",
              "      <td>A Girl Thing</td>\n",
              "      <td>(no genres listed)</td>\n",
              "      <td>2001</td>\n",
              "      <td>119571</td>\n",
              "      <td>3.0</td>\n",
              "      <td>1574291826</td>\n",
              "    </tr>\n",
              "    <tr>\n",
              "      <th>10000037</th>\n",
              "      <td>209171</td>\n",
              "      <td>Women of Devil's Island</td>\n",
              "      <td>Action|Adventure|Drama</td>\n",
              "      <td>1962</td>\n",
              "      <td>119571</td>\n",
              "      <td>3.0</td>\n",
              "      <td>1574291937</td>\n",
              "    </tr>\n",
              "  </tbody>\n",
              "</table>\n",
              "<p>10000038 rows × 7 columns</p>\n",
              "</div>"
            ],
            "text/plain": [
              "          movieId                     title  ... rating   timestamp\n",
              "0               1                Toy Story   ...    5.0   994716786\n",
              "1               1                Toy Story   ...    5.0   942683155\n",
              "2               1                Toy Story   ...    3.0   833104576\n",
              "3               1                Toy Story   ...    4.0  1442256969\n",
              "4               1                Toy Story   ...    5.0   849667827\n",
              "...           ...                       ...  ...    ...         ...\n",
              "10000033   209145                  Liberté   ...    1.0  1574225362\n",
              "10000034   209153             Happy Flight   ...    2.5  1574232704\n",
              "10000035   209159       Window of the Soul   ...    3.0  1574280985\n",
              "10000036   209169             A Girl Thing   ...    3.0  1574291826\n",
              "10000037   209171  Women of Devil's Island   ...    3.0  1574291937\n",
              "\n",
              "[10000038 rows x 7 columns]"
            ]
          },
          "metadata": {
            "tags": []
          },
          "execution_count": 204
        }
      ]
    },
    {
      "cell_type": "code",
      "metadata": {
        "colab": {
          "base_uri": "https://localhost:8080/"
        },
        "id": "7OSpuerfnRuk",
        "outputId": "c27dd7c9-8080-4b49-90f6-6083516f9792"
      },
      "source": [
        "eda.year.value_counts()"
      ],
      "execution_count": 205,
      "outputs": [
        {
          "output_type": "execute_result",
          "data": {
            "text/plain": [
              "1995    598412\n",
              "1994    521621\n",
              "1999    450391\n",
              "1996    444231\n",
              "2000    386359\n",
              "         ...  \n",
              "25           2\n",
              "1874         2\n",
              "101          1\n",
              "3            1\n",
              "5            1\n",
              "Name: year, Length: 143, dtype: int64"
            ]
          },
          "metadata": {
            "tags": []
          },
          "execution_count": 205
        }
      ]
    },
    {
      "cell_type": "code",
      "metadata": {
        "id": "LAMnp-14bZ5h"
      },
      "source": [
        "eda = pd.DataFrame(eda.groupby('year', as_index=False)['rating'].agg(['mean', 'count']))"
      ],
      "execution_count": 206,
      "outputs": []
    },
    {
      "cell_type": "code",
      "metadata": {
        "id": "u92VWuvSnDqM"
      },
      "source": [
        "eda.reset_index(inplace=True)"
      ],
      "execution_count": 207,
      "outputs": []
    },
    {
      "cell_type": "code",
      "metadata": {
        "id": "2NZX8iyWnvh4"
      },
      "source": [
        "eda_count = eda[eda['count'] >= 10000]"
      ],
      "execution_count": 208,
      "outputs": []
    },
    {
      "cell_type": "code",
      "metadata": {
        "colab": {
          "base_uri": "https://localhost:8080/",
          "height": 419
        },
        "id": "Z8wF-nUypfnM",
        "outputId": "9faf3b1e-8828-4d97-bccd-0a291542a817"
      },
      "source": [
        "eda_count"
      ],
      "execution_count": 209,
      "outputs": [
        {
          "output_type": "execute_result",
          "data": {
            "text/html": [
              "<div>\n",
              "<style scoped>\n",
              "    .dataframe tbody tr th:only-of-type {\n",
              "        vertical-align: middle;\n",
              "    }\n",
              "\n",
              "    .dataframe tbody tr th {\n",
              "        vertical-align: top;\n",
              "    }\n",
              "\n",
              "    .dataframe thead th {\n",
              "        text-align: right;\n",
              "    }\n",
              "</style>\n",
              "<table border=\"1\" class=\"dataframe\">\n",
              "  <thead>\n",
              "    <tr style=\"text-align: right;\">\n",
              "      <th></th>\n",
              "      <th>year</th>\n",
              "      <th>mean</th>\n",
              "      <th>count</th>\n",
              "    </tr>\n",
              "  </thead>\n",
              "  <tbody>\n",
              "    <tr>\n",
              "      <th>54</th>\n",
              "      <td>1937</td>\n",
              "      <td>3.647545</td>\n",
              "      <td>11122</td>\n",
              "    </tr>\n",
              "    <tr>\n",
              "      <th>56</th>\n",
              "      <td>1939</td>\n",
              "      <td>3.855305</td>\n",
              "      <td>23356</td>\n",
              "    </tr>\n",
              "    <tr>\n",
              "      <th>57</th>\n",
              "      <td>1940</td>\n",
              "      <td>3.791605</td>\n",
              "      <td>22906</td>\n",
              "    </tr>\n",
              "    <tr>\n",
              "      <th>58</th>\n",
              "      <td>1941</td>\n",
              "      <td>3.925212</td>\n",
              "      <td>20919</td>\n",
              "    </tr>\n",
              "    <tr>\n",
              "      <th>59</th>\n",
              "      <td>1942</td>\n",
              "      <td>3.956835</td>\n",
              "      <td>18916</td>\n",
              "    </tr>\n",
              "    <tr>\n",
              "      <th>...</th>\n",
              "      <td>...</td>\n",
              "      <td>...</td>\n",
              "      <td>...</td>\n",
              "    </tr>\n",
              "    <tr>\n",
              "      <th>133</th>\n",
              "      <td>2015</td>\n",
              "      <td>3.564361</td>\n",
              "      <td>117610</td>\n",
              "    </tr>\n",
              "    <tr>\n",
              "      <th>134</th>\n",
              "      <td>2016</td>\n",
              "      <td>3.531155</td>\n",
              "      <td>91991</td>\n",
              "    </tr>\n",
              "    <tr>\n",
              "      <th>135</th>\n",
              "      <td>2017</td>\n",
              "      <td>3.537717</td>\n",
              "      <td>68112</td>\n",
              "    </tr>\n",
              "    <tr>\n",
              "      <th>136</th>\n",
              "      <td>2018</td>\n",
              "      <td>3.459774</td>\n",
              "      <td>39278</td>\n",
              "    </tr>\n",
              "    <tr>\n",
              "      <th>137</th>\n",
              "      <td>2019</td>\n",
              "      <td>3.311928</td>\n",
              "      <td>11033</td>\n",
              "    </tr>\n",
              "  </tbody>\n",
              "</table>\n",
              "<p>77 rows × 3 columns</p>\n",
              "</div>"
            ],
            "text/plain": [
              "     year      mean   count\n",
              "54   1937  3.647545   11122\n",
              "56   1939  3.855305   23356\n",
              "57   1940  3.791605   22906\n",
              "58   1941  3.925212   20919\n",
              "59   1942  3.956835   18916\n",
              "..    ...       ...     ...\n",
              "133  2015  3.564361  117610\n",
              "134  2016  3.531155   91991\n",
              "135  2017  3.537717   68112\n",
              "136  2018  3.459774   39278\n",
              "137  2019  3.311928   11033\n",
              "\n",
              "[77 rows x 3 columns]"
            ]
          },
          "metadata": {
            "tags": []
          },
          "execution_count": 209
        }
      ]
    },
    {
      "cell_type": "code",
      "metadata": {
        "colab": {
          "base_uri": "https://localhost:8080/",
          "height": 512
        },
        "id": "lE54qG-DpnDc",
        "outputId": "af238dfb-85d6-49e3-9820-1d47f28b9234"
      },
      "source": [
        "plt.figure(figsize=(13, 8))\n",
        "sns.barplot(x='year', y='count', data=eda_count)\n",
        "plt.xticks(rotation=45)\n",
        "plt.show()"
      ],
      "execution_count": 210,
      "outputs": [
        {
          "output_type": "display_data",
          "data": {
            "image/png": "[encoded data removed]",
            "text/plain": [
              "<Figure size 936x576 with 1 Axes>"
            ]
          },
          "metadata": {
            "tags": [],
            "needs_background": "light"
          }
        }
      ]
    },
    {
      "cell_type": "markdown",
      "metadata": {
        "id": "aN1zYpz-osF4"
      },
      "source": [
        "Definite peak around the mid-90s:"
      ]
    },
    {
      "cell_type": "markdown",
      "metadata": {
        "id": "mx8I7jaJxW4j"
      },
      "source": [
        "Is there any change in the average ratings per year of movie releases over time:"
      ]
    },
    {
      "cell_type": "code",
      "metadata": {
        "colab": {
          "base_uri": "https://localhost:8080/"
        },
        "id": "PD26adz5xclO",
        "outputId": "909dfa66-ec73-4002-ff55-61748964415f"
      },
      "source": [
        "eda['mean'].describe()"
      ],
      "execution_count": 211,
      "outputs": [
        {
          "output_type": "execute_result",
          "data": {
            "text/plain": [
              "count    143.000000\n",
              "mean       3.465576\n",
              "std        0.494389\n",
              "min        1.541667\n",
              "25%        3.327012\n",
              "50%        3.564361\n",
              "75%        3.786979\n",
              "max        5.000000\n",
              "Name: mean, dtype: float64"
            ]
          },
          "metadata": {
            "tags": []
          },
          "execution_count": 211
        }
      ]
    },
    {
      "cell_type": "code",
      "metadata": {
        "colab": {
          "base_uri": "https://localhost:8080/"
        },
        "id": "5LP6DIMMxpVZ",
        "outputId": "6c6f30de-0857-4f70-d528-d8aba6866966"
      },
      "source": [
        "eda_count['mean'].describe()"
      ],
      "execution_count": 212,
      "outputs": [
        {
          "output_type": "execute_result",
          "data": {
            "text/plain": [
              "count    77.000000\n",
              "mean      3.657157\n",
              "std       0.178538\n",
              "min       3.311928\n",
              "25%       3.508451\n",
              "50%       3.647545\n",
              "75%       3.817681\n",
              "max       3.999444\n",
              "Name: mean, dtype: float64"
            ]
          },
          "metadata": {
            "tags": []
          },
          "execution_count": 212
        }
      ]
    },
    {
      "cell_type": "code",
      "metadata": {
        "colab": {
          "base_uri": "https://localhost:8080/",
          "height": 512
        },
        "id": "M33Y5NDyxy8U",
        "outputId": "ac0c6210-0787-47b4-b549-7edb476d62f9"
      },
      "source": [
        "plt.figure(figsize=(13, 8))\n",
        "sns.barplot(x='year', y='mean', data=eda_count)\n",
        "plt.xticks(rotation=45)\n",
        "plt.show()"
      ],
      "execution_count": 213,
      "outputs": [
        {
          "output_type": "display_data",
          "data": {
            "image/png": "[encoded data removed]",
            "text/plain": [
              "<Figure size 936x576 with 1 Axes>"
            ]
          },
          "metadata": {
            "tags": [],
            "needs_background": "light"
          }
        }
      ]
    },
    {
      "cell_type": "code",
      "metadata": {
        "id": "vVHIjUBUrZUP"
      },
      "source": [
        "eda_top.drop(['title_cast', 'plot_keywords', 'currency', 'cast_size', 'exchange_rate', 'budget'], axis=1,  inplace=True) # NB don't run again!"
      ],
      "execution_count": 214,
      "outputs": []
    },
    {
      "cell_type": "code",
      "metadata": {
        "colab": {
          "base_uri": "https://localhost:8080/",
          "height": 419
        },
        "id": "aq1QSXQ3r8OF",
        "outputId": "c4bc4aa6-8e33-48c8-c319-3b95bc1efebd"
      },
      "source": [
        "eda_top"
      ],
      "execution_count": 215,
      "outputs": [
        {
          "output_type": "execute_result",
          "data": {
            "text/html": [
              "<div>\n",
              "<style scoped>\n",
              "    .dataframe tbody tr th:only-of-type {\n",
              "        vertical-align: middle;\n",
              "    }\n",
              "\n",
              "    .dataframe tbody tr th {\n",
              "        vertical-align: top;\n",
              "    }\n",
              "\n",
              "    .dataframe thead th {\n",
              "        text-align: right;\n",
              "    }\n",
              "</style>\n",
              "<table border=\"1\" class=\"dataframe\">\n",
              "  <thead>\n",
              "    <tr style=\"text-align: right;\">\n",
              "      <th></th>\n",
              "      <th>movieId</th>\n",
              "      <th>title</th>\n",
              "      <th>count</th>\n",
              "      <th>mean</th>\n",
              "      <th>director</th>\n",
              "      <th>runtime</th>\n",
              "      <th>cast</th>\n",
              "      <th>budget_USD</th>\n",
              "      <th>year</th>\n",
              "    </tr>\n",
              "  </thead>\n",
              "  <tbody>\n",
              "    <tr>\n",
              "      <th>0</th>\n",
              "      <td>318</td>\n",
              "      <td>Shawshank Redemption, The</td>\n",
              "      <td>32831</td>\n",
              "      <td>4.417624</td>\n",
              "      <td>Stephen King</td>\n",
              "      <td>142.0</td>\n",
              "      <td>[Tim Robbins, Morgan Freeman, Bob Gunton, Will...</td>\n",
              "      <td>25000000.0</td>\n",
              "      <td>1994</td>\n",
              "    </tr>\n",
              "    <tr>\n",
              "      <th>1</th>\n",
              "      <td>356</td>\n",
              "      <td>Forrest Gump</td>\n",
              "      <td>32383</td>\n",
              "      <td>4.047216</td>\n",
              "      <td>Winston Groom</td>\n",
              "      <td>142.0</td>\n",
              "      <td>[Tom Hanks, Rebecca Williams, Sally Field, Mic...</td>\n",
              "      <td>55000000.0</td>\n",
              "      <td>1994</td>\n",
              "    </tr>\n",
              "    <tr>\n",
              "      <th>2</th>\n",
              "      <td>296</td>\n",
              "      <td>Pulp Fiction</td>\n",
              "      <td>31697</td>\n",
              "      <td>4.195097</td>\n",
              "      <td>Quentin Tarantino</td>\n",
              "      <td>154.0</td>\n",
              "      <td>[Tim Roth, Amanda Plummer, Laura Lovelace, Joh...</td>\n",
              "      <td>8000000.0</td>\n",
              "      <td>1994</td>\n",
              "    </tr>\n",
              "    <tr>\n",
              "      <th>3</th>\n",
              "      <td>593</td>\n",
              "      <td>Silence of the Lambs, The</td>\n",
              "      <td>29444</td>\n",
              "      <td>4.144172</td>\n",
              "      <td>Thomas Harris</td>\n",
              "      <td>118.0</td>\n",
              "      <td>[Jodie Foster, Lawrence A. Bonney, Kasi Lemmon...</td>\n",
              "      <td>19000000.0</td>\n",
              "      <td>1991</td>\n",
              "    </tr>\n",
              "    <tr>\n",
              "      <th>4</th>\n",
              "      <td>2571</td>\n",
              "      <td>Matrix, The</td>\n",
              "      <td>29014</td>\n",
              "      <td>4.154253</td>\n",
              "      <td>Lilly Wachowski</td>\n",
              "      <td>136.0</td>\n",
              "      <td>[Keanu Reeves, Laurence Fishburne, Carrie-Anne...</td>\n",
              "      <td>63000000.0</td>\n",
              "      <td>1999</td>\n",
              "    </tr>\n",
              "    <tr>\n",
              "      <th>...</th>\n",
              "      <td>...</td>\n",
              "      <td>...</td>\n",
              "      <td>...</td>\n",
              "      <td>...</td>\n",
              "      <td>...</td>\n",
              "      <td>...</td>\n",
              "      <td>...</td>\n",
              "      <td>...</td>\n",
              "      <td>...</td>\n",
              "    </tr>\n",
              "    <tr>\n",
              "      <th>489</th>\n",
              "      <td>59369</td>\n",
              "      <td>Taken</td>\n",
              "      <td>4512</td>\n",
              "      <td>3.734375</td>\n",
              "      <td>Luc Besson</td>\n",
              "      <td>90.0</td>\n",
              "      <td>[Liam Neeson, Maggie Grace, Leland Orser, Jon ...</td>\n",
              "      <td>25000000.0</td>\n",
              "      <td>2008</td>\n",
              "    </tr>\n",
              "    <tr>\n",
              "      <th>490</th>\n",
              "      <td>2100</td>\n",
              "      <td>Splash</td>\n",
              "      <td>4493</td>\n",
              "      <td>3.225907</td>\n",
              "      <td>NaN</td>\n",
              "      <td>NaN</td>\n",
              "      <td>NaN</td>\n",
              "      <td>0.0</td>\n",
              "      <td>1984</td>\n",
              "    </tr>\n",
              "    <tr>\n",
              "      <th>491</th>\n",
              "      <td>1262</td>\n",
              "      <td>Great Escape, The</td>\n",
              "      <td>4487</td>\n",
              "      <td>4.103298</td>\n",
              "      <td>NaN</td>\n",
              "      <td>NaN</td>\n",
              "      <td>NaN</td>\n",
              "      <td>0.0</td>\n",
              "      <td>1963</td>\n",
              "    </tr>\n",
              "    <tr>\n",
              "      <th>492</th>\n",
              "      <td>6537</td>\n",
              "      <td>Terminator 3: Rise of the Machines</td>\n",
              "      <td>4484</td>\n",
              "      <td>3.054639</td>\n",
              "      <td>John Brancato</td>\n",
              "      <td>109.0</td>\n",
              "      <td>[Arnold Schwarzenegger, Nick Stahl, Claire Dan...</td>\n",
              "      <td>200000000.0</td>\n",
              "      <td>2003</td>\n",
              "    </tr>\n",
              "    <tr>\n",
              "      <th>493</th>\n",
              "      <td>59784</td>\n",
              "      <td>Kung Fu Panda</td>\n",
              "      <td>4467</td>\n",
              "      <td>3.606000</td>\n",
              "      <td>John Stevenson</td>\n",
              "      <td>92.0</td>\n",
              "      <td>[Jack Black, Dustin Hoffman, Angelina Jolie, I...</td>\n",
              "      <td>130000000.0</td>\n",
              "      <td>2008</td>\n",
              "    </tr>\n",
              "  </tbody>\n",
              "</table>\n",
              "<p>494 rows × 9 columns</p>\n",
              "</div>"
            ],
            "text/plain": [
              "     movieId                                title  ...   budget_USD  year\n",
              "0        318           Shawshank Redemption, The   ...   25000000.0  1994\n",
              "1        356                        Forrest Gump   ...   55000000.0  1994\n",
              "2        296                        Pulp Fiction   ...    8000000.0  1994\n",
              "3        593           Silence of the Lambs, The   ...   19000000.0  1991\n",
              "4       2571                         Matrix, The   ...   63000000.0  1999\n",
              "..       ...                                  ...  ...          ...   ...\n",
              "489    59369                               Taken   ...   25000000.0  2008\n",
              "490     2100                              Splash   ...          0.0  1984\n",
              "491     1262                   Great Escape, The   ...          0.0  1963\n",
              "492     6537  Terminator 3: Rise of the Machines   ...  200000000.0  2003\n",
              "493    59784                       Kung Fu Panda   ...  130000000.0  2008\n",
              "\n",
              "[494 rows x 9 columns]"
            ]
          },
          "metadata": {
            "tags": []
          },
          "execution_count": 215
        }
      ]
    },
    {
      "cell_type": "code",
      "metadata": {
        "id": "JWFA0XCOsLJX"
      },
      "source": [
        "eda_top = eda_top.sort_values('year')"
      ],
      "execution_count": 216,
      "outputs": []
    },
    {
      "cell_type": "code",
      "metadata": {
        "colab": {
          "base_uri": "https://localhost:8080/",
          "height": 512
        },
        "id": "ghv2EQ2HsUAJ",
        "outputId": "48f00d5a-ce11-4f6d-bdbc-349bf4f5d9dc"
      },
      "source": [
        "plt.figure(figsize=(13, 8))\n",
        "sns.barplot(x='year', y='count', data=eda_top, estimator=np.mean)\n",
        "plt.xticks(rotation=45)\n",
        "plt.show()\n"
      ],
      "execution_count": 217,
      "outputs": [
        {
          "output_type": "display_data",
          "data": {
            "image/png": "[encoded data removed]",
            "text/plain": [
              "<Figure size 936x576 with 1 Axes>"
            ]
          },
          "metadata": {
            "tags": [],
            "needs_background": "light"
          }
        }
      ]
    },
    {
      "cell_type": "code",
      "metadata": {
        "colab": {
          "base_uri": "https://localhost:8080/",
          "height": 80
        },
        "id": "2QUc7xmp2kbC",
        "outputId": "c5bdd839-2c5a-4273-b428-5d7440aaf02c"
      },
      "source": [
        "eda_top[eda_top['year'] == '1972']"
      ],
      "execution_count": 218,
      "outputs": [
        {
          "output_type": "execute_result",
          "data": {
            "text/html": [
              "<div>\n",
              "<style scoped>\n",
              "    .dataframe tbody tr th:only-of-type {\n",
              "        vertical-align: middle;\n",
              "    }\n",
              "\n",
              "    .dataframe tbody tr th {\n",
              "        vertical-align: top;\n",
              "    }\n",
              "\n",
              "    .dataframe thead th {\n",
              "        text-align: right;\n",
              "    }\n",
              "</style>\n",
              "<table border=\"1\" class=\"dataframe\">\n",
              "  <thead>\n",
              "    <tr style=\"text-align: right;\">\n",
              "      <th></th>\n",
              "      <th>movieId</th>\n",
              "      <th>title</th>\n",
              "      <th>count</th>\n",
              "      <th>mean</th>\n",
              "      <th>director</th>\n",
              "      <th>runtime</th>\n",
              "      <th>cast</th>\n",
              "      <th>budget_USD</th>\n",
              "      <th>year</th>\n",
              "    </tr>\n",
              "  </thead>\n",
              "  <tbody>\n",
              "    <tr>\n",
              "      <th>18</th>\n",
              "      <td>858</td>\n",
              "      <td>Godfather, The</td>\n",
              "      <td>20960</td>\n",
              "      <td>4.311355</td>\n",
              "      <td>NaN</td>\n",
              "      <td>NaN</td>\n",
              "      <td>NaN</td>\n",
              "      <td>0.0</td>\n",
              "      <td>1972</td>\n",
              "    </tr>\n",
              "  </tbody>\n",
              "</table>\n",
              "</div>"
            ],
            "text/plain": [
              "    movieId            title  count      mean  ... runtime  cast budget_USD  year\n",
              "18      858  Godfather, The   20960  4.311355  ...     NaN   NaN        0.0  1972\n",
              "\n",
              "[1 rows x 9 columns]"
            ]
          },
          "metadata": {
            "tags": []
          },
          "execution_count": 218
        }
      ]
    },
    {
      "cell_type": "code",
      "metadata": {
        "colab": {
          "base_uri": "https://localhost:8080/",
          "height": 173
        },
        "id": "Wsi-BSe23Du1",
        "outputId": "e2768ba1-a6e9-4d06-981d-a02183543ca1"
      },
      "source": [
        "eda_top[eda_top['year'] == '1991']"
      ],
      "execution_count": 219,
      "outputs": [
        {
          "output_type": "execute_result",
          "data": {
            "text/html": [
              "<div>\n",
              "<style scoped>\n",
              "    .dataframe tbody tr th:only-of-type {\n",
              "        vertical-align: middle;\n",
              "    }\n",
              "\n",
              "    .dataframe tbody tr th {\n",
              "        vertical-align: top;\n",
              "    }\n",
              "\n",
              "    .dataframe thead th {\n",
              "        text-align: right;\n",
              "    }\n",
              "</style>\n",
              "<table border=\"1\" class=\"dataframe\">\n",
              "  <thead>\n",
              "    <tr style=\"text-align: right;\">\n",
              "      <th></th>\n",
              "      <th>movieId</th>\n",
              "      <th>title</th>\n",
              "      <th>count</th>\n",
              "      <th>mean</th>\n",
              "      <th>director</th>\n",
              "      <th>runtime</th>\n",
              "      <th>cast</th>\n",
              "      <th>budget_USD</th>\n",
              "      <th>year</th>\n",
              "    </tr>\n",
              "  </thead>\n",
              "  <tbody>\n",
              "    <tr>\n",
              "      <th>10</th>\n",
              "      <td>589</td>\n",
              "      <td>Terminator 2: Judgment Day</td>\n",
              "      <td>23075</td>\n",
              "      <td>3.951419</td>\n",
              "      <td>James Cameron</td>\n",
              "      <td>137.0</td>\n",
              "      <td>[Arnold Schwarzenegger, Linda Hamilton, Edward...</td>\n",
              "      <td>102000000.0</td>\n",
              "      <td>1991</td>\n",
              "    </tr>\n",
              "    <tr>\n",
              "      <th>460</th>\n",
              "      <td>3418</td>\n",
              "      <td>Thelma &amp; Louise</td>\n",
              "      <td>4698</td>\n",
              "      <td>3.589613</td>\n",
              "      <td>Callie Khouri</td>\n",
              "      <td>130.0</td>\n",
              "      <td>[Susan Sarandon, Geena Davis, Harvey Keitel, M...</td>\n",
              "      <td>16500000.0</td>\n",
              "      <td>1991</td>\n",
              "    </tr>\n",
              "    <tr>\n",
              "      <th>56</th>\n",
              "      <td>595</td>\n",
              "      <td>Beauty and the Beast</td>\n",
              "      <td>14237</td>\n",
              "      <td>3.674756</td>\n",
              "      <td>Kirk Wise</td>\n",
              "      <td>84.0</td>\n",
              "      <td>[Robby Benson, Jesse Corti, Rex Everhart, Ange...</td>\n",
              "      <td>25000000.0</td>\n",
              "      <td>1991</td>\n",
              "    </tr>\n",
              "    <tr>\n",
              "      <th>3</th>\n",
              "      <td>593</td>\n",
              "      <td>Silence of the Lambs, The</td>\n",
              "      <td>29444</td>\n",
              "      <td>4.144172</td>\n",
              "      <td>Thomas Harris</td>\n",
              "      <td>118.0</td>\n",
              "      <td>[Jodie Foster, Lawrence A. Bonney, Kasi Lemmon...</td>\n",
              "      <td>19000000.0</td>\n",
              "      <td>1991</td>\n",
              "    </tr>\n",
              "  </tbody>\n",
              "</table>\n",
              "</div>"
            ],
            "text/plain": [
              "     movieId                        title  ...   budget_USD  year\n",
              "10       589  Terminator 2: Judgment Day   ...  102000000.0  1991\n",
              "460     3418             Thelma & Louise   ...   16500000.0  1991\n",
              "56       595        Beauty and the Beast   ...   25000000.0  1991\n",
              "3        593   Silence of the Lambs, The   ...   19000000.0  1991\n",
              "\n",
              "[4 rows x 9 columns]"
            ]
          },
          "metadata": {
            "tags": []
          },
          "execution_count": 219
        }
      ]
    },
    {
      "cell_type": "markdown",
      "metadata": {
        "id": "bKqaaDDsNb4E"
      },
      "source": [
        "RATINGS AND NUMBER OF RATINGS PER GENRES:"
      ]
    },
    {
      "cell_type": "code",
      "metadata": {
        "colab": {
          "base_uri": "https://localhost:8080/",
          "height": 419
        },
        "id": "_v8GZIMoNn2R",
        "outputId": "9e574088-68bf-44ca-d8de-58206ea9b118"
      },
      "source": [
        "eda = pd.merge(movies, df_train, on='movieId', how='inner')\n",
        "eda"
      ],
      "execution_count": 220,
      "outputs": [
        {
          "output_type": "execute_result",
          "data": {
            "text/html": [
              "<div>\n",
              "<style scoped>\n",
              "    .dataframe tbody tr th:only-of-type {\n",
              "        vertical-align: middle;\n",
              "    }\n",
              "\n",
              "    .dataframe tbody tr th {\n",
              "        vertical-align: top;\n",
              "    }\n",
              "\n",
              "    .dataframe thead th {\n",
              "        text-align: right;\n",
              "    }\n",
              "</style>\n",
              "<table border=\"1\" class=\"dataframe\">\n",
              "  <thead>\n",
              "    <tr style=\"text-align: right;\">\n",
              "      <th></th>\n",
              "      <th>movieId</th>\n",
              "      <th>genres</th>\n",
              "      <th>title</th>\n",
              "      <th>year</th>\n",
              "      <th>userId</th>\n",
              "      <th>rating</th>\n",
              "      <th>timestamp</th>\n",
              "    </tr>\n",
              "  </thead>\n",
              "  <tbody>\n",
              "    <tr>\n",
              "      <th>0</th>\n",
              "      <td>1</td>\n",
              "      <td>Adventure</td>\n",
              "      <td>Toy Story</td>\n",
              "      <td>1995</td>\n",
              "      <td>158849</td>\n",
              "      <td>5.0</td>\n",
              "      <td>994716786</td>\n",
              "    </tr>\n",
              "    <tr>\n",
              "      <th>1</th>\n",
              "      <td>1</td>\n",
              "      <td>Adventure</td>\n",
              "      <td>Toy Story</td>\n",
              "      <td>1995</td>\n",
              "      <td>97203</td>\n",
              "      <td>5.0</td>\n",
              "      <td>942683155</td>\n",
              "    </tr>\n",
              "    <tr>\n",
              "      <th>2</th>\n",
              "      <td>1</td>\n",
              "      <td>Adventure</td>\n",
              "      <td>Toy Story</td>\n",
              "      <td>1995</td>\n",
              "      <td>161871</td>\n",
              "      <td>3.0</td>\n",
              "      <td>833104576</td>\n",
              "    </tr>\n",
              "    <tr>\n",
              "      <th>3</th>\n",
              "      <td>1</td>\n",
              "      <td>Adventure</td>\n",
              "      <td>Toy Story</td>\n",
              "      <td>1995</td>\n",
              "      <td>45117</td>\n",
              "      <td>4.0</td>\n",
              "      <td>1442256969</td>\n",
              "    </tr>\n",
              "    <tr>\n",
              "      <th>4</th>\n",
              "      <td>1</td>\n",
              "      <td>Adventure</td>\n",
              "      <td>Toy Story</td>\n",
              "      <td>1995</td>\n",
              "      <td>27431</td>\n",
              "      <td>5.0</td>\n",
              "      <td>849667827</td>\n",
              "    </tr>\n",
              "    <tr>\n",
              "      <th>...</th>\n",
              "      <td>...</td>\n",
              "      <td>...</td>\n",
              "      <td>...</td>\n",
              "      <td>...</td>\n",
              "      <td>...</td>\n",
              "      <td>...</td>\n",
              "      <td>...</td>\n",
              "    </tr>\n",
              "    <tr>\n",
              "      <th>27120039</th>\n",
              "      <td>209159</td>\n",
              "      <td>Documentary</td>\n",
              "      <td>Window of the Soul</td>\n",
              "      <td>2001</td>\n",
              "      <td>115835</td>\n",
              "      <td>3.0</td>\n",
              "      <td>1574280985</td>\n",
              "    </tr>\n",
              "    <tr>\n",
              "      <th>27120040</th>\n",
              "      <td>209169</td>\n",
              "      <td>(no genres listed)</td>\n",
              "      <td>A Girl Thing</td>\n",
              "      <td>2001</td>\n",
              "      <td>119571</td>\n",
              "      <td>3.0</td>\n",
              "      <td>1574291826</td>\n",
              "    </tr>\n",
              "    <tr>\n",
              "      <th>27120041</th>\n",
              "      <td>209171</td>\n",
              "      <td>Action</td>\n",
              "      <td>Women of Devil's Island</td>\n",
              "      <td>1962</td>\n",
              "      <td>119571</td>\n",
              "      <td>3.0</td>\n",
              "      <td>1574291937</td>\n",
              "    </tr>\n",
              "    <tr>\n",
              "      <th>27120042</th>\n",
              "      <td>209171</td>\n",
              "      <td>Adventure</td>\n",
              "      <td>Women of Devil's Island</td>\n",
              "      <td>1962</td>\n",
              "      <td>119571</td>\n",
              "      <td>3.0</td>\n",
              "      <td>1574291937</td>\n",
              "    </tr>\n",
              "    <tr>\n",
              "      <th>27120043</th>\n",
              "      <td>209171</td>\n",
              "      <td>Drama</td>\n",
              "      <td>Women of Devil's Island</td>\n",
              "      <td>1962</td>\n",
              "      <td>119571</td>\n",
              "      <td>3.0</td>\n",
              "      <td>1574291937</td>\n",
              "    </tr>\n",
              "  </tbody>\n",
              "</table>\n",
              "<p>27120044 rows × 7 columns</p>\n",
              "</div>"
            ],
            "text/plain": [
              "          movieId              genres  ... rating   timestamp\n",
              "0               1           Adventure  ...    5.0   994716786\n",
              "1               1           Adventure  ...    5.0   942683155\n",
              "2               1           Adventure  ...    3.0   833104576\n",
              "3               1           Adventure  ...    4.0  1442256969\n",
              "4               1           Adventure  ...    5.0   849667827\n",
              "...           ...                 ...  ...    ...         ...\n",
              "27120039   209159         Documentary  ...    3.0  1574280985\n",
              "27120040   209169  (no genres listed)  ...    3.0  1574291826\n",
              "27120041   209171              Action  ...    3.0  1574291937\n",
              "27120042   209171           Adventure  ...    3.0  1574291937\n",
              "27120043   209171               Drama  ...    3.0  1574291937\n",
              "\n",
              "[27120044 rows x 7 columns]"
            ]
          },
          "metadata": {
            "tags": []
          },
          "execution_count": 220
        }
      ]
    },
    {
      "cell_type": "code",
      "metadata": {
        "id": "BezrhrksOtUN"
      },
      "source": [
        "eda = pd.DataFrame(eda.groupby('genres', as_index=False)['rating'].agg(['count', 'mean']))"
      ],
      "execution_count": 221,
      "outputs": []
    },
    {
      "cell_type": "code",
      "metadata": {
        "id": "M8N1w7WBRPof"
      },
      "source": [
        "eda.reset_index(inplace=True)"
      ],
      "execution_count": 222,
      "outputs": []
    },
    {
      "cell_type": "code",
      "metadata": {
        "colab": {
          "base_uri": "https://localhost:8080/",
          "height": 279
        },
        "id": "Ab1kDIQFOSF4",
        "outputId": "ffaab9d4-edf5-4050-8e64-33abe9355306"
      },
      "source": [
        "sns.barplot(x='count', y='genres', data=eda)\n",
        "\n",
        "plt.show()"
      ],
      "execution_count": 223,
      "outputs": [
        {
          "output_type": "display_data",
          "data": {
            "image/png": "[encoded data removed]",
            "text/plain": [
              "<Figure size 432x288 with 1 Axes>"
            ]
          },
          "metadata": {
            "tags": [],
            "needs_background": "light"
          }
        }
      ]
    },
    {
      "cell_type": "code",
      "metadata": {
        "colab": {
          "base_uri": "https://localhost:8080/",
          "height": 279
        },
        "id": "h-Ly43xeR1sW",
        "outputId": "1de2ccea-e8f7-43cc-d5c1-4525c94167f9"
      },
      "source": [
        "sns.barplot(x='mean', y='genres', data=eda)\n",
        "plt.show()"
      ],
      "execution_count": 224,
      "outputs": [
        {
          "output_type": "display_data",
          "data": {
            "image/png": "[encoded data removed]",
            "text/plain": [
              "<Figure size 432x288 with 1 Axes>"
            ]
          },
          "metadata": {
            "tags": [],
            "needs_background": "light"
          }
        }
      ]
    },
    {
      "cell_type": "markdown",
      "metadata": {
        "id": "cnIEMLD63kry"
      },
      "source": [
        "ASSESSING HOW MOST POPULAR GENRES HAVE EVOLVED OVER TIME:"
      ]
    },
    {
      "cell_type": "code",
      "metadata": {
        "id": "NZpE0vIQ7Nvx"
      },
      "source": [
        "popular_genres = ['Comedy', 'Drama', 'Thriller', 'Romance', 'Action', 'Crime', 'Sci-fi', 'Western', 'Animation']\n",
        "genres = []\n",
        "\n",
        "for genre in movies.genres:\n",
        "  if genre in popular_genres:\n",
        "    genres.append(genre)\n",
        "\n",
        "  else:\n",
        "    genres.append(np.nan)\n",
        "\n",
        "movies['genres'] = genres"
      ],
      "execution_count": 225,
      "outputs": []
    },
    {
      "cell_type": "code",
      "metadata": {
        "id": "RmYOYSNB-qaL"
      },
      "source": [
        "movies = movies.dropna()"
      ],
      "execution_count": 226,
      "outputs": []
    },
    {
      "cell_type": "code",
      "metadata": {
        "colab": {
          "base_uri": "https://localhost:8080/",
          "height": 419
        },
        "id": "Myr0TRkY-whH",
        "outputId": "4c4572ec-94f5-4919-a86f-e945272346c8"
      },
      "source": [
        "movies"
      ],
      "execution_count": 227,
      "outputs": [
        {
          "output_type": "execute_result",
          "data": {
            "text/html": [
              "<div>\n",
              "<style scoped>\n",
              "    .dataframe tbody tr th:only-of-type {\n",
              "        vertical-align: middle;\n",
              "    }\n",
              "\n",
              "    .dataframe tbody tr th {\n",
              "        vertical-align: top;\n",
              "    }\n",
              "\n",
              "    .dataframe thead th {\n",
              "        text-align: right;\n",
              "    }\n",
              "</style>\n",
              "<table border=\"1\" class=\"dataframe\">\n",
              "  <thead>\n",
              "    <tr style=\"text-align: right;\">\n",
              "      <th></th>\n",
              "      <th>movieId</th>\n",
              "      <th>genres</th>\n",
              "      <th>title</th>\n",
              "      <th>year</th>\n",
              "    </tr>\n",
              "  </thead>\n",
              "  <tbody>\n",
              "    <tr>\n",
              "      <th>1</th>\n",
              "      <td>1</td>\n",
              "      <td>Animation</td>\n",
              "      <td>Toy Story</td>\n",
              "      <td>1995</td>\n",
              "    </tr>\n",
              "    <tr>\n",
              "      <th>3</th>\n",
              "      <td>1</td>\n",
              "      <td>Comedy</td>\n",
              "      <td>Toy Story</td>\n",
              "      <td>1995</td>\n",
              "    </tr>\n",
              "    <tr>\n",
              "      <th>8</th>\n",
              "      <td>3</td>\n",
              "      <td>Comedy</td>\n",
              "      <td>Grumpier Old Men</td>\n",
              "      <td>1995</td>\n",
              "    </tr>\n",
              "    <tr>\n",
              "      <th>9</th>\n",
              "      <td>3</td>\n",
              "      <td>Romance</td>\n",
              "      <td>Grumpier Old Men</td>\n",
              "      <td>1995</td>\n",
              "    </tr>\n",
              "    <tr>\n",
              "      <th>10</th>\n",
              "      <td>4</td>\n",
              "      <td>Comedy</td>\n",
              "      <td>Waiting to Exhale</td>\n",
              "      <td>1995</td>\n",
              "    </tr>\n",
              "    <tr>\n",
              "      <th>...</th>\n",
              "      <td>...</td>\n",
              "      <td>...</td>\n",
              "      <td>...</td>\n",
              "      <td>...</td>\n",
              "    </tr>\n",
              "    <tr>\n",
              "      <th>112299</th>\n",
              "      <td>209157</td>\n",
              "      <td>Drama</td>\n",
              "      <td>We</td>\n",
              "      <td>2018</td>\n",
              "    </tr>\n",
              "    <tr>\n",
              "      <th>112301</th>\n",
              "      <td>209163</td>\n",
              "      <td>Comedy</td>\n",
              "      <td>Bad Poems</td>\n",
              "      <td>2018</td>\n",
              "    </tr>\n",
              "    <tr>\n",
              "      <th>112302</th>\n",
              "      <td>209163</td>\n",
              "      <td>Drama</td>\n",
              "      <td>Bad Poems</td>\n",
              "      <td>2018</td>\n",
              "    </tr>\n",
              "    <tr>\n",
              "      <th>112304</th>\n",
              "      <td>209171</td>\n",
              "      <td>Action</td>\n",
              "      <td>Women of Devil's Island</td>\n",
              "      <td>1962</td>\n",
              "    </tr>\n",
              "    <tr>\n",
              "      <th>112306</th>\n",
              "      <td>209171</td>\n",
              "      <td>Drama</td>\n",
              "      <td>Women of Devil's Island</td>\n",
              "      <td>1962</td>\n",
              "    </tr>\n",
              "  </tbody>\n",
              "</table>\n",
              "<p>75721 rows × 4 columns</p>\n",
              "</div>"
            ],
            "text/plain": [
              "        movieId     genres                     title  year\n",
              "1             1  Animation                Toy Story   1995\n",
              "3             1     Comedy                Toy Story   1995\n",
              "8             3     Comedy         Grumpier Old Men   1995\n",
              "9             3    Romance         Grumpier Old Men   1995\n",
              "10            4     Comedy        Waiting to Exhale   1995\n",
              "...         ...        ...                       ...   ...\n",
              "112299   209157      Drama                       We   2018\n",
              "112301   209163     Comedy                Bad Poems   2018\n",
              "112302   209163      Drama                Bad Poems   2018\n",
              "112304   209171     Action  Women of Devil's Island   1962\n",
              "112306   209171      Drama  Women of Devil's Island   1962\n",
              "\n",
              "[75721 rows x 4 columns]"
            ]
          },
          "metadata": {
            "tags": []
          },
          "execution_count": 227
        }
      ]
    },
    {
      "cell_type": "code",
      "metadata": {
        "colab": {
          "base_uri": "https://localhost:8080/",
          "height": 419
        },
        "id": "8b3_uYhqG64r",
        "outputId": "46e38779-4ae7-4162-eec0-79d73ca8db38"
      },
      "source": [
        "movies.groupby(['genres', 'year'], as_index=False)['movieId'].count()"
      ],
      "execution_count": 228,
      "outputs": [
        {
          "output_type": "execute_result",
          "data": {
            "text/html": [
              "<div>\n",
              "<style scoped>\n",
              "    .dataframe tbody tr th:only-of-type {\n",
              "        vertical-align: middle;\n",
              "    }\n",
              "\n",
              "    .dataframe tbody tr th {\n",
              "        vertical-align: top;\n",
              "    }\n",
              "\n",
              "    .dataframe thead th {\n",
              "        text-align: right;\n",
              "    }\n",
              "</style>\n",
              "<table border=\"1\" class=\"dataframe\">\n",
              "  <thead>\n",
              "    <tr style=\"text-align: right;\">\n",
              "      <th></th>\n",
              "      <th>genres</th>\n",
              "      <th>year</th>\n",
              "      <th>movieId</th>\n",
              "    </tr>\n",
              "  </thead>\n",
              "  <tbody>\n",
              "    <tr>\n",
              "      <th>0</th>\n",
              "      <td>Action</td>\n",
              "      <td>1891</td>\n",
              "      <td>1</td>\n",
              "    </tr>\n",
              "    <tr>\n",
              "      <th>1</th>\n",
              "      <td>Action</td>\n",
              "      <td>1897</td>\n",
              "      <td>1</td>\n",
              "    </tr>\n",
              "    <tr>\n",
              "      <th>2</th>\n",
              "      <td>Action</td>\n",
              "      <td>1900</td>\n",
              "      <td>1</td>\n",
              "    </tr>\n",
              "    <tr>\n",
              "      <th>3</th>\n",
              "      <td>Action</td>\n",
              "      <td>1901</td>\n",
              "      <td>1</td>\n",
              "    </tr>\n",
              "    <tr>\n",
              "      <th>4</th>\n",
              "      <td>Action</td>\n",
              "      <td>1902</td>\n",
              "      <td>1</td>\n",
              "    </tr>\n",
              "    <tr>\n",
              "      <th>...</th>\n",
              "      <td>...</td>\n",
              "      <td>...</td>\n",
              "      <td>...</td>\n",
              "    </tr>\n",
              "    <tr>\n",
              "      <th>899</th>\n",
              "      <td>Western</td>\n",
              "      <td>2015</td>\n",
              "      <td>14</td>\n",
              "    </tr>\n",
              "    <tr>\n",
              "      <th>900</th>\n",
              "      <td>Western</td>\n",
              "      <td>2016</td>\n",
              "      <td>15</td>\n",
              "    </tr>\n",
              "    <tr>\n",
              "      <th>901</th>\n",
              "      <td>Western</td>\n",
              "      <td>2017</td>\n",
              "      <td>15</td>\n",
              "    </tr>\n",
              "    <tr>\n",
              "      <th>902</th>\n",
              "      <td>Western</td>\n",
              "      <td>2018</td>\n",
              "      <td>16</td>\n",
              "    </tr>\n",
              "    <tr>\n",
              "      <th>903</th>\n",
              "      <td>Western</td>\n",
              "      <td>2019</td>\n",
              "      <td>7</td>\n",
              "    </tr>\n",
              "  </tbody>\n",
              "</table>\n",
              "<p>904 rows × 3 columns</p>\n",
              "</div>"
            ],
            "text/plain": [
              "      genres  year  movieId\n",
              "0     Action  1891        1\n",
              "1     Action  1897        1\n",
              "2     Action  1900        1\n",
              "3     Action  1901        1\n",
              "4     Action  1902        1\n",
              "..       ...   ...      ...\n",
              "899  Western  2015       14\n",
              "900  Western  2016       15\n",
              "901  Western  2017       15\n",
              "902  Western  2018       16\n",
              "903  Western  2019        7\n",
              "\n",
              "[904 rows x 3 columns]"
            ]
          },
          "metadata": {
            "tags": []
          },
          "execution_count": 228
        }
      ]
    },
    {
      "cell_type": "code",
      "metadata": {
        "id": "Ni_ymu-EH8Yf"
      },
      "source": [
        ""
      ],
      "execution_count": 228,
      "outputs": []
    },
    {
      "cell_type": "code",
      "metadata": {
        "id": "Kj2uEpv3-3g5"
      },
      "source": [
        "genres_grouped = movies.groupby(['year', 'genres'], as_index=False)['movieId'].count()"
      ],
      "execution_count": 229,
      "outputs": []
    },
    {
      "cell_type": "code",
      "metadata": {
        "colab": {
          "base_uri": "https://localhost:8080/",
          "height": 419
        },
        "id": "IZlGH8DA_C3s",
        "outputId": "9d1703b7-e481-4292-a769-d9fcedb36322"
      },
      "source": [
        "genres_grouped"
      ],
      "execution_count": 230,
      "outputs": [
        {
          "output_type": "execute_result",
          "data": {
            "text/html": [
              "<div>\n",
              "<style scoped>\n",
              "    .dataframe tbody tr th:only-of-type {\n",
              "        vertical-align: middle;\n",
              "    }\n",
              "\n",
              "    .dataframe tbody tr th {\n",
              "        vertical-align: top;\n",
              "    }\n",
              "\n",
              "    .dataframe thead th {\n",
              "        text-align: right;\n",
              "    }\n",
              "</style>\n",
              "<table border=\"1\" class=\"dataframe\">\n",
              "  <thead>\n",
              "    <tr style=\"text-align: right;\">\n",
              "      <th></th>\n",
              "      <th>year</th>\n",
              "      <th>genres</th>\n",
              "      <th>movieId</th>\n",
              "    </tr>\n",
              "  </thead>\n",
              "  <tbody>\n",
              "    <tr>\n",
              "      <th>0</th>\n",
              "      <td>1</td>\n",
              "      <td>Comedy</td>\n",
              "      <td>1</td>\n",
              "    </tr>\n",
              "    <tr>\n",
              "      <th>1</th>\n",
              "      <td>1890</td>\n",
              "      <td>Comedy</td>\n",
              "      <td>1</td>\n",
              "    </tr>\n",
              "    <tr>\n",
              "      <th>2</th>\n",
              "      <td>1891</td>\n",
              "      <td>Action</td>\n",
              "      <td>1</td>\n",
              "    </tr>\n",
              "    <tr>\n",
              "      <th>3</th>\n",
              "      <td>1892</td>\n",
              "      <td>Animation</td>\n",
              "      <td>1</td>\n",
              "    </tr>\n",
              "    <tr>\n",
              "      <th>4</th>\n",
              "      <td>1894</td>\n",
              "      <td>Comedy</td>\n",
              "      <td>3</td>\n",
              "    </tr>\n",
              "    <tr>\n",
              "      <th>...</th>\n",
              "      <td>...</td>\n",
              "      <td>...</td>\n",
              "      <td>...</td>\n",
              "    </tr>\n",
              "    <tr>\n",
              "      <th>899</th>\n",
              "      <td>2019</td>\n",
              "      <td>Romance</td>\n",
              "      <td>70</td>\n",
              "    </tr>\n",
              "    <tr>\n",
              "      <th>900</th>\n",
              "      <td>2019</td>\n",
              "      <td>Thriller</td>\n",
              "      <td>178</td>\n",
              "    </tr>\n",
              "    <tr>\n",
              "      <th>901</th>\n",
              "      <td>2019</td>\n",
              "      <td>Western</td>\n",
              "      <td>7</td>\n",
              "    </tr>\n",
              "    <tr>\n",
              "      <th>902</th>\n",
              "      <td>38</td>\n",
              "      <td>Animation</td>\n",
              "      <td>1</td>\n",
              "    </tr>\n",
              "    <tr>\n",
              "      <th>903</th>\n",
              "      <td>9</td>\n",
              "      <td>Comedy</td>\n",
              "      <td>1</td>\n",
              "    </tr>\n",
              "  </tbody>\n",
              "</table>\n",
              "<p>904 rows × 3 columns</p>\n",
              "</div>"
            ],
            "text/plain": [
              "     year     genres  movieId\n",
              "0       1     Comedy        1\n",
              "1    1890     Comedy        1\n",
              "2    1891     Action        1\n",
              "3    1892  Animation        1\n",
              "4    1894     Comedy        3\n",
              "..    ...        ...      ...\n",
              "899  2019    Romance       70\n",
              "900  2019   Thriller      178\n",
              "901  2019    Western        7\n",
              "902    38  Animation        1\n",
              "903     9     Comedy        1\n",
              "\n",
              "[904 rows x 3 columns]"
            ]
          },
          "metadata": {
            "tags": []
          },
          "execution_count": 230
        }
      ]
    },
    {
      "cell_type": "code",
      "metadata": {
        "id": "qm5nKuLy_Mr-"
      },
      "source": [
        "genres_grouped = genres_grouped[genres_grouped['movieId'] > 1]"
      ],
      "execution_count": 231,
      "outputs": []
    },
    {
      "cell_type": "code",
      "metadata": {
        "colab": {
          "base_uri": "https://localhost:8080/",
          "height": 419
        },
        "id": "qN-9Md64INuv",
        "outputId": "32b28097-7848-4988-ce5e-25bd60b2a293"
      },
      "source": [
        "genres_2010s = genres_grouped[(genres_grouped['year'] <= '2020') & (genres_grouped['year'] >= '2010')]\n",
        "genres_2010s"
      ],
      "execution_count": 232,
      "outputs": [
        {
          "output_type": "execute_result",
          "data": {
            "text/html": [
              "<div>\n",
              "<style scoped>\n",
              "    .dataframe tbody tr th:only-of-type {\n",
              "        vertical-align: middle;\n",
              "    }\n",
              "\n",
              "    .dataframe tbody tr th {\n",
              "        vertical-align: top;\n",
              "    }\n",
              "\n",
              "    .dataframe thead th {\n",
              "        text-align: right;\n",
              "    }\n",
              "</style>\n",
              "<table border=\"1\" class=\"dataframe\">\n",
              "  <thead>\n",
              "    <tr style=\"text-align: right;\">\n",
              "      <th></th>\n",
              "      <th>year</th>\n",
              "      <th>genres</th>\n",
              "      <th>movieId</th>\n",
              "    </tr>\n",
              "  </thead>\n",
              "  <tbody>\n",
              "    <tr>\n",
              "      <th>822</th>\n",
              "      <td>2010</td>\n",
              "      <td>Action</td>\n",
              "      <td>212</td>\n",
              "    </tr>\n",
              "    <tr>\n",
              "      <th>823</th>\n",
              "      <td>2010</td>\n",
              "      <td>Animation</td>\n",
              "      <td>91</td>\n",
              "    </tr>\n",
              "    <tr>\n",
              "      <th>824</th>\n",
              "      <td>2010</td>\n",
              "      <td>Comedy</td>\n",
              "      <td>459</td>\n",
              "    </tr>\n",
              "    <tr>\n",
              "      <th>825</th>\n",
              "      <td>2010</td>\n",
              "      <td>Crime</td>\n",
              "      <td>118</td>\n",
              "    </tr>\n",
              "    <tr>\n",
              "      <th>826</th>\n",
              "      <td>2010</td>\n",
              "      <td>Drama</td>\n",
              "      <td>719</td>\n",
              "    </tr>\n",
              "    <tr>\n",
              "      <th>...</th>\n",
              "      <td>...</td>\n",
              "      <td>...</td>\n",
              "      <td>...</td>\n",
              "    </tr>\n",
              "    <tr>\n",
              "      <th>897</th>\n",
              "      <td>2019</td>\n",
              "      <td>Crime</td>\n",
              "      <td>74</td>\n",
              "    </tr>\n",
              "    <tr>\n",
              "      <th>898</th>\n",
              "      <td>2019</td>\n",
              "      <td>Drama</td>\n",
              "      <td>387</td>\n",
              "    </tr>\n",
              "    <tr>\n",
              "      <th>899</th>\n",
              "      <td>2019</td>\n",
              "      <td>Romance</td>\n",
              "      <td>70</td>\n",
              "    </tr>\n",
              "    <tr>\n",
              "      <th>900</th>\n",
              "      <td>2019</td>\n",
              "      <td>Thriller</td>\n",
              "      <td>178</td>\n",
              "    </tr>\n",
              "    <tr>\n",
              "      <th>901</th>\n",
              "      <td>2019</td>\n",
              "      <td>Western</td>\n",
              "      <td>7</td>\n",
              "    </tr>\n",
              "  </tbody>\n",
              "</table>\n",
              "<p>80 rows × 3 columns</p>\n",
              "</div>"
            ],
            "text/plain": [
              "     year     genres  movieId\n",
              "822  2010     Action      212\n",
              "823  2010  Animation       91\n",
              "824  2010     Comedy      459\n",
              "825  2010      Crime      118\n",
              "826  2010      Drama      719\n",
              "..    ...        ...      ...\n",
              "897  2019      Crime       74\n",
              "898  2019      Drama      387\n",
              "899  2019    Romance       70\n",
              "900  2019   Thriller      178\n",
              "901  2019    Western        7\n",
              "\n",
              "[80 rows x 3 columns]"
            ]
          },
          "metadata": {
            "tags": []
          },
          "execution_count": 232
        }
      ]
    },
    {
      "cell_type": "code",
      "metadata": {
        "colab": {
          "base_uri": "https://localhost:8080/",
          "height": 512
        },
        "id": "7xniUwWvIS-5",
        "outputId": "f50507f7-2dd4-45f0-cf3a-5ea3dc88a8d3"
      },
      "source": [
        "plt.figure(figsize=(13, 8))\n",
        "sns.barplot(x='year', y='movieId', data=genres_2010s, hue='genres')\n",
        "plt.xticks(rotation=45)\n",
        "plt.show()"
      ],
      "execution_count": 233,
      "outputs": [
        {
          "output_type": "display_data",
          "data": {
            "image/png": "[encoded data removed]",
            "text/plain": [
              "<Figure size 936x576 with 1 Axes>"
            ]
          },
          "metadata": {
            "tags": [],
            "needs_background": "light"
          }
        }
      ]
    },
    {
      "cell_type": "code",
      "metadata": {
        "colab": {
          "base_uri": "https://localhost:8080/",
          "height": 419
        },
        "id": "MnzzpfuLKaVN",
        "outputId": "4e31903f-68ba-437e-990a-926395b105b9"
      },
      "source": [
        "genres_1980s = genres_grouped[(genres_grouped['year'] < '1990') & (genres_grouped['year'] >= '1980')]\n",
        "genres_1980s"
      ],
      "execution_count": 234,
      "outputs": [
        {
          "output_type": "execute_result",
          "data": {
            "text/html": [
              "<div>\n",
              "<style scoped>\n",
              "    .dataframe tbody tr th:only-of-type {\n",
              "        vertical-align: middle;\n",
              "    }\n",
              "\n",
              "    .dataframe tbody tr th {\n",
              "        vertical-align: top;\n",
              "    }\n",
              "\n",
              "    .dataframe thead th {\n",
              "        text-align: right;\n",
              "    }\n",
              "</style>\n",
              "<table border=\"1\" class=\"dataframe\">\n",
              "  <thead>\n",
              "    <tr style=\"text-align: right;\">\n",
              "      <th></th>\n",
              "      <th>year</th>\n",
              "      <th>genres</th>\n",
              "      <th>movieId</th>\n",
              "    </tr>\n",
              "  </thead>\n",
              "  <tbody>\n",
              "    <tr>\n",
              "      <th>581</th>\n",
              "      <td>1980</td>\n",
              "      <td>Action</td>\n",
              "      <td>68</td>\n",
              "    </tr>\n",
              "    <tr>\n",
              "      <th>582</th>\n",
              "      <td>1980</td>\n",
              "      <td>Animation</td>\n",
              "      <td>10</td>\n",
              "    </tr>\n",
              "    <tr>\n",
              "      <th>583</th>\n",
              "      <td>1980</td>\n",
              "      <td>Comedy</td>\n",
              "      <td>139</td>\n",
              "    </tr>\n",
              "    <tr>\n",
              "      <th>584</th>\n",
              "      <td>1980</td>\n",
              "      <td>Crime</td>\n",
              "      <td>31</td>\n",
              "    </tr>\n",
              "    <tr>\n",
              "      <th>585</th>\n",
              "      <td>1980</td>\n",
              "      <td>Drama</td>\n",
              "      <td>160</td>\n",
              "    </tr>\n",
              "    <tr>\n",
              "      <th>...</th>\n",
              "      <td>...</td>\n",
              "      <td>...</td>\n",
              "      <td>...</td>\n",
              "    </tr>\n",
              "    <tr>\n",
              "      <th>654</th>\n",
              "      <td>1989</td>\n",
              "      <td>Comedy</td>\n",
              "      <td>188</td>\n",
              "    </tr>\n",
              "    <tr>\n",
              "      <th>655</th>\n",
              "      <td>1989</td>\n",
              "      <td>Crime</td>\n",
              "      <td>49</td>\n",
              "    </tr>\n",
              "    <tr>\n",
              "      <th>656</th>\n",
              "      <td>1989</td>\n",
              "      <td>Drama</td>\n",
              "      <td>222</td>\n",
              "    </tr>\n",
              "    <tr>\n",
              "      <th>657</th>\n",
              "      <td>1989</td>\n",
              "      <td>Romance</td>\n",
              "      <td>49</td>\n",
              "    </tr>\n",
              "    <tr>\n",
              "      <th>658</th>\n",
              "      <td>1989</td>\n",
              "      <td>Thriller</td>\n",
              "      <td>65</td>\n",
              "    </tr>\n",
              "  </tbody>\n",
              "</table>\n",
              "<p>78 rows × 3 columns</p>\n",
              "</div>"
            ],
            "text/plain": [
              "     year     genres  movieId\n",
              "581  1980     Action       68\n",
              "582  1980  Animation       10\n",
              "583  1980     Comedy      139\n",
              "584  1980      Crime       31\n",
              "585  1980      Drama      160\n",
              "..    ...        ...      ...\n",
              "654  1989     Comedy      188\n",
              "655  1989      Crime       49\n",
              "656  1989      Drama      222\n",
              "657  1989    Romance       49\n",
              "658  1989   Thriller       65\n",
              "\n",
              "[78 rows x 3 columns]"
            ]
          },
          "metadata": {
            "tags": []
          },
          "execution_count": 234
        }
      ]
    },
    {
      "cell_type": "code",
      "metadata": {
        "colab": {
          "base_uri": "https://localhost:8080/",
          "height": 512
        },
        "id": "eRfoqT6JKy7X",
        "outputId": "ad8647f0-e323-45f8-c1ec-bd1550e91600"
      },
      "source": [
        "plt.figure(figsize=(13, 8))\n",
        "sns.barplot(x='year', y='movieId', data=genres_1980s, hue='genres')\n",
        "plt.xticks(rotation=45)\n",
        "plt.show()"
      ],
      "execution_count": 235,
      "outputs": [
        {
          "output_type": "display_data",
          "data": {
            "image/png": "[encoded data removed]",
            "text/plain": [
              "<Figure size 936x576 with 1 Axes>"
            ]
          },
          "metadata": {
            "tags": [],
            "needs_background": "light"
          }
        }
      ]
    },
    {
      "cell_type": "code",
      "metadata": {
        "colab": {
          "base_uri": "https://localhost:8080/",
          "height": 419
        },
        "id": "VorHCQ5ZLIxF",
        "outputId": "eee57cd8-5cff-470d-f17c-3eb8edf0b58b"
      },
      "source": [
        "between_wars = genres_grouped[(genres_grouped['year'] >= '1920') & (genres_grouped['year'] <= '1939')]\n",
        "between_wars"
      ],
      "execution_count": 236,
      "outputs": [
        {
          "output_type": "execute_result",
          "data": {
            "text/html": [
              "<div>\n",
              "<style scoped>\n",
              "    .dataframe tbody tr th:only-of-type {\n",
              "        vertical-align: middle;\n",
              "    }\n",
              "\n",
              "    .dataframe tbody tr th {\n",
              "        vertical-align: top;\n",
              "    }\n",
              "\n",
              "    .dataframe thead th {\n",
              "        text-align: right;\n",
              "    }\n",
              "</style>\n",
              "<table border=\"1\" class=\"dataframe\">\n",
              "  <thead>\n",
              "    <tr style=\"text-align: right;\">\n",
              "      <th></th>\n",
              "      <th>year</th>\n",
              "      <th>genres</th>\n",
              "      <th>movieId</th>\n",
              "    </tr>\n",
              "  </thead>\n",
              "  <tbody>\n",
              "    <tr>\n",
              "      <th>110</th>\n",
              "      <td>1920</td>\n",
              "      <td>Comedy</td>\n",
              "      <td>15</td>\n",
              "    </tr>\n",
              "    <tr>\n",
              "      <th>111</th>\n",
              "      <td>1920</td>\n",
              "      <td>Crime</td>\n",
              "      <td>2</td>\n",
              "    </tr>\n",
              "    <tr>\n",
              "      <th>112</th>\n",
              "      <td>1920</td>\n",
              "      <td>Drama</td>\n",
              "      <td>16</td>\n",
              "    </tr>\n",
              "    <tr>\n",
              "      <th>113</th>\n",
              "      <td>1920</td>\n",
              "      <td>Romance</td>\n",
              "      <td>6</td>\n",
              "    </tr>\n",
              "    <tr>\n",
              "      <th>114</th>\n",
              "      <td>1920</td>\n",
              "      <td>Western</td>\n",
              "      <td>4</td>\n",
              "    </tr>\n",
              "    <tr>\n",
              "      <th>...</th>\n",
              "      <td>...</td>\n",
              "      <td>...</td>\n",
              "      <td>...</td>\n",
              "    </tr>\n",
              "    <tr>\n",
              "      <th>256</th>\n",
              "      <td>1939</td>\n",
              "      <td>Crime</td>\n",
              "      <td>39</td>\n",
              "    </tr>\n",
              "    <tr>\n",
              "      <th>257</th>\n",
              "      <td>1939</td>\n",
              "      <td>Drama</td>\n",
              "      <td>98</td>\n",
              "    </tr>\n",
              "    <tr>\n",
              "      <th>258</th>\n",
              "      <td>1939</td>\n",
              "      <td>Romance</td>\n",
              "      <td>51</td>\n",
              "    </tr>\n",
              "    <tr>\n",
              "      <th>259</th>\n",
              "      <td>1939</td>\n",
              "      <td>Thriller</td>\n",
              "      <td>21</td>\n",
              "    </tr>\n",
              "    <tr>\n",
              "      <th>260</th>\n",
              "      <td>1939</td>\n",
              "      <td>Western</td>\n",
              "      <td>18</td>\n",
              "    </tr>\n",
              "  </tbody>\n",
              "</table>\n",
              "<p>139 rows × 3 columns</p>\n",
              "</div>"
            ],
            "text/plain": [
              "     year    genres  movieId\n",
              "110  1920    Comedy       15\n",
              "111  1920     Crime        2\n",
              "112  1920     Drama       16\n",
              "113  1920   Romance        6\n",
              "114  1920   Western        4\n",
              "..    ...       ...      ...\n",
              "256  1939     Crime       39\n",
              "257  1939     Drama       98\n",
              "258  1939   Romance       51\n",
              "259  1939  Thriller       21\n",
              "260  1939   Western       18\n",
              "\n",
              "[139 rows x 3 columns]"
            ]
          },
          "metadata": {
            "tags": []
          },
          "execution_count": 236
        }
      ]
    },
    {
      "cell_type": "code",
      "metadata": {
        "colab": {
          "base_uri": "https://localhost:8080/",
          "height": 512
        },
        "id": "-YJFDqFOLf__",
        "outputId": "d387af4f-c3a8-4ca6-a86f-7546554bb560"
      },
      "source": [
        "plt.figure(figsize=(13, 8))\n",
        "sns.barplot(x='year', y='movieId', hue='genres', data=between_wars)\n",
        "plt.xticks(rotation=45)\n",
        "plt.show()"
      ],
      "execution_count": 237,
      "outputs": [
        {
          "output_type": "display_data",
          "data": {
            "image/png": "[encoded data removed]",
            "text/plain": [
              "<Figure size 936x576 with 1 Axes>"
            ]
          },
          "metadata": {
            "tags": [],
            "needs_background": "light"
          }
        }
      ]
    },
    {
      "cell_type": "markdown",
      "metadata": {
        "id": "FWgwG2HcTy5t"
      },
      "source": [
        "DIRECTORS:"
      ]
    },
    {
      "cell_type": "code",
      "metadata": {
        "id": "Uykecf3QT0Vn"
      },
      "source": [
        "eda = pd.merge(imdb, df_train, how='inner', on='movieId')"
      ],
      "execution_count": 238,
      "outputs": []
    },
    {
      "cell_type": "code",
      "metadata": {
        "id": "v41iETGhV_M-"
      },
      "source": [
        "eda = pd.merge(eda, df_movies, how='inner', on='movieId')"
      ],
      "execution_count": 239,
      "outputs": []
    },
    {
      "cell_type": "code",
      "metadata": {
        "colab": {
          "base_uri": "https://localhost:8080/",
          "height": 1000
        },
        "id": "Np8quo8MWGs6",
        "outputId": "7ed67785-3fd3-41bd-f8ba-4c96ddcf6b0b"
      },
      "source": [
        "eda"
      ],
      "execution_count": 240,
      "outputs": [
        {
          "output_type": "execute_result",
          "data": {
            "text/html": [
              "<div>\n",
              "<style scoped>\n",
              "    .dataframe tbody tr th:only-of-type {\n",
              "        vertical-align: middle;\n",
              "    }\n",
              "\n",
              "    .dataframe tbody tr th {\n",
              "        vertical-align: top;\n",
              "    }\n",
              "\n",
              "    .dataframe thead th {\n",
              "        text-align: right;\n",
              "    }\n",
              "</style>\n",
              "<table border=\"1\" class=\"dataframe\">\n",
              "  <thead>\n",
              "    <tr style=\"text-align: right;\">\n",
              "      <th></th>\n",
              "      <th>movieId</th>\n",
              "      <th>title_cast</th>\n",
              "      <th>director</th>\n",
              "      <th>runtime</th>\n",
              "      <th>budget</th>\n",
              "      <th>plot_keywords</th>\n",
              "      <th>currency</th>\n",
              "      <th>cast</th>\n",
              "      <th>cast_size</th>\n",
              "      <th>exchange_rate</th>\n",
              "      <th>budget_USD</th>\n",
              "      <th>userId</th>\n",
              "      <th>rating</th>\n",
              "      <th>timestamp</th>\n",
              "      <th>title</th>\n",
              "      <th>genres</th>\n",
              "      <th>year</th>\n",
              "    </tr>\n",
              "  </thead>\n",
              "  <tbody>\n",
              "    <tr>\n",
              "      <th>0</th>\n",
              "      <td>1</td>\n",
              "      <td>Tom Hanks,Tim Allen,Don Rickles,Jim Varney,Wal...</td>\n",
              "      <td>John Lasseter</td>\n",
              "      <td>81.0</td>\n",
              "      <td>30000000</td>\n",
              "      <td>toy|rivalry|cowboy|cgi animation</td>\n",
              "      <td>USD</td>\n",
              "      <td>[Tom Hanks, Tim Allen, Don Rickles, Jim Varney...</td>\n",
              "      <td>15.0</td>\n",
              "      <td>1.0</td>\n",
              "      <td>30000000.0</td>\n",
              "      <td>158849</td>\n",
              "      <td>5.0</td>\n",
              "      <td>994716786</td>\n",
              "      <td>Toy Story</td>\n",
              "      <td>Adventure|Animation|Children|Comedy|Fantasy</td>\n",
              "      <td>1995</td>\n",
              "    </tr>\n",
              "    <tr>\n",
              "      <th>1</th>\n",
              "      <td>1</td>\n",
              "      <td>Tom Hanks,Tim Allen,Don Rickles,Jim Varney,Wal...</td>\n",
              "      <td>John Lasseter</td>\n",
              "      <td>81.0</td>\n",
              "      <td>30000000</td>\n",
              "      <td>toy|rivalry|cowboy|cgi animation</td>\n",
              "      <td>USD</td>\n",
              "      <td>[Tom Hanks, Tim Allen, Don Rickles, Jim Varney...</td>\n",
              "      <td>15.0</td>\n",
              "      <td>1.0</td>\n",
              "      <td>30000000.0</td>\n",
              "      <td>97203</td>\n",
              "      <td>5.0</td>\n",
              "      <td>942683155</td>\n",
              "      <td>Toy Story</td>\n",
              "      <td>Adventure|Animation|Children|Comedy|Fantasy</td>\n",
              "      <td>1995</td>\n",
              "    </tr>\n",
              "    <tr>\n",
              "      <th>2</th>\n",
              "      <td>1</td>\n",
              "      <td>Tom Hanks,Tim Allen,Don Rickles,Jim Varney,Wal...</td>\n",
              "      <td>John Lasseter</td>\n",
              "      <td>81.0</td>\n",
              "      <td>30000000</td>\n",
              "      <td>toy|rivalry|cowboy|cgi animation</td>\n",
              "      <td>USD</td>\n",
              "      <td>[Tom Hanks, Tim Allen, Don Rickles, Jim Varney...</td>\n",
              "      <td>15.0</td>\n",
              "      <td>1.0</td>\n",
              "      <td>30000000.0</td>\n",
              "      <td>161871</td>\n",
              "      <td>3.0</td>\n",
              "      <td>833104576</td>\n",
              "      <td>Toy Story</td>\n",
              "      <td>Adventure|Animation|Children|Comedy|Fantasy</td>\n",
              "      <td>1995</td>\n",
              "    </tr>\n",
              "    <tr>\n",
              "      <th>3</th>\n",
              "      <td>1</td>\n",
              "      <td>Tom Hanks,Tim Allen,Don Rickles,Jim Varney,Wal...</td>\n",
              "      <td>John Lasseter</td>\n",
              "      <td>81.0</td>\n",
              "      <td>30000000</td>\n",
              "      <td>toy|rivalry|cowboy|cgi animation</td>\n",
              "      <td>USD</td>\n",
              "      <td>[Tom Hanks, Tim Allen, Don Rickles, Jim Varney...</td>\n",
              "      <td>15.0</td>\n",
              "      <td>1.0</td>\n",
              "      <td>30000000.0</td>\n",
              "      <td>45117</td>\n",
              "      <td>4.0</td>\n",
              "      <td>1442256969</td>\n",
              "      <td>Toy Story</td>\n",
              "      <td>Adventure|Animation|Children|Comedy|Fantasy</td>\n",
              "      <td>1995</td>\n",
              "    </tr>\n",
              "    <tr>\n",
              "      <th>4</th>\n",
              "      <td>1</td>\n",
              "      <td>Tom Hanks,Tim Allen,Don Rickles,Jim Varney,Wal...</td>\n",
              "      <td>John Lasseter</td>\n",
              "      <td>81.0</td>\n",
              "      <td>30000000</td>\n",
              "      <td>toy|rivalry|cowboy|cgi animation</td>\n",
              "      <td>USD</td>\n",
              "      <td>[Tom Hanks, Tim Allen, Don Rickles, Jim Varney...</td>\n",
              "      <td>15.0</td>\n",
              "      <td>1.0</td>\n",
              "      <td>30000000.0</td>\n",
              "      <td>27431</td>\n",
              "      <td>5.0</td>\n",
              "      <td>849667827</td>\n",
              "      <td>Toy Story</td>\n",
              "      <td>Adventure|Animation|Children|Comedy|Fantasy</td>\n",
              "      <td>1995</td>\n",
              "    </tr>\n",
              "    <tr>\n",
              "      <th>...</th>\n",
              "      <td>...</td>\n",
              "      <td>...</td>\n",
              "      <td>...</td>\n",
              "      <td>...</td>\n",
              "      <td>...</td>\n",
              "      <td>...</td>\n",
              "      <td>...</td>\n",
              "      <td>...</td>\n",
              "      <td>...</td>\n",
              "      <td>...</td>\n",
              "      <td>...</td>\n",
              "      <td>...</td>\n",
              "      <td>...</td>\n",
              "      <td>...</td>\n",
              "      <td>...</td>\n",
              "      <td>...</td>\n",
              "      <td>...</td>\n",
              "    </tr>\n",
              "    <tr>\n",
              "      <th>9633026</th>\n",
              "      <td>131262</td>\n",
              "      <td>Sophie Lane Curtis,Kelly Reilly,Graham Phillip...</td>\n",
              "      <td>Hilary Brougher</td>\n",
              "      <td>96.0</td>\n",
              "      <td>0</td>\n",
              "      <td>hex|witch|virgin|blood</td>\n",
              "      <td>USD</td>\n",
              "      <td>[Sophie Lane Curtis, Kelly Reilly, Graham Phil...</td>\n",
              "      <td>15.0</td>\n",
              "      <td>1.0</td>\n",
              "      <td>0.0</td>\n",
              "      <td>33844</td>\n",
              "      <td>2.5</td>\n",
              "      <td>1436135246</td>\n",
              "      <td>Innocence</td>\n",
              "      <td>Adventure|Fantasy|Horror</td>\n",
              "      <td>2014</td>\n",
              "    </tr>\n",
              "    <tr>\n",
              "      <th>9633027</th>\n",
              "      <td>131262</td>\n",
              "      <td>Sophie Lane Curtis,Kelly Reilly,Graham Phillip...</td>\n",
              "      <td>Hilary Brougher</td>\n",
              "      <td>96.0</td>\n",
              "      <td>0</td>\n",
              "      <td>hex|witch|virgin|blood</td>\n",
              "      <td>USD</td>\n",
              "      <td>[Sophie Lane Curtis, Kelly Reilly, Graham Phil...</td>\n",
              "      <td>15.0</td>\n",
              "      <td>1.0</td>\n",
              "      <td>0.0</td>\n",
              "      <td>51278</td>\n",
              "      <td>3.0</td>\n",
              "      <td>1434134840</td>\n",
              "      <td>Innocence</td>\n",
              "      <td>Adventure|Fantasy|Horror</td>\n",
              "      <td>2014</td>\n",
              "    </tr>\n",
              "    <tr>\n",
              "      <th>9633028</th>\n",
              "      <td>131262</td>\n",
              "      <td>Sophie Lane Curtis,Kelly Reilly,Graham Phillip...</td>\n",
              "      <td>Hilary Brougher</td>\n",
              "      <td>96.0</td>\n",
              "      <td>0</td>\n",
              "      <td>hex|witch|virgin|blood</td>\n",
              "      <td>USD</td>\n",
              "      <td>[Sophie Lane Curtis, Kelly Reilly, Graham Phil...</td>\n",
              "      <td>15.0</td>\n",
              "      <td>1.0</td>\n",
              "      <td>0.0</td>\n",
              "      <td>73268</td>\n",
              "      <td>1.0</td>\n",
              "      <td>1475289253</td>\n",
              "      <td>Innocence</td>\n",
              "      <td>Adventure|Fantasy|Horror</td>\n",
              "      <td>2014</td>\n",
              "    </tr>\n",
              "    <tr>\n",
              "      <th>9633029</th>\n",
              "      <td>131262</td>\n",
              "      <td>Sophie Lane Curtis,Kelly Reilly,Graham Phillip...</td>\n",
              "      <td>Hilary Brougher</td>\n",
              "      <td>96.0</td>\n",
              "      <td>0</td>\n",
              "      <td>hex|witch|virgin|blood</td>\n",
              "      <td>USD</td>\n",
              "      <td>[Sophie Lane Curtis, Kelly Reilly, Graham Phil...</td>\n",
              "      <td>15.0</td>\n",
              "      <td>1.0</td>\n",
              "      <td>0.0</td>\n",
              "      <td>7865</td>\n",
              "      <td>1.0</td>\n",
              "      <td>1456452588</td>\n",
              "      <td>Innocence</td>\n",
              "      <td>Adventure|Fantasy|Horror</td>\n",
              "      <td>2014</td>\n",
              "    </tr>\n",
              "    <tr>\n",
              "      <th>9633030</th>\n",
              "      <td>131262</td>\n",
              "      <td>Sophie Lane Curtis,Kelly Reilly,Graham Phillip...</td>\n",
              "      <td>Hilary Brougher</td>\n",
              "      <td>96.0</td>\n",
              "      <td>0</td>\n",
              "      <td>hex|witch|virgin|blood</td>\n",
              "      <td>USD</td>\n",
              "      <td>[Sophie Lane Curtis, Kelly Reilly, Graham Phil...</td>\n",
              "      <td>15.0</td>\n",
              "      <td>1.0</td>\n",
              "      <td>0.0</td>\n",
              "      <td>36618</td>\n",
              "      <td>3.0</td>\n",
              "      <td>1486410929</td>\n",
              "      <td>Innocence</td>\n",
              "      <td>Adventure|Fantasy|Horror</td>\n",
              "      <td>2014</td>\n",
              "    </tr>\n",
              "  </tbody>\n",
              "</table>\n",
              "<p>9633031 rows × 17 columns</p>\n",
              "</div>"
            ],
            "text/plain": [
              "         movieId  ...  year\n",
              "0              1  ...  1995\n",
              "1              1  ...  1995\n",
              "2              1  ...  1995\n",
              "3              1  ...  1995\n",
              "4              1  ...  1995\n",
              "...          ...  ...   ...\n",
              "9633026   131262  ...  2014\n",
              "9633027   131262  ...  2014\n",
              "9633028   131262  ...  2014\n",
              "9633029   131262  ...  2014\n",
              "9633030   131262  ...  2014\n",
              "\n",
              "[9633031 rows x 17 columns]"
            ]
          },
          "metadata": {
            "tags": []
          },
          "execution_count": 240
        }
      ]
    },
    {
      "cell_type": "code",
      "metadata": {
        "id": "HYH6HsOpUa5k"
      },
      "source": [
        "directors = pd.DataFrame(eda.groupby(['director'], as_index=False)['rating'].agg(['mean', 'count']))"
      ],
      "execution_count": 241,
      "outputs": []
    },
    {
      "cell_type": "code",
      "metadata": {
        "id": "Rad8vJHDUTJX"
      },
      "source": [
        "directors.reset_index(inplace=True)"
      ],
      "execution_count": 242,
      "outputs": []
    },
    {
      "cell_type": "code",
      "metadata": {
        "colab": {
          "base_uri": "https://localhost:8080/",
          "height": 824
        },
        "id": "z0g1PkSYWTxN",
        "outputId": "73fe3fa7-da97-4316-a3fb-8706871480c3"
      },
      "source": [
        "directors.sort_values(by=['count', 'mean'], ascending=False).head(25)"
      ],
      "execution_count": 243,
      "outputs": [
        {
          "output_type": "execute_result",
          "data": {
            "text/html": [
              "<div>\n",
              "<style scoped>\n",
              "    .dataframe tbody tr th:only-of-type {\n",
              "        vertical-align: middle;\n",
              "    }\n",
              "\n",
              "    .dataframe tbody tr th {\n",
              "        vertical-align: top;\n",
              "    }\n",
              "\n",
              "    .dataframe thead th {\n",
              "        text-align: right;\n",
              "    }\n",
              "</style>\n",
              "<table border=\"1\" class=\"dataframe\">\n",
              "  <thead>\n",
              "    <tr style=\"text-align: right;\">\n",
              "      <th></th>\n",
              "      <th>director</th>\n",
              "      <th>mean</th>\n",
              "      <th>count</th>\n",
              "    </tr>\n",
              "  </thead>\n",
              "  <tbody>\n",
              "    <tr>\n",
              "      <th>7572</th>\n",
              "      <td>Quentin Tarantino</td>\n",
              "      <td>3.936571</td>\n",
              "      <td>109919</td>\n",
              "    </tr>\n",
              "    <tr>\n",
              "      <th>6385</th>\n",
              "      <td>Michael Crichton</td>\n",
              "      <td>3.273370</td>\n",
              "      <td>65157</td>\n",
              "    </tr>\n",
              "    <tr>\n",
              "      <th>3762</th>\n",
              "      <td>J.R.R. Tolkien</td>\n",
              "      <td>4.080118</td>\n",
              "      <td>62963</td>\n",
              "    </tr>\n",
              "    <tr>\n",
              "      <th>5652</th>\n",
              "      <td>Lilly Wachowski</td>\n",
              "      <td>3.808348</td>\n",
              "      <td>60988</td>\n",
              "    </tr>\n",
              "    <tr>\n",
              "      <th>8770</th>\n",
              "      <td>Stephen King</td>\n",
              "      <td>4.049956</td>\n",
              "      <td>59903</td>\n",
              "    </tr>\n",
              "    <tr>\n",
              "      <th>2811</th>\n",
              "      <td>Ethan Coen</td>\n",
              "      <td>3.947250</td>\n",
              "      <td>51185</td>\n",
              "    </tr>\n",
              "    <tr>\n",
              "      <th>3856</th>\n",
              "      <td>James Cameron</td>\n",
              "      <td>3.687102</td>\n",
              "      <td>51178</td>\n",
              "    </tr>\n",
              "    <tr>\n",
              "      <th>5732</th>\n",
              "      <td>Luc Besson</td>\n",
              "      <td>3.749676</td>\n",
              "      <td>44015</td>\n",
              "    </tr>\n",
              "    <tr>\n",
              "      <th>4779</th>\n",
              "      <td>Jonathan Nolan</td>\n",
              "      <td>4.100516</td>\n",
              "      <td>42645</td>\n",
              "    </tr>\n",
              "    <tr>\n",
              "      <th>9181</th>\n",
              "      <td>Thomas Harris</td>\n",
              "      <td>3.989774</td>\n",
              "      <td>36425</td>\n",
              "    </tr>\n",
              "    <tr>\n",
              "      <th>5791</th>\n",
              "      <td>M. Night Shyamalan</td>\n",
              "      <td>3.642885</td>\n",
              "      <td>35567</td>\n",
              "    </tr>\n",
              "    <tr>\n",
              "      <th>8896</th>\n",
              "      <td>Steven Spielberg</td>\n",
              "      <td>4.145732</td>\n",
              "      <td>35236</td>\n",
              "    </tr>\n",
              "    <tr>\n",
              "      <th>2226</th>\n",
              "      <td>Dean Devlin</td>\n",
              "      <td>3.273260</td>\n",
              "      <td>35157</td>\n",
              "    </tr>\n",
              "    <tr>\n",
              "      <th>1037</th>\n",
              "      <td>Bob Kane</td>\n",
              "      <td>3.177958</td>\n",
              "      <td>35129</td>\n",
              "    </tr>\n",
              "    <tr>\n",
              "      <th>4767</th>\n",
              "      <td>Jonathan Hensleigh</td>\n",
              "      <td>3.282260</td>\n",
              "      <td>33106</td>\n",
              "    </tr>\n",
              "    <tr>\n",
              "      <th>511</th>\n",
              "      <td>Andrew Niccol</td>\n",
              "      <td>3.747216</td>\n",
              "      <td>32868</td>\n",
              "    </tr>\n",
              "    <tr>\n",
              "      <th>1596</th>\n",
              "      <td>Christopher Nolan</td>\n",
              "      <td>4.145619</td>\n",
              "      <td>32633</td>\n",
              "    </tr>\n",
              "    <tr>\n",
              "      <th>9800</th>\n",
              "      <td>Winston Groom</td>\n",
              "      <td>4.047216</td>\n",
              "      <td>32383</td>\n",
              "    </tr>\n",
              "    <tr>\n",
              "      <th>5290</th>\n",
              "      <td>Kevin Smith</td>\n",
              "      <td>3.614388</td>\n",
              "      <td>32075</td>\n",
              "    </tr>\n",
              "    <tr>\n",
              "      <th>6625</th>\n",
              "      <td>Mike Myers</td>\n",
              "      <td>3.237890</td>\n",
              "      <td>31523</td>\n",
              "    </tr>\n",
              "    <tr>\n",
              "      <th>3148</th>\n",
              "      <td>George Lucas</td>\n",
              "      <td>3.147304</td>\n",
              "      <td>29076</td>\n",
              "    </tr>\n",
              "    <tr>\n",
              "      <th>4610</th>\n",
              "      <td>John Lasseter</td>\n",
              "      <td>3.878031</td>\n",
              "      <td>28872</td>\n",
              "    </tr>\n",
              "    <tr>\n",
              "      <th>3758</th>\n",
              "      <td>J.K. Rowling</td>\n",
              "      <td>3.712236</td>\n",
              "      <td>28334</td>\n",
              "    </tr>\n",
              "    <tr>\n",
              "      <th>7652</th>\n",
              "      <td>Randall Wallace</td>\n",
              "      <td>3.807508</td>\n",
              "      <td>28183</td>\n",
              "    </tr>\n",
              "    <tr>\n",
              "      <th>9084</th>\n",
              "      <td>Ted Elliott</td>\n",
              "      <td>3.608410</td>\n",
              "      <td>28014</td>\n",
              "    </tr>\n",
              "  </tbody>\n",
              "</table>\n",
              "</div>"
            ],
            "text/plain": [
              "                director      mean   count\n",
              "7572   Quentin Tarantino  3.936571  109919\n",
              "6385    Michael Crichton  3.273370   65157\n",
              "3762      J.R.R. Tolkien  4.080118   62963\n",
              "5652     Lilly Wachowski  3.808348   60988\n",
              "8770        Stephen King  4.049956   59903\n",
              "2811          Ethan Coen  3.947250   51185\n",
              "3856       James Cameron  3.687102   51178\n",
              "5732          Luc Besson  3.749676   44015\n",
              "4779      Jonathan Nolan  4.100516   42645\n",
              "9181       Thomas Harris  3.989774   36425\n",
              "5791  M. Night Shyamalan  3.642885   35567\n",
              "8896    Steven Spielberg  4.145732   35236\n",
              "2226         Dean Devlin  3.273260   35157\n",
              "1037            Bob Kane  3.177958   35129\n",
              "4767  Jonathan Hensleigh  3.282260   33106\n",
              "511        Andrew Niccol  3.747216   32868\n",
              "1596   Christopher Nolan  4.145619   32633\n",
              "9800       Winston Groom  4.047216   32383\n",
              "5290         Kevin Smith  3.614388   32075\n",
              "6625          Mike Myers  3.237890   31523\n",
              "3148        George Lucas  3.147304   29076\n",
              "4610       John Lasseter  3.878031   28872\n",
              "3758        J.K. Rowling  3.712236   28334\n",
              "7652     Randall Wallace  3.807508   28183\n",
              "9084         Ted Elliott  3.608410   28014"
            ]
          },
          "metadata": {
            "tags": []
          },
          "execution_count": 243
        }
      ]
    },
    {
      "cell_type": "code",
      "metadata": {
        "id": "-8S6SMSxXptp"
      },
      "source": [
        "Tarantino = pd.DataFrame(eda[eda['director'] == \"Quentin Tarantino\"].groupby(['title', 'budget_USD', 'title_cast', 'genres', 'year'])['rating'].count())"
      ],
      "execution_count": 244,
      "outputs": []
    },
    {
      "cell_type": "code",
      "metadata": {
        "colab": {
          "base_uri": "https://localhost:8080/",
          "height": 730
        },
        "id": "4XZWr7whZ__J",
        "outputId": "644d9821-dc53-447d-d048-e0faefeac148"
      },
      "source": [
        "Tarantino"
      ],
      "execution_count": 245,
      "outputs": [
        {
          "output_type": "execute_result",
          "data": {
            "text/html": [
              "<div>\n",
              "<style scoped>\n",
              "    .dataframe tbody tr th:only-of-type {\n",
              "        vertical-align: middle;\n",
              "    }\n",
              "\n",
              "    .dataframe tbody tr th {\n",
              "        vertical-align: top;\n",
              "    }\n",
              "\n",
              "    .dataframe thead th {\n",
              "        text-align: right;\n",
              "    }\n",
              "</style>\n",
              "<table border=\"1\" class=\"dataframe\">\n",
              "  <thead>\n",
              "    <tr style=\"text-align: right;\">\n",
              "      <th></th>\n",
              "      <th></th>\n",
              "      <th></th>\n",
              "      <th></th>\n",
              "      <th></th>\n",
              "      <th>rating</th>\n",
              "    </tr>\n",
              "    <tr>\n",
              "      <th>title</th>\n",
              "      <th>budget_USD</th>\n",
              "      <th>title_cast</th>\n",
              "      <th>genres</th>\n",
              "      <th>year</th>\n",
              "      <th></th>\n",
              "    </tr>\n",
              "  </thead>\n",
              "  <tbody>\n",
              "    <tr>\n",
              "      <th>Death Proof</th>\n",
              "      <th>0.0</th>\n",
              "      <th>Kurt Russell,Zoë Bell,Rosario Dawson,Vanessa Ferlito,Sydney Tamiia Poitier,Tracie Thoms,Rose McGowan,Jordan Ladd,Mary Elizabeth Winstead,Quentin Tarantino,Marcy Harriell,Eli Roth,Omar Doom,Michael Bacall,Monica Staggs</th>\n",
              "      <th>Action|Adventure|Crime|Horror|Thriller</th>\n",
              "      <th>2007</th>\n",
              "      <td>1793</td>\n",
              "    </tr>\n",
              "    <tr>\n",
              "      <th>Django Unchained</th>\n",
              "      <th>100000000.0</th>\n",
              "      <th>Jamie Foxx,Christoph Waltz,Leonardo DiCaprio,Kerry Washington,Samuel L. Jackson,Walton Goggins,Dennis Christopher,James Remar,David Steen,Dana Gourrier,Nichole Galicia,Laura Cayouette,Ato Essandoh,Sammi Rotibi,Clay Donahue Fontenot</th>\n",
              "      <th>Action|Drama|Western</th>\n",
              "      <th>2012</th>\n",
              "      <td>8193</td>\n",
              "    </tr>\n",
              "    <tr>\n",
              "      <th>Inglourious Basterds</th>\n",
              "      <th>70000000.0</th>\n",
              "      <th>Brad Pitt,Mélanie Laurent,Christoph Waltz,Eli Roth,Michael Fassbender,Diane Kruger,Daniel Brühl,Til Schweiger,Gedeon Burkhard,Jacky Ido,B.J. Novak,Omar Doom,August Diehl,Denis Ménochet,Sylvester Groth</th>\n",
              "      <th>Action|Drama|War</th>\n",
              "      <th>2009</th>\n",
              "      <td>9272</td>\n",
              "    </tr>\n",
              "    <tr>\n",
              "      <th>Jackie Brown</th>\n",
              "      <th>12000000.0</th>\n",
              "      <th>Pam Grier,Samuel L. Jackson,Robert Forster,Bridget Fonda,Michael Keaton,Robert De Niro,Michael Bowen,Chris Tucker,LisaGay Hamilton,Tommy 'Tiny' Lister,Hattie Winston,Sid Haig,Aimee Graham,Ellis Williams,Tangie Ambrose</th>\n",
              "      <th>Crime|Drama|Thriller</th>\n",
              "      <th>1997</th>\n",
              "      <td>4893</td>\n",
              "    </tr>\n",
              "    <tr>\n",
              "      <th>Kill Bill: Vol. 1</th>\n",
              "      <th>30000000.0</th>\n",
              "      <th>Uma Thurman,Lucy Liu,Vivica A. Fox,Daryl Hannah,David Carradine,Michael Madsen,Julie Dreyfus,Chiaki Kuriyama,Shin'ichi Chiba,Chia-Hui Liu,Michael Parks,Michael Bowen,Jun Kunimura,Kenji Ohba,Yuki Kazamatsuri</th>\n",
              "      <th>Action|Crime|Thriller</th>\n",
              "      <th>2003</th>\n",
              "      <td>13400</td>\n",
              "    </tr>\n",
              "    <tr>\n",
              "      <th>Kill Bill: Vol. 2</th>\n",
              "      <th>30000000.0</th>\n",
              "      <th>Vivica A. Fox,Ambrosia Kelley,Michael Parks,James Parks,Jonathan Loughran,Michael Bowen,Kenji Ohba,Yoshiyuki Morishita,Jun Kunimura,Goro Daimon,Kazuki Kitamura,Akaji Maro,Shun Sugata,Sachiko Fujii,Ronnie Yoshiko Fujiyama</th>\n",
              "      <th>Action|Drama|Thriller</th>\n",
              "      <th>2004</th>\n",
              "      <td>11408</td>\n",
              "    </tr>\n",
              "    <tr>\n",
              "      <th>Natural Born Killers</th>\n",
              "      <th>34000000.0</th>\n",
              "      <th>Woody Harrelson,Juliette Lewis,Tom Sizemore,Rodney Dangerfield,Everett Quinton,Jared Harris,Pruitt Taylor Vince,Edie McClurg,Russell Means,Lanny Flaherty,O-Lan Jones,Robert Downey Jr.,Richard Lineback,Kirk Baltz,Ed White</th>\n",
              "      <th>Action|Crime|Thriller</th>\n",
              "      <th>1994</th>\n",
              "      <td>9208</td>\n",
              "    </tr>\n",
              "    <tr>\n",
              "      <th>Pulp Fiction</th>\n",
              "      <th>8000000.0</th>\n",
              "      <th>Tim Roth,Amanda Plummer,Laura Lovelace,John Travolta,Samuel L. Jackson,Phil LaMarr,Frank Whaley,Burr Steers,Bruce Willis,Ving Rhames,Paul Calderon,Bronagh Gallagher,Rosanna Arquette,Eric Stoltz,Uma Thurman</th>\n",
              "      <th>Comedy|Crime|Drama|Thriller</th>\n",
              "      <th>1994</th>\n",
              "      <td>31697</td>\n",
              "    </tr>\n",
              "    <tr>\n",
              "      <th>Reservoir Dogs</th>\n",
              "      <th>1200000.0</th>\n",
              "      <th>Harvey Keitel,Tim Roth,Michael Madsen,Chris Penn,Steve Buscemi,Lawrence Tierney,Randy Brooks,Kirk Baltz,Edward Bunker,Quentin Tarantino,Rich Turner,David Steen,Tony Cosmo,Stevo Polyi,Michael Sottile</th>\n",
              "      <th>Crime|Mystery|Thriller</th>\n",
              "      <th>1992</th>\n",
              "      <td>13998</td>\n",
              "    </tr>\n",
              "    <tr>\n",
              "      <th>True Romance</th>\n",
              "      <th>13000000.0</th>\n",
              "      <th>Christian Slater,Patricia Arquette,Dennis Hopper,Val Kilmer,Gary Oldman,Brad Pitt,Christopher Walken,Bronson Pinchot,Samuel L. Jackson,Michael Rapaport,Saul Rubinek,Conchata Ferrell,James Gandolfini,Anna Thomson,Victor Argo</th>\n",
              "      <th>Crime|Thriller</th>\n",
              "      <th>1993</th>\n",
              "      <td>6057</td>\n",
              "    </tr>\n",
              "  </tbody>\n",
              "</table>\n",
              "</div>"
            ],
            "text/plain": [
              "                                                                                                                                  rating\n",
              "title                 budget_USD  title_cast                                         genres                                 year        \n",
              "Death Proof           0.0         Kurt Russell,Zoë Bell,Rosario Dawson,Vanessa Fe... Action|Adventure|Crime|Horror|Thriller 2007    1793\n",
              "Django Unchained      100000000.0 Jamie Foxx,Christoph Waltz,Leonardo DiCaprio,Ke... Action|Drama|Western                   2012    8193\n",
              "Inglourious Basterds  70000000.0  Brad Pitt,Mélanie Laurent,Christoph Waltz,Eli R... Action|Drama|War                       2009    9272\n",
              "Jackie Brown          12000000.0  Pam Grier,Samuel L. Jackson,Robert Forster,Brid... Crime|Drama|Thriller                   1997    4893\n",
              "Kill Bill: Vol. 1     30000000.0  Uma Thurman,Lucy Liu,Vivica A. Fox,Daryl Hannah... Action|Crime|Thriller                  2003   13400\n",
              "Kill Bill: Vol. 2     30000000.0  Vivica A. Fox,Ambrosia Kelley,Michael Parks,Jam... Action|Drama|Thriller                  2004   11408\n",
              "Natural Born Killers  34000000.0  Woody Harrelson,Juliette Lewis,Tom Sizemore,Rod... Action|Crime|Thriller                  1994    9208\n",
              "Pulp Fiction          8000000.0   Tim Roth,Amanda Plummer,Laura Lovelace,John Tra... Comedy|Crime|Drama|Thriller            1994   31697\n",
              "Reservoir Dogs        1200000.0   Harvey Keitel,Tim Roth,Michael Madsen,Chris Pen... Crime|Mystery|Thriller                 1992   13998\n",
              "True Romance          13000000.0  Christian Slater,Patricia Arquette,Dennis Hoppe... Crime|Thriller                         1993    6057"
            ]
          },
          "metadata": {
            "tags": []
          },
          "execution_count": 245
        }
      ]
    },
    {
      "cell_type": "code",
      "metadata": {
        "id": "qyNMO3EmbzOP"
      },
      "source": [
        "imdb_movies = pd.merge(imdb, df_movies, on='movieId', how='inner')"
      ],
      "execution_count": 246,
      "outputs": []
    },
    {
      "cell_type": "code",
      "metadata": {
        "id": "FeZZS8TacAII"
      },
      "source": [
        "imdb_movies.drop(['runtime', 'budget', 'currency', 'cast', 'cast_size', 'exchange_rate'], axis=1, inplace=True)"
      ],
      "execution_count": 247,
      "outputs": []
    },
    {
      "cell_type": "code",
      "metadata": {
        "colab": {
          "base_uri": "https://localhost:8080/",
          "height": 529
        },
        "id": "LJEYKZeya0Il",
        "outputId": "3da92a72-629f-49c6-8463-88f57100c508"
      },
      "source": [
        "Tarantino = imdb_movies[imdb_movies['director'] == \"Quentin Tarantino\"]\n",
        "Tarantino"
      ],
      "execution_count": 248,
      "outputs": [
        {
          "output_type": "execute_result",
          "data": {
            "text/html": [
              "<div>\n",
              "<style scoped>\n",
              "    .dataframe tbody tr th:only-of-type {\n",
              "        vertical-align: middle;\n",
              "    }\n",
              "\n",
              "    .dataframe tbody tr th {\n",
              "        vertical-align: top;\n",
              "    }\n",
              "\n",
              "    .dataframe thead th {\n",
              "        text-align: right;\n",
              "    }\n",
              "</style>\n",
              "<table border=\"1\" class=\"dataframe\">\n",
              "  <thead>\n",
              "    <tr style=\"text-align: right;\">\n",
              "      <th></th>\n",
              "      <th>movieId</th>\n",
              "      <th>title_cast</th>\n",
              "      <th>director</th>\n",
              "      <th>plot_keywords</th>\n",
              "      <th>budget_USD</th>\n",
              "      <th>title</th>\n",
              "      <th>genres</th>\n",
              "      <th>year</th>\n",
              "    </tr>\n",
              "  </thead>\n",
              "  <tbody>\n",
              "    <tr>\n",
              "      <th>285</th>\n",
              "      <td>288</td>\n",
              "      <td>Woody Harrelson,Juliette Lewis,Tom Sizemore,Ro...</td>\n",
              "      <td>Quentin Tarantino</td>\n",
              "      <td>media|satire|controversy|woman on top</td>\n",
              "      <td>34000000.0</td>\n",
              "      <td>Natural Born Killers</td>\n",
              "      <td>Action|Crime|Thriller</td>\n",
              "      <td>1994</td>\n",
              "    </tr>\n",
              "    <tr>\n",
              "      <th>292</th>\n",
              "      <td>296</td>\n",
              "      <td>Tim Roth,Amanda Plummer,Laura Lovelace,John Tr...</td>\n",
              "      <td>Quentin Tarantino</td>\n",
              "      <td>nonlinear timeline|overdose|drug overdose|bondage</td>\n",
              "      <td>8000000.0</td>\n",
              "      <td>Pulp Fiction</td>\n",
              "      <td>Comedy|Crime|Drama|Thriller</td>\n",
              "      <td>1994</td>\n",
              "    </tr>\n",
              "    <tr>\n",
              "      <th>549</th>\n",
              "      <td>555</td>\n",
              "      <td>Christian Slater,Patricia Arquette,Dennis Hopp...</td>\n",
              "      <td>Quentin Tarantino</td>\n",
              "      <td>drugs|cocaine|pimp|aspiring actor</td>\n",
              "      <td>13000000.0</td>\n",
              "      <td>True Romance</td>\n",
              "      <td>Crime|Thriller</td>\n",
              "      <td>1993</td>\n",
              "    </tr>\n",
              "    <tr>\n",
              "      <th>1062</th>\n",
              "      <td>1089</td>\n",
              "      <td>Harvey Keitel,Tim Roth,Michael Madsen,Chris Pe...</td>\n",
              "      <td>Quentin Tarantino</td>\n",
              "      <td>heist gone wrong|nonlinear timeline|robbery|gr...</td>\n",
              "      <td>1200000.0</td>\n",
              "      <td>Reservoir Dogs</td>\n",
              "      <td>Crime|Mystery|Thriller</td>\n",
              "      <td>1992</td>\n",
              "    </tr>\n",
              "    <tr>\n",
              "      <th>1663</th>\n",
              "      <td>1729</td>\n",
              "      <td>Pam Grier,Samuel L. Jackson,Robert Forster,Bri...</td>\n",
              "      <td>Quentin Tarantino</td>\n",
              "      <td>money|gun|flight attendant|gun dealer</td>\n",
              "      <td>12000000.0</td>\n",
              "      <td>Jackie Brown</td>\n",
              "      <td>Crime|Drama|Thriller</td>\n",
              "      <td>1997</td>\n",
              "    </tr>\n",
              "    <tr>\n",
              "      <th>6750</th>\n",
              "      <td>6874</td>\n",
              "      <td>Uma Thurman,Lucy Liu,Vivica A. Fox,Daryl Hanna...</td>\n",
              "      <td>Quentin Tarantino</td>\n",
              "      <td>revenge|bride|sword|female protagonist</td>\n",
              "      <td>30000000.0</td>\n",
              "      <td>Kill Bill: Vol. 1</td>\n",
              "      <td>Action|Crime|Thriller</td>\n",
              "      <td>2003</td>\n",
              "    </tr>\n",
              "    <tr>\n",
              "      <th>7298</th>\n",
              "      <td>7438</td>\n",
              "      <td>Vivica A. Fox,Ambrosia Kelley,Michael Parks,Ja...</td>\n",
              "      <td>Quentin Tarantino</td>\n",
              "      <td>bride|vengeance|female assassin|martial arts</td>\n",
              "      <td>30000000.0</td>\n",
              "      <td>Kill Bill: Vol. 2</td>\n",
              "      <td>Action|Drama|Thriller</td>\n",
              "      <td>2004</td>\n",
              "    </tr>\n",
              "    <tr>\n",
              "      <th>11624</th>\n",
              "      <td>53519</td>\n",
              "      <td>Kurt Russell,Zoë Bell,Rosario Dawson,Vanessa F...</td>\n",
              "      <td>Quentin Tarantino</td>\n",
              "      <td>camera shot of a woman's bare feet|psychopath|...</td>\n",
              "      <td>0.0</td>\n",
              "      <td>Death Proof</td>\n",
              "      <td>Action|Adventure|Crime|Horror|Thriller</td>\n",
              "      <td>2007</td>\n",
              "    </tr>\n",
              "    <tr>\n",
              "      <th>13215</th>\n",
              "      <td>68157</td>\n",
              "      <td>Brad Pitt,Mélanie Laurent,Christoph Waltz,Eli ...</td>\n",
              "      <td>Quentin Tarantino</td>\n",
              "      <td>revenge|nazi hunter|world war two|nazi</td>\n",
              "      <td>70000000.0</td>\n",
              "      <td>Inglourious Basterds</td>\n",
              "      <td>Action|Drama|War</td>\n",
              "      <td>2009</td>\n",
              "    </tr>\n",
              "    <tr>\n",
              "      <th>18879</th>\n",
              "      <td>99114</td>\n",
              "      <td>Jamie Foxx,Christoph Waltz,Leonardo DiCaprio,K...</td>\n",
              "      <td>Quentin Tarantino</td>\n",
              "      <td>racial vengeance|racial violence|historically ...</td>\n",
              "      <td>100000000.0</td>\n",
              "      <td>Django Unchained</td>\n",
              "      <td>Action|Drama|Western</td>\n",
              "      <td>2012</td>\n",
              "    </tr>\n",
              "  </tbody>\n",
              "</table>\n",
              "</div>"
            ],
            "text/plain": [
              "       movieId  ...  year\n",
              "285        288  ...  1994\n",
              "292        296  ...  1994\n",
              "549        555  ...  1993\n",
              "1062      1089  ...  1992\n",
              "1663      1729  ...  1997\n",
              "6750      6874  ...  2003\n",
              "7298      7438  ...  2004\n",
              "11624    53519  ...  2007\n",
              "13215    68157  ...  2009\n",
              "18879    99114  ...  2012\n",
              "\n",
              "[10 rows x 8 columns]"
            ]
          },
          "metadata": {
            "tags": []
          },
          "execution_count": 248
        }
      ]
    },
    {
      "cell_type": "code",
      "metadata": {
        "colab": {
          "base_uri": "https://localhost:8080/",
          "height": 241
        },
        "id": "PaDmzOLXc1YC",
        "outputId": "e956c21c-13fb-403c-d7b6-7b454e86254a"
      },
      "source": [
        "Cameron = imdb_movies[imdb_movies['director'] == \"James Cameron\"]\n",
        "Cameron"
      ],
      "execution_count": 249,
      "outputs": [
        {
          "output_type": "execute_result",
          "data": {
            "text/html": [
              "<div>\n",
              "<style scoped>\n",
              "    .dataframe tbody tr th:only-of-type {\n",
              "        vertical-align: middle;\n",
              "    }\n",
              "\n",
              "    .dataframe tbody tr th {\n",
              "        vertical-align: top;\n",
              "    }\n",
              "\n",
              "    .dataframe thead th {\n",
              "        text-align: right;\n",
              "    }\n",
              "</style>\n",
              "<table border=\"1\" class=\"dataframe\">\n",
              "  <thead>\n",
              "    <tr style=\"text-align: right;\">\n",
              "      <th></th>\n",
              "      <th>movieId</th>\n",
              "      <th>title_cast</th>\n",
              "      <th>director</th>\n",
              "      <th>plot_keywords</th>\n",
              "      <th>budget_USD</th>\n",
              "      <th>title</th>\n",
              "      <th>genres</th>\n",
              "      <th>year</th>\n",
              "    </tr>\n",
              "  </thead>\n",
              "  <tbody>\n",
              "    <tr>\n",
              "      <th>196</th>\n",
              "      <td>198</td>\n",
              "      <td>Ralph Fiennes,Angela Bassett,Juliette Lewis,To...</td>\n",
              "      <td>James Cameron</td>\n",
              "      <td>cyberpunk|virtual reality|murder|rape</td>\n",
              "      <td>42000000.0</td>\n",
              "      <td>Strange Days</td>\n",
              "      <td>Action|Crime|Drama|Mystery|Sci-Fi|Thriller</td>\n",
              "      <td>1995</td>\n",
              "    </tr>\n",
              "    <tr>\n",
              "      <th>581</th>\n",
              "      <td>589</td>\n",
              "      <td>Arnold Schwarzenegger,Linda Hamilton,Edward Fu...</td>\n",
              "      <td>James Cameron</td>\n",
              "      <td>time travel|liquid metal|future|sequel</td>\n",
              "      <td>102000000.0</td>\n",
              "      <td>Terminator 2: Judgment Day</td>\n",
              "      <td>Action|Sci-Fi</td>\n",
              "      <td>1991</td>\n",
              "    </tr>\n",
              "    <tr>\n",
              "      <th>1655</th>\n",
              "      <td>1721</td>\n",
              "      <td>Leonardo DiCaprio,Kate Winslet,Billy Zane,Kath...</td>\n",
              "      <td>James Cameron</td>\n",
              "      <td>iceberg|sailor's death|wet|wetness</td>\n",
              "      <td>200000000.0</td>\n",
              "      <td>Titanic</td>\n",
              "      <td>Drama|Romance</td>\n",
              "      <td>1997</td>\n",
              "    </tr>\n",
              "    <tr>\n",
              "      <th>14054</th>\n",
              "      <td>72998</td>\n",
              "      <td>Sam Worthington,Zoe Saldana,Sigourney Weaver,S...</td>\n",
              "      <td>James Cameron</td>\n",
              "      <td>spiritualism|paraplegic|marine|future</td>\n",
              "      <td>237000000.0</td>\n",
              "      <td>Avatar</td>\n",
              "      <td>Action|Adventure|Sci-Fi|IMAX</td>\n",
              "      <td>2009</td>\n",
              "    </tr>\n",
              "  </tbody>\n",
              "</table>\n",
              "</div>"
            ],
            "text/plain": [
              "       movieId  ...  year\n",
              "196        198  ...  1995\n",
              "581        589  ...  1991\n",
              "1655      1721  ...  1997\n",
              "14054    72998  ...  2009\n",
              "\n",
              "[4 rows x 8 columns]"
            ]
          },
          "metadata": {
            "tags": []
          },
          "execution_count": 249
        }
      ]
    },
    {
      "cell_type": "code",
      "metadata": {
        "colab": {
          "base_uri": "https://localhost:8080/",
          "height": 433
        },
        "id": "z88_-CV_diek",
        "outputId": "8fb4dff4-ddc5-402b-f2a7-b9fd2c8cacdb"
      },
      "source": [
        "Wachowski = imdb_movies[imdb_movies['director'] == \"Lilly Wachowski\"]\n",
        "Wachowski"
      ],
      "execution_count": 250,
      "outputs": [
        {
          "output_type": "execute_result",
          "data": {
            "text/html": [
              "<div>\n",
              "<style scoped>\n",
              "    .dataframe tbody tr th:only-of-type {\n",
              "        vertical-align: middle;\n",
              "    }\n",
              "\n",
              "    .dataframe tbody tr th {\n",
              "        vertical-align: top;\n",
              "    }\n",
              "\n",
              "    .dataframe thead th {\n",
              "        text-align: right;\n",
              "    }\n",
              "</style>\n",
              "<table border=\"1\" class=\"dataframe\">\n",
              "  <thead>\n",
              "    <tr style=\"text-align: right;\">\n",
              "      <th></th>\n",
              "      <th>movieId</th>\n",
              "      <th>title_cast</th>\n",
              "      <th>director</th>\n",
              "      <th>plot_keywords</th>\n",
              "      <th>budget_USD</th>\n",
              "      <th>title</th>\n",
              "      <th>genres</th>\n",
              "      <th>year</th>\n",
              "    </tr>\n",
              "  </thead>\n",
              "  <tbody>\n",
              "    <tr>\n",
              "      <th>22</th>\n",
              "      <td>23</td>\n",
              "      <td>Sylvester Stallone,Antonio Banderas,Julianne M...</td>\n",
              "      <td>Lilly Wachowski</td>\n",
              "      <td>assassin|rival|assassination|computer hacker</td>\n",
              "      <td>50000000.0</td>\n",
              "      <td>Assassins</td>\n",
              "      <td>Action|Crime|Thriller</td>\n",
              "      <td>1995</td>\n",
              "    </tr>\n",
              "    <tr>\n",
              "      <th>847</th>\n",
              "      <td>866</td>\n",
              "      <td>Jennifer Tilly,Gina Gershon,Joe Pantoliano,Joh...</td>\n",
              "      <td>Lilly Wachowski</td>\n",
              "      <td>lesbian|mafia|stolen money|ex convict</td>\n",
              "      <td>4500000.0</td>\n",
              "      <td>Bound</td>\n",
              "      <td>Crime|Drama|Romance|Thriller</td>\n",
              "      <td>1996</td>\n",
              "    </tr>\n",
              "    <tr>\n",
              "      <th>2479</th>\n",
              "      <td>2571</td>\n",
              "      <td>Keanu Reeves,Laurence Fishburne,Carrie-Anne Mo...</td>\n",
              "      <td>Lilly Wachowski</td>\n",
              "      <td>simulated reality|artificial reality|war with ...</td>\n",
              "      <td>63000000.0</td>\n",
              "      <td>Matrix, The</td>\n",
              "      <td>Action|Sci-Fi|Thriller</td>\n",
              "      <td>1999</td>\n",
              "    </tr>\n",
              "    <tr>\n",
              "      <th>6246</th>\n",
              "      <td>6365</td>\n",
              "      <td>Ray Anthony,Christine Anu,Andy Arness,Alima As...</td>\n",
              "      <td>Lilly Wachowski</td>\n",
              "      <td>oracle|cult film|prophecy|alternate reality</td>\n",
              "      <td>150000000.0</td>\n",
              "      <td>Matrix Reloaded, The</td>\n",
              "      <td>Action|Adventure|Sci-Fi|Thriller|IMAX</td>\n",
              "      <td>2003</td>\n",
              "    </tr>\n",
              "    <tr>\n",
              "      <th>6808</th>\n",
              "      <td>6934</td>\n",
              "      <td>Mary Alice,Tanveer K. Atwal,Helmut Bakaitis,Ka...</td>\n",
              "      <td>Lilly Wachowski</td>\n",
              "      <td>2200s|good versus evil|villain|male protagonist</td>\n",
              "      <td>150000000.0</td>\n",
              "      <td>Matrix Revolutions, The</td>\n",
              "      <td>Action|Adventure|Sci-Fi|Thriller|IMAX</td>\n",
              "      <td>2003</td>\n",
              "    </tr>\n",
              "    <tr>\n",
              "      <th>10661</th>\n",
              "      <td>44191</td>\n",
              "      <td>Natalie Portman,Hugo Weaving,Stephen Rea,Steph...</td>\n",
              "      <td>Lilly Wachowski</td>\n",
              "      <td>fascist|revolution|right wing government|freedom</td>\n",
              "      <td>54000000.0</td>\n",
              "      <td>V for Vendetta</td>\n",
              "      <td>Action|Sci-Fi|Thriller|IMAX</td>\n",
              "      <td>2006</td>\n",
              "    </tr>\n",
              "    <tr>\n",
              "      <th>12258</th>\n",
              "      <td>59037</td>\n",
              "      <td>Emile Hirsch,Nicholas Elia,Susan Sarandon,Meli...</td>\n",
              "      <td>Lilly Wachowski</td>\n",
              "      <td>based on cartoon|gadget car|conspiracy|based o...</td>\n",
              "      <td>120000000.0</td>\n",
              "      <td>Speed Racer</td>\n",
              "      <td>Action|Children|Sci-Fi|IMAX</td>\n",
              "      <td>2008</td>\n",
              "    </tr>\n",
              "    <tr>\n",
              "      <th>21654</th>\n",
              "      <td>113345</td>\n",
              "      <td>Mila Kunis,Channing Tatum,Sean Bean,Eddie Redm...</td>\n",
              "      <td>Lilly Wachowski</td>\n",
              "      <td>space opera|bees|planet earth|planet</td>\n",
              "      <td>176000000.0</td>\n",
              "      <td>Jupiter Ascending</td>\n",
              "      <td>Action|Adventure|Sci-Fi</td>\n",
              "      <td>2015</td>\n",
              "    </tr>\n",
              "  </tbody>\n",
              "</table>\n",
              "</div>"
            ],
            "text/plain": [
              "       movieId  ...  year\n",
              "22          23  ...  1995\n",
              "847        866  ...  1996\n",
              "2479      2571  ...  1999\n",
              "6246      6365  ...  2003\n",
              "6808      6934  ...  2003\n",
              "10661    44191  ...  2006\n",
              "12258    59037  ...  2008\n",
              "21654   113345  ...  2015\n",
              "\n",
              "[8 rows x 8 columns]"
            ]
          },
          "metadata": {
            "tags": []
          },
          "execution_count": 250
        }
      ]
    },
    {
      "cell_type": "code",
      "metadata": {
        "colab": {
          "base_uri": "https://localhost:8080/",
          "height": 433
        },
        "id": "qLCu-HGMd_vI",
        "outputId": "fd242209-3df3-4da0-88cc-15d92ac6a34f"
      },
      "source": [
        "Coen = imdb_movies[imdb_movies['director'] == \"Ethan Coen\"]\n",
        "Coen"
      ],
      "execution_count": 251,
      "outputs": [
        {
          "output_type": "execute_result",
          "data": {
            "text/html": [
              "<div>\n",
              "<style scoped>\n",
              "    .dataframe tbody tr th:only-of-type {\n",
              "        vertical-align: middle;\n",
              "    }\n",
              "\n",
              "    .dataframe tbody tr th {\n",
              "        vertical-align: top;\n",
              "    }\n",
              "\n",
              "    .dataframe thead th {\n",
              "        text-align: right;\n",
              "    }\n",
              "</style>\n",
              "<table border=\"1\" class=\"dataframe\">\n",
              "  <thead>\n",
              "    <tr style=\"text-align: right;\">\n",
              "      <th></th>\n",
              "      <th>movieId</th>\n",
              "      <th>title_cast</th>\n",
              "      <th>director</th>\n",
              "      <th>plot_keywords</th>\n",
              "      <th>budget_USD</th>\n",
              "      <th>title</th>\n",
              "      <th>genres</th>\n",
              "      <th>year</th>\n",
              "    </tr>\n",
              "  </thead>\n",
              "  <tbody>\n",
              "    <tr>\n",
              "      <th>466</th>\n",
              "      <td>471</td>\n",
              "      <td>Tim Robbins,Jennifer Jason Leigh,Paul Newman,C...</td>\n",
              "      <td>Ethan Coen</td>\n",
              "      <td>art deco|reference to oklahoma the stage music...</td>\n",
              "      <td>40000000.0</td>\n",
              "      <td>Hudsucker Proxy, The</td>\n",
              "      <td>Comedy</td>\n",
              "      <td>1994</td>\n",
              "    </tr>\n",
              "    <tr>\n",
              "      <th>600</th>\n",
              "      <td>608</td>\n",
              "      <td>William H. Macy,Steve Buscemi,Peter Stormare,K...</td>\n",
              "      <td>Ethan Coen</td>\n",
              "      <td>black comedy|botched crime|neo noir|americana</td>\n",
              "      <td>7000000.0</td>\n",
              "      <td>Fargo</td>\n",
              "      <td>Comedy|Crime|Drama|Thriller</td>\n",
              "      <td>1996</td>\n",
              "    </tr>\n",
              "    <tr>\n",
              "      <th>1212</th>\n",
              "      <td>1245</td>\n",
              "      <td>Gabriel Byrne,Marcia Gay Harden,John Turturro,...</td>\n",
              "      <td>Ethan Coen</td>\n",
              "      <td>irish mob|loyalty|organized crime|betrayal</td>\n",
              "      <td>14000000.0</td>\n",
              "      <td>Miller's Crossing</td>\n",
              "      <td>Crime|Drama|Film-Noir|Thriller</td>\n",
              "      <td>1990</td>\n",
              "    </tr>\n",
              "    <tr>\n",
              "      <th>1666</th>\n",
              "      <td>1732</td>\n",
              "      <td>Jeff Bridges,John Goodman,Julianne Moore,Steve...</td>\n",
              "      <td>Ethan Coen</td>\n",
              "      <td>rug|nihilism|pornographer|bowling alley</td>\n",
              "      <td>15000000.0</td>\n",
              "      <td>Big Lebowski, The</td>\n",
              "      <td>Comedy|Crime</td>\n",
              "      <td>1998</td>\n",
              "    </tr>\n",
              "    <tr>\n",
              "      <th>3922</th>\n",
              "      <td>4027</td>\n",
              "      <td>George Clooney,John Turturro,Tim Blake Nelson,...</td>\n",
              "      <td>Ethan Coen</td>\n",
              "      <td>greek mythology|slapstick comedy|odysseus|neo ...</td>\n",
              "      <td>26000000.0</td>\n",
              "      <td>O Brother, Where Art Thou?</td>\n",
              "      <td>Adventure|Comedy|Crime</td>\n",
              "      <td>2000</td>\n",
              "    </tr>\n",
              "    <tr>\n",
              "      <th>4774</th>\n",
              "      <td>4881</td>\n",
              "      <td>Billy Bob Thornton,Frances McDormand,Michael B...</td>\n",
              "      <td>Ethan Coen</td>\n",
              "      <td>neo noir|chain smoking|santa rosa california|p...</td>\n",
              "      <td>20000000.0</td>\n",
              "      <td>Man Who Wasn't There, The</td>\n",
              "      <td>Crime|Drama</td>\n",
              "      <td>2001</td>\n",
              "    </tr>\n",
              "    <tr>\n",
              "      <th>6317</th>\n",
              "      <td>6440</td>\n",
              "      <td>John Turturro,John Goodman,Judy Davis,Michael ...</td>\n",
              "      <td>Ethan Coen</td>\n",
              "      <td>writer's block|magical realism|film industry|k...</td>\n",
              "      <td>9000000.0</td>\n",
              "      <td>Barton Fink</td>\n",
              "      <td>Drama|Thriller</td>\n",
              "      <td>1991</td>\n",
              "    </tr>\n",
              "    <tr>\n",
              "      <th>6749</th>\n",
              "      <td>6873</td>\n",
              "      <td>George Clooney,Catherine Zeta-Jones,Geoffrey R...</td>\n",
              "      <td>Ethan Coen</td>\n",
              "      <td>reference to henry viii|woman wears eyeglasses...</td>\n",
              "      <td>60000000.0</td>\n",
              "      <td>Intolerable Cruelty</td>\n",
              "      <td>Comedy|Romance</td>\n",
              "      <td>2003</td>\n",
              "    </tr>\n",
              "  </tbody>\n",
              "</table>\n",
              "</div>"
            ],
            "text/plain": [
              "      movieId  ...  year\n",
              "466       471  ...  1994\n",
              "600       608  ...  1996\n",
              "1212     1245  ...  1990\n",
              "1666     1732  ...  1998\n",
              "3922     4027  ...  2000\n",
              "4774     4881  ...  2001\n",
              "6317     6440  ...  1991\n",
              "6749     6873  ...  2003\n",
              "\n",
              "[8 rows x 8 columns]"
            ]
          },
          "metadata": {
            "tags": []
          },
          "execution_count": 251
        }
      ]
    }
  ]
}